{
  "nbformat": 4,
  "nbformat_minor": 0,
  "metadata": {
    "colab": {
      "provenance": [],
      "gpuType": "T4",
      "authorship_tag": "ABX9TyOqXC8JnpEm0RwvKgzUZ0v1",
      "include_colab_link": true
    },
    "kernelspec": {
      "name": "python3",
      "display_name": "Python 3"
    },
    "language_info": {
      "name": "python"
    },
    "accelerator": "GPU"
  },
  "cells": [
    {
      "cell_type": "markdown",
      "metadata": {
        "id": "view-in-github",
        "colab_type": "text"
      },
      "source": [
        "<a href=\"https://colab.research.google.com/github/Violet-WM/model_training/blob/main/yolo_basics.ipynb\" target=\"_parent\"><img src=\"https://colab.research.google.com/assets/colab-badge.svg\" alt=\"Open In Colab\"/></a>"
      ]
    },
    {
      "cell_type": "code",
      "execution_count": null,
      "metadata": {
        "id": "yLLK7WbAOCfB"
      },
      "outputs": [],
      "source": [
        "!pip install ultralytics &>/dev/null"
      ]
    },
    {
      "cell_type": "code",
      "source": [
        "from ultralytics import YOLO"
      ],
      "metadata": {
        "colab": {
          "base_uri": "https://localhost:8080/"
        },
        "id": "h1YYpYZGOe9F",
        "outputId": "696b1210-8ed6-4466-fc0c-febb1f41fdad"
      },
      "execution_count": null,
      "outputs": [
        {
          "output_type": "stream",
          "name": "stdout",
          "text": [
            "Creating new Ultralytics Settings v0.0.6 file ✅ \n",
            "View Ultralytics Settings with 'yolo settings' or at '/root/.config/Ultralytics/settings.json'\n",
            "Update Settings with 'yolo settings key=value', i.e. 'yolo settings runs_dir=path/to/dir'. For help see https://docs.ultralytics.com/quickstart/#ultralytics-settings.\n"
          ]
        }
      ]
    },
    {
      "cell_type": "code",
      "source": [
        "model = YOLO('yolo11m.pt')"
      ],
      "metadata": {
        "colab": {
          "base_uri": "https://localhost:8080/"
        },
        "id": "lUPzXrOCOfJR",
        "outputId": "3d418cd7-1556-434c-e315-8156b1e55da2"
      },
      "execution_count": null,
      "outputs": [
        {
          "output_type": "stream",
          "name": "stdout",
          "text": [
            "Downloading https://github.com/ultralytics/assets/releases/download/v8.3.0/yolo11m.pt to 'yolo11m.pt'...\n"
          ]
        },
        {
          "output_type": "stream",
          "name": "stderr",
          "text": [
            "100%|██████████| 38.8M/38.8M [00:00<00:00, 371MB/s]\n"
          ]
        }
      ]
    },
    {
      "cell_type": "code",
      "source": [
        "import os\n",
        "\n",
        "os.environ['KAGGLE_USERNAME'] = 'violetmuiruri'\n",
        "os.environ['KAGGLE_KEY'] = '613c2f30878e503b5fa74ea34e937f5e'"
      ],
      "metadata": {
        "id": "AT4EUWtpR-z1"
      },
      "execution_count": null,
      "outputs": []
    },
    {
      "cell_type": "code",
      "source": [
        "import os\n",
        "from google.colab import userdata\n",
        "os.environ['KAGGLE_USERNAME'] = userdata.get('KAGGLE_USERNAME')\n",
        "os.environ['KAGGLE_KEY'] = userdata.get('KAGGLE_KEY')"
      ],
      "metadata": {
        "id": "cf4g1XHCOfNB"
      },
      "execution_count": null,
      "outputs": []
    },
    {
      "cell_type": "code",
      "source": [
        "!kaggle datasets download kipngetichv/mugie-annotation-batched"
      ],
      "metadata": {
        "colab": {
          "base_uri": "https://localhost:8080/"
        },
        "id": "XqAbR2yfR9hg",
        "outputId": "0446cde7-32d9-4bb8-f646-41316588dabb"
      },
      "execution_count": null,
      "outputs": [
        {
          "output_type": "stream",
          "name": "stdout",
          "text": [
            "Dataset URL: https://www.kaggle.com/datasets/kipngetichv/mugie-annotation-batched\n",
            "License(s): CC0-1.0\n",
            "Downloading mugie-annotation-batched.zip to /content\n",
            "100% 1.79G/1.79G [01:46<00:00, 21.3MB/s]\n",
            "100% 1.79G/1.79G [01:46<00:00, 18.0MB/s]\n"
          ]
        }
      ]
    },
    {
      "cell_type": "code",
      "source": [
        "!mkdir mugie-annotation\n",
        "!unzip -q mugie-annotation-batched.zip -d mugie-annotation"
      ],
      "metadata": {
        "id": "UPzbc8yXXSZa"
      },
      "execution_count": null,
      "outputs": []
    },
    {
      "cell_type": "code",
      "source": [
        "os.makedirs ('dataset/train/images', exist_ok=True)\n",
        "os.makedirs ('dataset/val/images', exist_ok=True)\n",
        "os.makedirs ('dataset/train/labels', exist_ok=True)\n",
        "os.makedirs ('dataset/val/labels', exist_ok=True)"
      ],
      "metadata": {
        "id": "jdSAkeTvXSSd"
      },
      "execution_count": null,
      "outputs": []
    },
    {
      "cell_type": "code",
      "source": [
        "!cp -r \"/content/mugie-annotation/April 2023-MC001-Batch-1/images\" /content/dataset/train/"
      ],
      "metadata": {
        "id": "5rvZ6bkwXSPG"
      },
      "execution_count": null,
      "outputs": []
    },
    {
      "cell_type": "code",
      "source": [
        "!cp -r \"/content/mugie-annotation/April 2023-MC001-Batch-1/megadetector-inferences\" /content/dataset/train"
      ],
      "metadata": {
        "id": "7sXh2O_5XSLD"
      },
      "execution_count": null,
      "outputs": []
    },
    {
      "cell_type": "code",
      "source": [
        "import os\n",
        "os.rename ('/content/dataset/train/megadetector-inferences', '/content/dataset/train/labels')"
      ],
      "metadata": {
        "id": "eFMwlMkLR9ce"
      },
      "execution_count": null,
      "outputs": []
    },
    {
      "cell_type": "code",
      "source": [
        "!cp -r \"/content/mugie-annotation/April 2023-MC001-Batch-2/images\" /content/dataset/val/"
      ],
      "metadata": {
        "id": "CgQfWoVhedNG"
      },
      "execution_count": null,
      "outputs": []
    },
    {
      "cell_type": "code",
      "source": [
        "!cp -r \"/content/mugie-annotation/April 2023-MC001-Batch-2/megadetector-inferences\" /content/dataset/val"
      ],
      "metadata": {
        "id": "jAIXAWjpedCj"
      },
      "execution_count": null,
      "outputs": []
    },
    {
      "cell_type": "code",
      "source": [
        "os.rename ('/content/dataset/val/megadetector-inferences', '/content/dataset/val/labels')"
      ],
      "metadata": {
        "id": "hQUzRCJrec9R"
      },
      "execution_count": null,
      "outputs": []
    },
    {
      "cell_type": "markdown",
      "source": [
        "## Training"
      ],
      "metadata": {
        "id": "o2aIOCIAf4xZ"
      }
    },
    {
      "cell_type": "code",
      "source": [
        "%%writefile dataset.yaml\n",
        "path: /content/dataset\n",
        "train: train\n",
        "val: val\n",
        "names: [grevys_zebra, plains_zebra, other]"
      ],
      "metadata": {
        "colab": {
          "base_uri": "https://localhost:8080/"
        },
        "id": "knFAfFnoec42",
        "outputId": "c9d7a1c7-4beb-4897-9612-ee44acd1d682"
      },
      "execution_count": null,
      "outputs": [
        {
          "output_type": "stream",
          "name": "stdout",
          "text": [
            "Writing dataset.yaml\n"
          ]
        }
      ]
    },
    {
      "cell_type": "code",
      "source": [
        "model.train(data='dataset.yaml',name='test-training')"
      ],
      "metadata": {
        "colab": {
          "base_uri": "https://localhost:8080/"
        },
        "id": "IAdQdppaOfQo",
        "outputId": "670ae2cd-f304-4352-ab9d-df70431a26b6"
      },
      "execution_count": null,
      "outputs": [
        {
          "output_type": "stream",
          "name": "stdout",
          "text": [
            "Ultralytics 8.3.27 🚀 Python-3.10.12 torch-2.4.1+cu121 CUDA:0 (Tesla T4, 15102MiB)\n",
            "\u001b[34m\u001b[1mengine/trainer: \u001b[0mtask=detect, mode=train, model=yolo11m.pt, data=dataset.yaml, epochs=100, time=None, patience=100, batch=16, imgsz=640, save=True, save_period=-1, cache=False, device=None, workers=8, project=None, name=test-training, exist_ok=False, pretrained=True, optimizer=auto, verbose=True, seed=0, deterministic=True, single_cls=False, rect=False, cos_lr=False, close_mosaic=10, resume=False, amp=True, fraction=1.0, profile=False, freeze=None, multi_scale=False, overlap_mask=True, mask_ratio=4, dropout=0.0, val=True, split=val, save_json=False, save_hybrid=False, conf=None, iou=0.7, max_det=300, half=False, dnn=False, plots=True, source=None, vid_stride=1, stream_buffer=False, visualize=False, augment=False, agnostic_nms=False, classes=None, retina_masks=False, embed=None, show=False, save_frames=False, save_txt=False, save_conf=False, save_crop=False, show_labels=True, show_conf=True, show_boxes=True, line_width=None, format=torchscript, keras=False, optimize=False, int8=False, dynamic=False, simplify=True, opset=None, workspace=4, nms=False, lr0=0.01, lrf=0.01, momentum=0.937, weight_decay=0.0005, warmup_epochs=3.0, warmup_momentum=0.8, warmup_bias_lr=0.1, box=7.5, cls=0.5, dfl=1.5, pose=12.0, kobj=1.0, label_smoothing=0.0, nbs=64, hsv_h=0.015, hsv_s=0.7, hsv_v=0.4, degrees=0.0, translate=0.1, scale=0.5, shear=0.0, perspective=0.0, flipud=0.0, fliplr=0.5, bgr=0.0, mosaic=1.0, mixup=0.0, copy_paste=0.0, copy_paste_mode=flip, auto_augment=randaugment, erasing=0.4, crop_fraction=1.0, cfg=None, tracker=botsort.yaml, save_dir=runs/detect/test-training\n",
            "Downloading https://ultralytics.com/assets/Arial.ttf to '/root/.config/Ultralytics/Arial.ttf'...\n"
          ]
        },
        {
          "output_type": "stream",
          "name": "stderr",
          "text": [
            "100%|██████████| 755k/755k [00:00<00:00, 107MB/s]\n"
          ]
        },
        {
          "output_type": "stream",
          "name": "stdout",
          "text": [
            "Overriding model.yaml nc=80 with nc=3\n",
            "\n",
            "                   from  n    params  module                                       arguments                     \n",
            "  0                  -1  1      1856  ultralytics.nn.modules.conv.Conv             [3, 64, 3, 2]                 \n",
            "  1                  -1  1     73984  ultralytics.nn.modules.conv.Conv             [64, 128, 3, 2]               \n",
            "  2                  -1  1    111872  ultralytics.nn.modules.block.C3k2            [128, 256, 1, True, 0.25]     \n",
            "  3                  -1  1    590336  ultralytics.nn.modules.conv.Conv             [256, 256, 3, 2]              \n",
            "  4                  -1  1    444928  ultralytics.nn.modules.block.C3k2            [256, 512, 1, True, 0.25]     \n",
            "  5                  -1  1   2360320  ultralytics.nn.modules.conv.Conv             [512, 512, 3, 2]              \n",
            "  6                  -1  1   1380352  ultralytics.nn.modules.block.C3k2            [512, 512, 1, True]           \n",
            "  7                  -1  1   2360320  ultralytics.nn.modules.conv.Conv             [512, 512, 3, 2]              \n",
            "  8                  -1  1   1380352  ultralytics.nn.modules.block.C3k2            [512, 512, 1, True]           \n",
            "  9                  -1  1    656896  ultralytics.nn.modules.block.SPPF            [512, 512, 5]                 \n",
            " 10                  -1  1    990976  ultralytics.nn.modules.block.C2PSA           [512, 512, 1]                 \n",
            " 11                  -1  1         0  torch.nn.modules.upsampling.Upsample         [None, 2, 'nearest']          \n",
            " 12             [-1, 6]  1         0  ultralytics.nn.modules.conv.Concat           [1]                           \n",
            " 13                  -1  1   1642496  ultralytics.nn.modules.block.C3k2            [1024, 512, 1, True]          \n",
            " 14                  -1  1         0  torch.nn.modules.upsampling.Upsample         [None, 2, 'nearest']          \n",
            " 15             [-1, 4]  1         0  ultralytics.nn.modules.conv.Concat           [1]                           \n",
            " 16                  -1  1    542720  ultralytics.nn.modules.block.C3k2            [1024, 256, 1, True]          \n",
            " 17                  -1  1    590336  ultralytics.nn.modules.conv.Conv             [256, 256, 3, 2]              \n",
            " 18            [-1, 13]  1         0  ultralytics.nn.modules.conv.Concat           [1]                           \n",
            " 19                  -1  1   1511424  ultralytics.nn.modules.block.C3k2            [768, 512, 1, True]           \n",
            " 20                  -1  1   2360320  ultralytics.nn.modules.conv.Conv             [512, 512, 3, 2]              \n",
            " 21            [-1, 10]  1         0  ultralytics.nn.modules.conv.Concat           [1]                           \n",
            " 22                  -1  1   1642496  ultralytics.nn.modules.block.C3k2            [1024, 512, 1, True]          \n",
            " 23        [16, 19, 22]  1   1413337  ultralytics.nn.modules.head.Detect           [3, [256, 512, 512]]          \n",
            "YOLO11m summary: 409 layers, 20,055,321 parameters, 20,055,305 gradients, 68.2 GFLOPs\n",
            "\n",
            "Transferred 643/649 items from pretrained weights\n",
            "\u001b[34m\u001b[1mTensorBoard: \u001b[0mStart with 'tensorboard --logdir runs/detect/test-training', view at http://localhost:6006/\n",
            "Freezing layer 'model.23.dfl.conv.weight'\n",
            "\u001b[34m\u001b[1mAMP: \u001b[0mrunning Automatic Mixed Precision (AMP) checks...\n",
            "Downloading https://github.com/ultralytics/assets/releases/download/v8.3.0/yolo11n.pt to 'yolo11n.pt'...\n"
          ]
        },
        {
          "output_type": "stream",
          "name": "stderr",
          "text": [
            "100%|██████████| 5.35M/5.35M [00:00<00:00, 318MB/s]\n"
          ]
        },
        {
          "output_type": "stream",
          "name": "stdout",
          "text": [
            "\u001b[34m\u001b[1mAMP: \u001b[0mchecks passed ✅\n"
          ]
        },
        {
          "output_type": "stream",
          "name": "stderr",
          "text": [
            "\u001b[34m\u001b[1mtrain: \u001b[0mScanning /content/dataset/train/labels... 97 images, 3 backgrounds, 0 corrupt: 100%|██████████| 100/100 [00:00<00:00, 1624.65it/s]"
          ]
        },
        {
          "output_type": "stream",
          "name": "stdout",
          "text": [
            "\u001b[34m\u001b[1mtrain: \u001b[0mNew cache created: /content/dataset/train/labels.cache\n"
          ]
        },
        {
          "output_type": "stream",
          "name": "stderr",
          "text": [
            "\n"
          ]
        },
        {
          "output_type": "stream",
          "name": "stdout",
          "text": [
            "\u001b[34m\u001b[1malbumentations: \u001b[0mBlur(p=0.01, blur_limit=(3, 7)), MedianBlur(p=0.01, blur_limit=(3, 7)), ToGray(p=0.01, num_output_channels=3, method='weighted_average'), CLAHE(p=0.01, clip_limit=(1, 4.0), tile_grid_size=(8, 8))\n"
          ]
        },
        {
          "output_type": "stream",
          "name": "stderr",
          "text": [
            "/usr/local/lib/python3.10/dist-packages/albumentations/__init__.py:13: UserWarning: A new version of Albumentations is available: 1.4.21 (you have 1.4.15). Upgrade using: pip install -U albumentations. To disable automatic update checks, set the environment variable NO_ALBUMENTATIONS_UPDATE to 1.\n",
            "  check_for_updates()\n",
            "/usr/lib/python3.10/multiprocessing/popen_fork.py:66: RuntimeWarning: os.fork() was called. os.fork() is incompatible with multithreaded code, and JAX is multithreaded, so this will likely lead to a deadlock.\n",
            "  self.pid = os.fork()\n",
            "\u001b[34m\u001b[1mval: \u001b[0mScanning /content/dataset/val/labels... 94 images, 6 backgrounds, 0 corrupt: 100%|██████████| 100/100 [00:00<00:00, 1663.61it/s]"
          ]
        },
        {
          "output_type": "stream",
          "name": "stdout",
          "text": [
            "\u001b[34m\u001b[1mval: \u001b[0mNew cache created: /content/dataset/val/labels.cache\n"
          ]
        },
        {
          "output_type": "stream",
          "name": "stderr",
          "text": [
            "\n"
          ]
        },
        {
          "output_type": "stream",
          "name": "stdout",
          "text": [
            "Plotting labels to runs/detect/test-training/labels.jpg... \n",
            "\u001b[34m\u001b[1moptimizer:\u001b[0m 'optimizer=auto' found, ignoring 'lr0=0.01' and 'momentum=0.937' and determining best 'optimizer', 'lr0' and 'momentum' automatically... \n",
            "\u001b[34m\u001b[1moptimizer:\u001b[0m AdamW(lr=0.001429, momentum=0.9) with parameter groups 106 weight(decay=0.0), 113 weight(decay=0.0005), 112 bias(decay=0.0)\n",
            "\u001b[34m\u001b[1mTensorBoard: \u001b[0mmodel graph visualization added ✅\n",
            "Image sizes 640 train, 640 val\n",
            "Using 2 dataloader workers\n",
            "Logging results to \u001b[1mruns/detect/test-training\u001b[0m\n",
            "Starting training for 100 epochs...\n",
            "\n",
            "      Epoch    GPU_mem   box_loss   cls_loss   dfl_loss  Instances       Size\n"
          ]
        },
        {
          "output_type": "stream",
          "name": "stderr",
          "text": [
            "      1/100      8.77G     0.8355      3.901      1.096         14        640: 100%|██████████| 7/7 [00:06<00:00,  1.03it/s]\n",
            "                 Class     Images  Instances      Box(P          R      mAP50  mAP50-95): 100%|██████████| 4/4 [00:03<00:00,  1.02it/s]"
          ]
        },
        {
          "output_type": "stream",
          "name": "stdout",
          "text": [
            "                   all        100        177      0.916      0.615      0.754      0.567\n"
          ]
        },
        {
          "output_type": "stream",
          "name": "stderr",
          "text": [
            "\n"
          ]
        },
        {
          "output_type": "stream",
          "name": "stdout",
          "text": [
            "\n",
            "      Epoch    GPU_mem   box_loss   cls_loss   dfl_loss  Instances       Size\n"
          ]
        },
        {
          "output_type": "stream",
          "name": "stderr",
          "text": [
            "      2/100      8.72G     0.6881      1.763     0.9971          9        640: 100%|██████████| 7/7 [00:04<00:00,  1.54it/s]\n",
            "                 Class     Images  Instances      Box(P          R      mAP50  mAP50-95): 100%|██████████| 4/4 [00:01<00:00,  3.26it/s]"
          ]
        },
        {
          "output_type": "stream",
          "name": "stdout",
          "text": [
            "                   all        100        177      0.757      0.616      0.677      0.446\n"
          ]
        },
        {
          "output_type": "stream",
          "name": "stderr",
          "text": [
            "\n"
          ]
        },
        {
          "output_type": "stream",
          "name": "stdout",
          "text": [
            "\n",
            "      Epoch    GPU_mem   box_loss   cls_loss   dfl_loss  Instances       Size\n"
          ]
        },
        {
          "output_type": "stream",
          "name": "stderr",
          "text": [
            "      3/100      8.77G     0.7774      1.198      1.037          8        640: 100%|██████████| 7/7 [00:03<00:00,  1.86it/s]\n",
            "                 Class     Images  Instances      Box(P          R      mAP50  mAP50-95): 100%|██████████| 4/4 [00:01<00:00,  2.67it/s]"
          ]
        },
        {
          "output_type": "stream",
          "name": "stdout",
          "text": [
            "                   all        100        177      0.607      0.345      0.392      0.222\n"
          ]
        },
        {
          "output_type": "stream",
          "name": "stderr",
          "text": [
            "\n"
          ]
        },
        {
          "output_type": "stream",
          "name": "stdout",
          "text": [
            "\n",
            "      Epoch    GPU_mem   box_loss   cls_loss   dfl_loss  Instances       Size\n"
          ]
        },
        {
          "output_type": "stream",
          "name": "stderr",
          "text": [
            "      4/100      8.72G     0.6987      1.036     0.9649         15        640: 100%|██████████| 7/7 [00:03<00:00,  1.86it/s]\n",
            "                 Class     Images  Instances      Box(P          R      mAP50  mAP50-95): 100%|██████████| 4/4 [00:01<00:00,  3.78it/s]"
          ]
        },
        {
          "output_type": "stream",
          "name": "stdout",
          "text": [
            "                   all        100        177      0.697      0.395       0.46      0.278\n"
          ]
        },
        {
          "output_type": "stream",
          "name": "stderr",
          "text": [
            "\n"
          ]
        },
        {
          "output_type": "stream",
          "name": "stdout",
          "text": [
            "\n",
            "      Epoch    GPU_mem   box_loss   cls_loss   dfl_loss  Instances       Size\n"
          ]
        },
        {
          "output_type": "stream",
          "name": "stderr",
          "text": [
            "      5/100       8.8G     0.7428     0.9615     0.9714         11        640: 100%|██████████| 7/7 [00:03<00:00,  1.99it/s]\n",
            "                 Class     Images  Instances      Box(P          R      mAP50  mAP50-95): 100%|██████████| 4/4 [00:01<00:00,  3.87it/s]"
          ]
        },
        {
          "output_type": "stream",
          "name": "stdout",
          "text": [
            "                   all        100        177      0.657      0.521      0.537      0.281\n"
          ]
        },
        {
          "output_type": "stream",
          "name": "stderr",
          "text": [
            "\n"
          ]
        },
        {
          "output_type": "stream",
          "name": "stdout",
          "text": [
            "\n",
            "      Epoch    GPU_mem   box_loss   cls_loss   dfl_loss  Instances       Size\n"
          ]
        },
        {
          "output_type": "stream",
          "name": "stderr",
          "text": [
            "      6/100      8.72G     0.8083      1.017      1.029         14        640: 100%|██████████| 7/7 [00:03<00:00,  1.83it/s]\n",
            "                 Class     Images  Instances      Box(P          R      mAP50  mAP50-95): 100%|██████████| 4/4 [00:01<00:00,  2.34it/s]"
          ]
        },
        {
          "output_type": "stream",
          "name": "stdout",
          "text": [
            "                   all        100        177    0.00678      0.362    0.00475    0.00213\n"
          ]
        },
        {
          "output_type": "stream",
          "name": "stderr",
          "text": [
            "\n"
          ]
        },
        {
          "output_type": "stream",
          "name": "stdout",
          "text": [
            "\n",
            "      Epoch    GPU_mem   box_loss   cls_loss   dfl_loss  Instances       Size\n"
          ]
        },
        {
          "output_type": "stream",
          "name": "stderr",
          "text": [
            "      7/100      8.81G     0.8996      1.086      1.072          9        640: 100%|██████████| 7/7 [00:03<00:00,  1.98it/s]\n",
            "                 Class     Images  Instances      Box(P          R      mAP50  mAP50-95): 100%|██████████| 4/4 [00:01<00:00,  3.90it/s]"
          ]
        },
        {
          "output_type": "stream",
          "name": "stdout",
          "text": [
            "                   all        100        177      0.453      0.556      0.416      0.203\n"
          ]
        },
        {
          "output_type": "stream",
          "name": "stderr",
          "text": [
            "\n"
          ]
        },
        {
          "output_type": "stream",
          "name": "stdout",
          "text": [
            "\n",
            "      Epoch    GPU_mem   box_loss   cls_loss   dfl_loss  Instances       Size\n"
          ]
        },
        {
          "output_type": "stream",
          "name": "stderr",
          "text": [
            "      8/100      8.78G     0.8849     0.9949      1.077         14        640: 100%|██████████| 7/7 [00:03<00:00,  2.02it/s]\n",
            "                 Class     Images  Instances      Box(P          R      mAP50  mAP50-95): 100%|██████████| 4/4 [00:01<00:00,  3.15it/s]"
          ]
        },
        {
          "output_type": "stream",
          "name": "stdout",
          "text": [
            "                   all        100        177      0.198      0.503      0.143     0.0648\n"
          ]
        },
        {
          "output_type": "stream",
          "name": "stderr",
          "text": [
            "\n"
          ]
        },
        {
          "output_type": "stream",
          "name": "stdout",
          "text": [
            "\n",
            "      Epoch    GPU_mem   box_loss   cls_loss   dfl_loss  Instances       Size\n"
          ]
        },
        {
          "output_type": "stream",
          "name": "stderr",
          "text": [
            "      9/100      8.79G     0.9515     0.9901      1.081         13        640: 100%|██████████| 7/7 [00:04<00:00,  1.74it/s]\n",
            "                 Class     Images  Instances      Box(P          R      mAP50  mAP50-95): 100%|██████████| 4/4 [00:01<00:00,  3.97it/s]"
          ]
        },
        {
          "output_type": "stream",
          "name": "stdout",
          "text": [
            "                   all        100        177      0.257      0.356      0.168      0.071\n"
          ]
        },
        {
          "output_type": "stream",
          "name": "stderr",
          "text": [
            "\n"
          ]
        },
        {
          "output_type": "stream",
          "name": "stdout",
          "text": [
            "\n",
            "      Epoch    GPU_mem   box_loss   cls_loss   dfl_loss  Instances       Size\n"
          ]
        },
        {
          "output_type": "stream",
          "name": "stderr",
          "text": [
            "     10/100       8.7G     0.9754      1.076      1.126         12        640: 100%|██████████| 7/7 [00:03<00:00,  2.03it/s]\n",
            "                 Class     Images  Instances      Box(P          R      mAP50  mAP50-95): 100%|██████████| 4/4 [00:01<00:00,  3.61it/s]"
          ]
        },
        {
          "output_type": "stream",
          "name": "stdout",
          "text": [
            "                   all        100        177       0.13       0.65      0.114     0.0579\n"
          ]
        },
        {
          "output_type": "stream",
          "name": "stderr",
          "text": [
            "\n"
          ]
        },
        {
          "output_type": "stream",
          "name": "stdout",
          "text": [
            "\n",
            "      Epoch    GPU_mem   box_loss   cls_loss   dfl_loss  Instances       Size\n"
          ]
        },
        {
          "output_type": "stream",
          "name": "stderr",
          "text": [
            "     11/100      8.78G      0.903      1.088      1.116         12        640: 100%|██████████| 7/7 [00:03<00:00,  1.85it/s]\n",
            "                 Class     Images  Instances      Box(P          R      mAP50  mAP50-95): 100%|██████████| 4/4 [00:01<00:00,  2.05it/s]"
          ]
        },
        {
          "output_type": "stream",
          "name": "stdout",
          "text": [
            "                   all        100        177     0.0741      0.418     0.0862     0.0387\n"
          ]
        },
        {
          "output_type": "stream",
          "name": "stderr",
          "text": [
            "\n"
          ]
        },
        {
          "output_type": "stream",
          "name": "stdout",
          "text": [
            "\n",
            "      Epoch    GPU_mem   box_loss   cls_loss   dfl_loss  Instances       Size\n"
          ]
        },
        {
          "output_type": "stream",
          "name": "stderr",
          "text": [
            "     12/100      8.77G     0.9154     0.9536      1.077         25        640: 100%|██████████| 7/7 [00:03<00:00,  1.94it/s]\n",
            "                 Class     Images  Instances      Box(P          R      mAP50  mAP50-95): 100%|██████████| 4/4 [00:01<00:00,  3.89it/s]"
          ]
        },
        {
          "output_type": "stream",
          "name": "stdout",
          "text": [
            "                   all        100        177       0.27      0.373      0.213      0.098\n"
          ]
        },
        {
          "output_type": "stream",
          "name": "stderr",
          "text": [
            "\n"
          ]
        },
        {
          "output_type": "stream",
          "name": "stdout",
          "text": [
            "\n",
            "      Epoch    GPU_mem   box_loss   cls_loss   dfl_loss  Instances       Size\n"
          ]
        },
        {
          "output_type": "stream",
          "name": "stderr",
          "text": [
            "     13/100      8.75G     0.9218     0.9875      1.094         21        640: 100%|██████████| 7/7 [00:03<00:00,  2.01it/s]\n",
            "                 Class     Images  Instances      Box(P          R      mAP50  mAP50-95): 100%|██████████| 4/4 [00:01<00:00,  3.56it/s]"
          ]
        },
        {
          "output_type": "stream",
          "name": "stdout",
          "text": [
            "                   all        100        177      0.604      0.633      0.612      0.335\n"
          ]
        },
        {
          "output_type": "stream",
          "name": "stderr",
          "text": [
            "\n"
          ]
        },
        {
          "output_type": "stream",
          "name": "stdout",
          "text": [
            "\n",
            "      Epoch    GPU_mem   box_loss   cls_loss   dfl_loss  Instances       Size\n"
          ]
        },
        {
          "output_type": "stream",
          "name": "stderr",
          "text": [
            "     14/100      8.77G     0.8845     0.9567      1.073         11        640: 100%|██████████| 7/7 [00:04<00:00,  1.74it/s]\n",
            "                 Class     Images  Instances      Box(P          R      mAP50  mAP50-95): 100%|██████████| 4/4 [00:01<00:00,  3.86it/s]"
          ]
        },
        {
          "output_type": "stream",
          "name": "stdout",
          "text": [
            "                   all        100        177      0.267      0.395      0.277      0.154\n"
          ]
        },
        {
          "output_type": "stream",
          "name": "stderr",
          "text": [
            "\n"
          ]
        },
        {
          "output_type": "stream",
          "name": "stdout",
          "text": [
            "\n",
            "      Epoch    GPU_mem   box_loss   cls_loss   dfl_loss  Instances       Size\n"
          ]
        },
        {
          "output_type": "stream",
          "name": "stderr",
          "text": [
            "     15/100      8.76G      1.041     0.9282      1.118         12        640: 100%|██████████| 7/7 [00:03<00:00,  1.98it/s]\n",
            "                 Class     Images  Instances      Box(P          R      mAP50  mAP50-95): 100%|██████████| 4/4 [00:01<00:00,  3.74it/s]"
          ]
        },
        {
          "output_type": "stream",
          "name": "stdout",
          "text": [
            "                   all        100        177      0.442      0.542      0.414      0.223\n"
          ]
        },
        {
          "output_type": "stream",
          "name": "stderr",
          "text": [
            "\n"
          ]
        },
        {
          "output_type": "stream",
          "name": "stdout",
          "text": [
            "\n",
            "      Epoch    GPU_mem   box_loss   cls_loss   dfl_loss  Instances       Size\n"
          ]
        },
        {
          "output_type": "stream",
          "name": "stderr",
          "text": [
            "     16/100      8.81G     0.9099      0.922      1.114         10        640: 100%|██████████| 7/7 [00:03<00:00,  1.81it/s]\n",
            "                 Class     Images  Instances      Box(P          R      mAP50  mAP50-95): 100%|██████████| 4/4 [00:01<00:00,  2.64it/s]"
          ]
        },
        {
          "output_type": "stream",
          "name": "stdout",
          "text": [
            "                   all        100        177      0.321      0.621      0.329      0.166\n"
          ]
        },
        {
          "output_type": "stream",
          "name": "stderr",
          "text": [
            "\n"
          ]
        },
        {
          "output_type": "stream",
          "name": "stdout",
          "text": [
            "\n",
            "      Epoch    GPU_mem   box_loss   cls_loss   dfl_loss  Instances       Size\n"
          ]
        },
        {
          "output_type": "stream",
          "name": "stderr",
          "text": [
            "     17/100      8.73G     0.9295     0.9357      1.111         10        640: 100%|██████████| 7/7 [00:03<00:00,  1.92it/s]\n",
            "                 Class     Images  Instances      Box(P          R      mAP50  mAP50-95): 100%|██████████| 4/4 [00:01<00:00,  3.71it/s]"
          ]
        },
        {
          "output_type": "stream",
          "name": "stdout",
          "text": [
            "                   all        100        177      0.564      0.588      0.466      0.265\n"
          ]
        },
        {
          "output_type": "stream",
          "name": "stderr",
          "text": [
            "\n"
          ]
        },
        {
          "output_type": "stream",
          "name": "stdout",
          "text": [
            "\n",
            "      Epoch    GPU_mem   box_loss   cls_loss   dfl_loss  Instances       Size\n"
          ]
        },
        {
          "output_type": "stream",
          "name": "stderr",
          "text": [
            "     18/100      8.77G     0.9148     0.8199      1.062         18        640: 100%|██████████| 7/7 [00:03<00:00,  1.96it/s]\n",
            "                 Class     Images  Instances      Box(P          R      mAP50  mAP50-95): 100%|██████████| 4/4 [00:01<00:00,  3.79it/s]"
          ]
        },
        {
          "output_type": "stream",
          "name": "stdout",
          "text": [
            "                   all        100        177      0.541       0.65      0.576      0.303\n"
          ]
        },
        {
          "output_type": "stream",
          "name": "stderr",
          "text": [
            "\n"
          ]
        },
        {
          "output_type": "stream",
          "name": "stdout",
          "text": [
            "\n",
            "      Epoch    GPU_mem   box_loss   cls_loss   dfl_loss  Instances       Size\n"
          ]
        },
        {
          "output_type": "stream",
          "name": "stderr",
          "text": [
            "     19/100      8.75G     0.8956      0.846      1.086         20        640: 100%|██████████| 7/7 [00:03<00:00,  1.81it/s]\n",
            "                 Class     Images  Instances      Box(P          R      mAP50  mAP50-95): 100%|██████████| 4/4 [00:01<00:00,  2.54it/s]"
          ]
        },
        {
          "output_type": "stream",
          "name": "stdout",
          "text": [
            "                   all        100        177      0.394      0.667      0.343      0.189\n"
          ]
        },
        {
          "output_type": "stream",
          "name": "stderr",
          "text": [
            "\n"
          ]
        },
        {
          "output_type": "stream",
          "name": "stdout",
          "text": [
            "\n",
            "      Epoch    GPU_mem   box_loss   cls_loss   dfl_loss  Instances       Size\n"
          ]
        },
        {
          "output_type": "stream",
          "name": "stderr",
          "text": [
            "     20/100      8.77G     0.8546     0.8151      1.087         10        640: 100%|██████████| 7/7 [00:03<00:00,  1.96it/s]\n",
            "                 Class     Images  Instances      Box(P          R      mAP50  mAP50-95): 100%|██████████| 4/4 [00:01<00:00,  3.86it/s]"
          ]
        },
        {
          "output_type": "stream",
          "name": "stdout",
          "text": [
            "                   all        100        177      0.328      0.446      0.328      0.181\n"
          ]
        },
        {
          "output_type": "stream",
          "name": "stderr",
          "text": [
            "\n"
          ]
        },
        {
          "output_type": "stream",
          "name": "stdout",
          "text": [
            "\n",
            "      Epoch    GPU_mem   box_loss   cls_loss   dfl_loss  Instances       Size\n"
          ]
        },
        {
          "output_type": "stream",
          "name": "stderr",
          "text": [
            "     21/100      8.73G     0.8293     0.7564      1.036         10        640: 100%|██████████| 7/7 [00:03<00:00,  1.93it/s]\n",
            "                 Class     Images  Instances      Box(P          R      mAP50  mAP50-95): 100%|██████████| 4/4 [00:01<00:00,  2.69it/s]"
          ]
        },
        {
          "output_type": "stream",
          "name": "stdout",
          "text": [
            "                   all        100        177      0.476      0.463      0.446      0.227\n"
          ]
        },
        {
          "output_type": "stream",
          "name": "stderr",
          "text": [
            "\n"
          ]
        },
        {
          "output_type": "stream",
          "name": "stdout",
          "text": [
            "\n",
            "      Epoch    GPU_mem   box_loss   cls_loss   dfl_loss  Instances       Size\n"
          ]
        },
        {
          "output_type": "stream",
          "name": "stderr",
          "text": [
            "     22/100      8.82G     0.8207     0.7423      1.033          9        640: 100%|██████████| 7/7 [00:03<00:00,  1.88it/s]\n",
            "                 Class     Images  Instances      Box(P          R      mAP50  mAP50-95): 100%|██████████| 4/4 [00:01<00:00,  3.87it/s]"
          ]
        },
        {
          "output_type": "stream",
          "name": "stdout",
          "text": [
            "                   all        100        177      0.277       0.37      0.141     0.0747\n"
          ]
        },
        {
          "output_type": "stream",
          "name": "stderr",
          "text": [
            "\n"
          ]
        },
        {
          "output_type": "stream",
          "name": "stdout",
          "text": [
            "\n",
            "      Epoch    GPU_mem   box_loss   cls_loss   dfl_loss  Instances       Size\n"
          ]
        },
        {
          "output_type": "stream",
          "name": "stderr",
          "text": [
            "     23/100      8.74G     0.7812     0.7166      1.019         21        640: 100%|██████████| 7/7 [00:03<00:00,  1.96it/s]\n",
            "                 Class     Images  Instances      Box(P          R      mAP50  mAP50-95): 100%|██████████| 4/4 [00:01<00:00,  3.71it/s]"
          ]
        },
        {
          "output_type": "stream",
          "name": "stdout",
          "text": [
            "                   all        100        177      0.716      0.605      0.663       0.37\n"
          ]
        },
        {
          "output_type": "stream",
          "name": "stderr",
          "text": [
            "\n"
          ]
        },
        {
          "output_type": "stream",
          "name": "stdout",
          "text": [
            "\n",
            "      Epoch    GPU_mem   box_loss   cls_loss   dfl_loss  Instances       Size\n"
          ]
        },
        {
          "output_type": "stream",
          "name": "stderr",
          "text": [
            "     24/100      8.79G     0.7858     0.7066      1.008         24        640: 100%|██████████| 7/7 [00:04<00:00,  1.75it/s]\n",
            "                 Class     Images  Instances      Box(P          R      mAP50  mAP50-95): 100%|██████████| 4/4 [00:01<00:00,  2.40it/s]"
          ]
        },
        {
          "output_type": "stream",
          "name": "stdout",
          "text": [
            "                   all        100        177      0.695      0.593      0.651       0.36\n"
          ]
        },
        {
          "output_type": "stream",
          "name": "stderr",
          "text": [
            "\n"
          ]
        },
        {
          "output_type": "stream",
          "name": "stdout",
          "text": [
            "\n",
            "      Epoch    GPU_mem   box_loss   cls_loss   dfl_loss  Instances       Size\n"
          ]
        },
        {
          "output_type": "stream",
          "name": "stderr",
          "text": [
            "     25/100      8.73G     0.9108     0.7621      1.066         20        640: 100%|██████████| 7/7 [00:03<00:00,  2.00it/s]\n",
            "                 Class     Images  Instances      Box(P          R      mAP50  mAP50-95): 100%|██████████| 4/4 [00:01<00:00,  3.90it/s]"
          ]
        },
        {
          "output_type": "stream",
          "name": "stdout",
          "text": [
            "                   all        100        177      0.695      0.638      0.668       0.38\n"
          ]
        },
        {
          "output_type": "stream",
          "name": "stderr",
          "text": [
            "\n"
          ]
        },
        {
          "output_type": "stream",
          "name": "stdout",
          "text": [
            "\n",
            "      Epoch    GPU_mem   box_loss   cls_loss   dfl_loss  Instances       Size\n"
          ]
        },
        {
          "output_type": "stream",
          "name": "stderr",
          "text": [
            "     26/100       8.8G     0.8262      0.771      1.059          8        640: 100%|██████████| 7/7 [00:03<00:00,  1.97it/s]\n",
            "                 Class     Images  Instances      Box(P          R      mAP50  mAP50-95): 100%|██████████| 4/4 [00:01<00:00,  2.70it/s]"
          ]
        },
        {
          "output_type": "stream",
          "name": "stdout",
          "text": [
            "                   all        100        177      0.633      0.661      0.687      0.379\n"
          ]
        },
        {
          "output_type": "stream",
          "name": "stderr",
          "text": [
            "\n"
          ]
        },
        {
          "output_type": "stream",
          "name": "stdout",
          "text": [
            "\n",
            "      Epoch    GPU_mem   box_loss   cls_loss   dfl_loss  Instances       Size\n"
          ]
        },
        {
          "output_type": "stream",
          "name": "stderr",
          "text": [
            "     27/100      8.76G     0.8466     0.8055      1.057         15        640: 100%|██████████| 7/7 [00:04<00:00,  1.72it/s]\n",
            "                 Class     Images  Instances      Box(P          R      mAP50  mAP50-95): 100%|██████████| 4/4 [00:01<00:00,  3.90it/s]"
          ]
        },
        {
          "output_type": "stream",
          "name": "stdout",
          "text": [
            "                   all        100        177      0.303      0.237      0.189      0.103\n"
          ]
        },
        {
          "output_type": "stream",
          "name": "stderr",
          "text": [
            "\n"
          ]
        },
        {
          "output_type": "stream",
          "name": "stdout",
          "text": [
            "\n",
            "      Epoch    GPU_mem   box_loss   cls_loss   dfl_loss  Instances       Size\n"
          ]
        },
        {
          "output_type": "stream",
          "name": "stderr",
          "text": [
            "     28/100      8.82G     0.7701     0.7004      1.021         13        640: 100%|██████████| 7/7 [00:03<00:00,  1.97it/s]\n",
            "                 Class     Images  Instances      Box(P          R      mAP50  mAP50-95): 100%|██████████| 4/4 [00:01<00:00,  3.86it/s]"
          ]
        },
        {
          "output_type": "stream",
          "name": "stdout",
          "text": [
            "                   all        100        177      0.355      0.514      0.312      0.155\n"
          ]
        },
        {
          "output_type": "stream",
          "name": "stderr",
          "text": [
            "\n"
          ]
        },
        {
          "output_type": "stream",
          "name": "stdout",
          "text": [
            "\n",
            "      Epoch    GPU_mem   box_loss   cls_loss   dfl_loss  Instances       Size\n"
          ]
        },
        {
          "output_type": "stream",
          "name": "stderr",
          "text": [
            "     29/100      8.72G     0.8093     0.6738      1.006         24        640: 100%|██████████| 7/7 [00:03<00:00,  1.88it/s]\n",
            "                 Class     Images  Instances      Box(P          R      mAP50  mAP50-95): 100%|██████████| 4/4 [00:01<00:00,  2.90it/s]"
          ]
        },
        {
          "output_type": "stream",
          "name": "stdout",
          "text": [
            "                   all        100        177       0.49       0.61      0.425      0.241\n"
          ]
        },
        {
          "output_type": "stream",
          "name": "stderr",
          "text": [
            "\n"
          ]
        },
        {
          "output_type": "stream",
          "name": "stdout",
          "text": [
            "\n",
            "      Epoch    GPU_mem   box_loss   cls_loss   dfl_loss  Instances       Size\n"
          ]
        },
        {
          "output_type": "stream",
          "name": "stderr",
          "text": [
            "     30/100      8.79G     0.7404     0.6886     0.9979          9        640: 100%|██████████| 7/7 [00:03<00:00,  1.90it/s]\n",
            "                 Class     Images  Instances      Box(P          R      mAP50  mAP50-95): 100%|██████████| 4/4 [00:01<00:00,  3.75it/s]"
          ]
        },
        {
          "output_type": "stream",
          "name": "stdout",
          "text": [
            "                   all        100        177      0.709      0.621      0.607      0.335\n"
          ]
        },
        {
          "output_type": "stream",
          "name": "stderr",
          "text": [
            "\n"
          ]
        },
        {
          "output_type": "stream",
          "name": "stdout",
          "text": [
            "\n",
            "      Epoch    GPU_mem   box_loss   cls_loss   dfl_loss  Instances       Size\n"
          ]
        },
        {
          "output_type": "stream",
          "name": "stderr",
          "text": [
            "     31/100      8.77G     0.7861     0.6958      1.049         22        640: 100%|██████████| 7/7 [00:03<00:00,  1.96it/s]\n",
            "                 Class     Images  Instances      Box(P          R      mAP50  mAP50-95): 100%|██████████| 4/4 [00:01<00:00,  3.77it/s]"
          ]
        },
        {
          "output_type": "stream",
          "name": "stdout",
          "text": [
            "                   all        100        177      0.776      0.627      0.685      0.411\n"
          ]
        },
        {
          "output_type": "stream",
          "name": "stderr",
          "text": [
            "\n"
          ]
        },
        {
          "output_type": "stream",
          "name": "stdout",
          "text": [
            "\n",
            "      Epoch    GPU_mem   box_loss   cls_loss   dfl_loss  Instances       Size\n"
          ]
        },
        {
          "output_type": "stream",
          "name": "stderr",
          "text": [
            "     32/100       8.8G     0.8042     0.7736      1.083          8        640: 100%|██████████| 7/7 [00:03<00:00,  1.76it/s]\n",
            "                 Class     Images  Instances      Box(P          R      mAP50  mAP50-95): 100%|██████████| 4/4 [00:01<00:00,  2.60it/s]"
          ]
        },
        {
          "output_type": "stream",
          "name": "stdout",
          "text": [
            "                   all        100        177      0.759      0.655        0.7      0.459\n"
          ]
        },
        {
          "output_type": "stream",
          "name": "stderr",
          "text": [
            "\n"
          ]
        },
        {
          "output_type": "stream",
          "name": "stdout",
          "text": [
            "\n",
            "      Epoch    GPU_mem   box_loss   cls_loss   dfl_loss  Instances       Size\n"
          ]
        },
        {
          "output_type": "stream",
          "name": "stderr",
          "text": [
            "     33/100      8.75G     0.7228     0.6465     0.9895         21        640: 100%|██████████| 7/7 [00:03<00:00,  1.99it/s]\n",
            "                 Class     Images  Instances      Box(P          R      mAP50  mAP50-95): 100%|██████████| 4/4 [00:01<00:00,  3.85it/s]"
          ]
        },
        {
          "output_type": "stream",
          "name": "stdout",
          "text": [
            "                   all        100        177      0.818      0.739      0.806      0.571\n"
          ]
        },
        {
          "output_type": "stream",
          "name": "stderr",
          "text": [
            "\n"
          ]
        },
        {
          "output_type": "stream",
          "name": "stdout",
          "text": [
            "\n",
            "      Epoch    GPU_mem   box_loss   cls_loss   dfl_loss  Instances       Size\n"
          ]
        },
        {
          "output_type": "stream",
          "name": "stderr",
          "text": [
            "     34/100      8.76G     0.6788     0.6108     0.9937         11        640: 100%|██████████| 7/7 [00:03<00:00,  1.93it/s]\n",
            "                 Class     Images  Instances      Box(P          R      mAP50  mAP50-95): 100%|██████████| 4/4 [00:01<00:00,  2.78it/s]"
          ]
        },
        {
          "output_type": "stream",
          "name": "stdout",
          "text": [
            "                   all        100        177      0.828      0.718       0.79      0.512\n"
          ]
        },
        {
          "output_type": "stream",
          "name": "stderr",
          "text": [
            "\n"
          ]
        },
        {
          "output_type": "stream",
          "name": "stdout",
          "text": [
            "\n",
            "      Epoch    GPU_mem   box_loss   cls_loss   dfl_loss  Instances       Size\n"
          ]
        },
        {
          "output_type": "stream",
          "name": "stderr",
          "text": [
            "     35/100      8.77G     0.6874     0.5969      1.011         14        640: 100%|██████████| 7/7 [00:03<00:00,  1.84it/s]\n",
            "                 Class     Images  Instances      Box(P          R      mAP50  mAP50-95): 100%|██████████| 4/4 [00:01<00:00,  3.87it/s]"
          ]
        },
        {
          "output_type": "stream",
          "name": "stdout",
          "text": [
            "                   all        100        177      0.815       0.78      0.831      0.561\n"
          ]
        },
        {
          "output_type": "stream",
          "name": "stderr",
          "text": [
            "\n"
          ]
        },
        {
          "output_type": "stream",
          "name": "stdout",
          "text": [
            "\n",
            "      Epoch    GPU_mem   box_loss   cls_loss   dfl_loss  Instances       Size\n"
          ]
        },
        {
          "output_type": "stream",
          "name": "stderr",
          "text": [
            "     36/100      8.79G     0.7091      0.627     0.9728         18        640: 100%|██████████| 7/7 [00:03<00:00,  1.96it/s]\n",
            "                 Class     Images  Instances      Box(P          R      mAP50  mAP50-95): 100%|██████████| 4/4 [00:01<00:00,  3.86it/s]"
          ]
        },
        {
          "output_type": "stream",
          "name": "stdout",
          "text": [
            "                   all        100        177      0.817      0.746      0.799      0.522\n"
          ]
        },
        {
          "output_type": "stream",
          "name": "stderr",
          "text": [
            "\n"
          ]
        },
        {
          "output_type": "stream",
          "name": "stdout",
          "text": [
            "\n",
            "      Epoch    GPU_mem   box_loss   cls_loss   dfl_loss  Instances       Size\n"
          ]
        },
        {
          "output_type": "stream",
          "name": "stderr",
          "text": [
            "     37/100      8.73G     0.7678      0.654      1.057         17        640: 100%|██████████| 7/7 [00:03<00:00,  1.88it/s]\n",
            "                 Class     Images  Instances      Box(P          R      mAP50  mAP50-95): 100%|██████████| 4/4 [00:01<00:00,  2.56it/s]"
          ]
        },
        {
          "output_type": "stream",
          "name": "stdout",
          "text": [
            "                   all        100        177      0.794      0.761      0.799      0.541\n"
          ]
        },
        {
          "output_type": "stream",
          "name": "stderr",
          "text": [
            "\n"
          ]
        },
        {
          "output_type": "stream",
          "name": "stdout",
          "text": [
            "\n",
            "      Epoch    GPU_mem   box_loss   cls_loss   dfl_loss  Instances       Size\n"
          ]
        },
        {
          "output_type": "stream",
          "name": "stderr",
          "text": [
            "     38/100      8.79G     0.7255     0.6043     0.9918         35        640: 100%|██████████| 7/7 [00:03<00:00,  1.96it/s]\n",
            "                 Class     Images  Instances      Box(P          R      mAP50  mAP50-95): 100%|██████████| 4/4 [00:01<00:00,  3.84it/s]"
          ]
        },
        {
          "output_type": "stream",
          "name": "stdout",
          "text": [
            "                   all        100        177       0.81      0.763      0.827      0.522\n"
          ]
        },
        {
          "output_type": "stream",
          "name": "stderr",
          "text": [
            "\n"
          ]
        },
        {
          "output_type": "stream",
          "name": "stdout",
          "text": [
            "\n",
            "      Epoch    GPU_mem   box_loss   cls_loss   dfl_loss  Instances       Size\n"
          ]
        },
        {
          "output_type": "stream",
          "name": "stderr",
          "text": [
            "     39/100      8.72G     0.7318     0.6387      1.058         10        640: 100%|██████████| 7/7 [00:03<00:00,  2.00it/s]\n",
            "                 Class     Images  Instances      Box(P          R      mAP50  mAP50-95): 100%|██████████| 4/4 [00:01<00:00,  3.77it/s]"
          ]
        },
        {
          "output_type": "stream",
          "name": "stdout",
          "text": [
            "                   all        100        177      0.836      0.819      0.854      0.568\n"
          ]
        },
        {
          "output_type": "stream",
          "name": "stderr",
          "text": [
            "\n"
          ]
        },
        {
          "output_type": "stream",
          "name": "stdout",
          "text": [
            "\n",
            "      Epoch    GPU_mem   box_loss   cls_loss   dfl_loss  Instances       Size\n"
          ]
        },
        {
          "output_type": "stream",
          "name": "stderr",
          "text": [
            "     40/100      8.76G     0.7244     0.6399     0.9902         19        640: 100%|██████████| 7/7 [00:04<00:00,  1.74it/s]\n",
            "                 Class     Images  Instances      Box(P          R      mAP50  mAP50-95): 100%|██████████| 4/4 [00:01<00:00,  3.82it/s]"
          ]
        },
        {
          "output_type": "stream",
          "name": "stdout",
          "text": [
            "                   all        100        177      0.811      0.802      0.833      0.528\n"
          ]
        },
        {
          "output_type": "stream",
          "name": "stderr",
          "text": [
            "\n"
          ]
        },
        {
          "output_type": "stream",
          "name": "stdout",
          "text": [
            "\n",
            "      Epoch    GPU_mem   box_loss   cls_loss   dfl_loss  Instances       Size\n"
          ]
        },
        {
          "output_type": "stream",
          "name": "stderr",
          "text": [
            "     41/100      8.75G     0.6873     0.6185     0.9655          9        640: 100%|██████████| 7/7 [00:03<00:00,  1.98it/s]\n",
            "                 Class     Images  Instances      Box(P          R      mAP50  mAP50-95): 100%|██████████| 4/4 [00:01<00:00,  3.85it/s]"
          ]
        },
        {
          "output_type": "stream",
          "name": "stdout",
          "text": [
            "                   all        100        177      0.822      0.763      0.805      0.465\n"
          ]
        },
        {
          "output_type": "stream",
          "name": "stderr",
          "text": [
            "\n"
          ]
        },
        {
          "output_type": "stream",
          "name": "stdout",
          "text": [
            "\n",
            "      Epoch    GPU_mem   box_loss   cls_loss   dfl_loss  Instances       Size\n"
          ]
        },
        {
          "output_type": "stream",
          "name": "stderr",
          "text": [
            "     42/100       8.8G     0.7014      0.565     0.9455         21        640: 100%|██████████| 7/7 [00:03<00:00,  1.87it/s]\n",
            "                 Class     Images  Instances      Box(P          R      mAP50  mAP50-95): 100%|██████████| 4/4 [00:01<00:00,  2.59it/s]"
          ]
        },
        {
          "output_type": "stream",
          "name": "stdout",
          "text": [
            "                   all        100        177      0.886      0.774      0.851      0.553\n"
          ]
        },
        {
          "output_type": "stream",
          "name": "stderr",
          "text": [
            "\n"
          ]
        },
        {
          "output_type": "stream",
          "name": "stdout",
          "text": [
            "\n",
            "      Epoch    GPU_mem   box_loss   cls_loss   dfl_loss  Instances       Size\n"
          ]
        },
        {
          "output_type": "stream",
          "name": "stderr",
          "text": [
            "     43/100      8.74G     0.6311     0.5511     0.9421         12        640: 100%|██████████| 7/7 [00:03<00:00,  1.96it/s]\n",
            "                 Class     Images  Instances      Box(P          R      mAP50  mAP50-95): 100%|██████████| 4/4 [00:01<00:00,  3.93it/s]"
          ]
        },
        {
          "output_type": "stream",
          "name": "stdout",
          "text": [
            "                   all        100        177      0.802      0.774      0.812      0.528\n"
          ]
        },
        {
          "output_type": "stream",
          "name": "stderr",
          "text": [
            "\n"
          ]
        },
        {
          "output_type": "stream",
          "name": "stdout",
          "text": [
            "\n",
            "      Epoch    GPU_mem   box_loss   cls_loss   dfl_loss  Instances       Size\n"
          ]
        },
        {
          "output_type": "stream",
          "name": "stderr",
          "text": [
            "     44/100      8.76G     0.6436     0.5863     0.9736          8        640: 100%|██████████| 7/7 [00:03<00:00,  1.97it/s]\n",
            "                 Class     Images  Instances      Box(P          R      mAP50  mAP50-95): 100%|██████████| 4/4 [00:01<00:00,  3.87it/s]"
          ]
        },
        {
          "output_type": "stream",
          "name": "stdout",
          "text": [
            "                   all        100        177      0.813      0.774       0.84      0.561\n"
          ]
        },
        {
          "output_type": "stream",
          "name": "stderr",
          "text": [
            "\n"
          ]
        },
        {
          "output_type": "stream",
          "name": "stdout",
          "text": [
            "\n",
            "      Epoch    GPU_mem   box_loss   cls_loss   dfl_loss  Instances       Size\n"
          ]
        },
        {
          "output_type": "stream",
          "name": "stderr",
          "text": [
            "     45/100      8.75G     0.7594     0.6115      1.017         21        640: 100%|██████████| 7/7 [00:03<00:00,  1.78it/s]\n",
            "                 Class     Images  Instances      Box(P          R      mAP50  mAP50-95): 100%|██████████| 4/4 [00:01<00:00,  2.56it/s]"
          ]
        },
        {
          "output_type": "stream",
          "name": "stdout",
          "text": [
            "                   all        100        177      0.878      0.772      0.842      0.557\n"
          ]
        },
        {
          "output_type": "stream",
          "name": "stderr",
          "text": [
            "\n"
          ]
        },
        {
          "output_type": "stream",
          "name": "stdout",
          "text": [
            "\n",
            "      Epoch    GPU_mem   box_loss   cls_loss   dfl_loss  Instances       Size\n"
          ]
        },
        {
          "output_type": "stream",
          "name": "stderr",
          "text": [
            "     46/100      8.79G     0.6031      0.542     0.9539         12        640: 100%|██████████| 7/7 [00:03<00:00,  1.96it/s]\n",
            "                 Class     Images  Instances      Box(P          R      mAP50  mAP50-95): 100%|██████████| 4/4 [00:01<00:00,  3.88it/s]"
          ]
        },
        {
          "output_type": "stream",
          "name": "stdout",
          "text": [
            "                   all        100        177      0.825      0.774      0.811      0.524\n"
          ]
        },
        {
          "output_type": "stream",
          "name": "stderr",
          "text": [
            "\n"
          ]
        },
        {
          "output_type": "stream",
          "name": "stdout",
          "text": [
            "\n",
            "      Epoch    GPU_mem   box_loss   cls_loss   dfl_loss  Instances       Size\n"
          ]
        },
        {
          "output_type": "stream",
          "name": "stderr",
          "text": [
            "     47/100      8.73G     0.6758     0.5765      1.011         11        640: 100%|██████████| 7/7 [00:03<00:00,  1.93it/s]\n",
            "                 Class     Images  Instances      Box(P          R      mAP50  mAP50-95): 100%|██████████| 4/4 [00:01<00:00,  2.80it/s]"
          ]
        },
        {
          "output_type": "stream",
          "name": "stdout",
          "text": [
            "                   all        100        177      0.884      0.775      0.863      0.597\n"
          ]
        },
        {
          "output_type": "stream",
          "name": "stderr",
          "text": [
            "\n"
          ]
        },
        {
          "output_type": "stream",
          "name": "stdout",
          "text": [
            "\n",
            "      Epoch    GPU_mem   box_loss   cls_loss   dfl_loss  Instances       Size\n"
          ]
        },
        {
          "output_type": "stream",
          "name": "stderr",
          "text": [
            "     48/100      8.77G     0.7227     0.6109      1.011         22        640: 100%|██████████| 7/7 [00:03<00:00,  1.81it/s]\n",
            "                 Class     Images  Instances      Box(P          R      mAP50  mAP50-95): 100%|██████████| 4/4 [00:01<00:00,  2.77it/s]"
          ]
        },
        {
          "output_type": "stream",
          "name": "stdout",
          "text": [
            "                   all        100        177      0.812       0.78      0.813      0.544\n"
          ]
        },
        {
          "output_type": "stream",
          "name": "stderr",
          "text": [
            "\n"
          ]
        },
        {
          "output_type": "stream",
          "name": "stdout",
          "text": [
            "\n",
            "      Epoch    GPU_mem   box_loss   cls_loss   dfl_loss  Instances       Size\n"
          ]
        },
        {
          "output_type": "stream",
          "name": "stderr",
          "text": [
            "     49/100      8.73G     0.7157     0.6005     0.9778         12        640: 100%|██████████| 7/7 [00:03<00:00,  1.82it/s]\n",
            "                 Class     Images  Instances      Box(P          R      mAP50  mAP50-95): 100%|██████████| 4/4 [00:01<00:00,  3.75it/s]"
          ]
        },
        {
          "output_type": "stream",
          "name": "stdout",
          "text": [
            "                   all        100        177      0.814      0.785      0.815      0.574\n"
          ]
        },
        {
          "output_type": "stream",
          "name": "stderr",
          "text": [
            "\n"
          ]
        },
        {
          "output_type": "stream",
          "name": "stdout",
          "text": [
            "\n",
            "      Epoch    GPU_mem   box_loss   cls_loss   dfl_loss  Instances       Size\n"
          ]
        },
        {
          "output_type": "stream",
          "name": "stderr",
          "text": [
            "     50/100       8.8G     0.5726     0.4904     0.9401         12        640: 100%|██████████| 7/7 [00:04<00:00,  1.74it/s]\n",
            "                 Class     Images  Instances      Box(P          R      mAP50  mAP50-95): 100%|██████████| 4/4 [00:01<00:00,  2.82it/s]"
          ]
        },
        {
          "output_type": "stream",
          "name": "stdout",
          "text": [
            "                   all        100        177      0.884      0.808      0.856      0.624\n"
          ]
        },
        {
          "output_type": "stream",
          "name": "stderr",
          "text": [
            "\n"
          ]
        },
        {
          "output_type": "stream",
          "name": "stdout",
          "text": [
            "\n",
            "      Epoch    GPU_mem   box_loss   cls_loss   dfl_loss  Instances       Size\n"
          ]
        },
        {
          "output_type": "stream",
          "name": "stderr",
          "text": [
            "     51/100      8.79G     0.6174     0.5407     0.9668         14        640: 100%|██████████| 7/7 [00:03<00:00,  1.99it/s]\n",
            "                 Class     Images  Instances      Box(P          R      mAP50  mAP50-95): 100%|██████████| 4/4 [00:01<00:00,  3.80it/s]"
          ]
        },
        {
          "output_type": "stream",
          "name": "stdout",
          "text": [
            "                   all        100        177       0.83      0.808      0.837      0.611\n"
          ]
        },
        {
          "output_type": "stream",
          "name": "stderr",
          "text": [
            "\n"
          ]
        },
        {
          "output_type": "stream",
          "name": "stdout",
          "text": [
            "\n",
            "      Epoch    GPU_mem   box_loss   cls_loss   dfl_loss  Instances       Size\n"
          ]
        },
        {
          "output_type": "stream",
          "name": "stderr",
          "text": [
            "     52/100      8.77G     0.6164     0.5342     0.9711          8        640: 100%|██████████| 7/7 [00:03<00:00,  1.84it/s]\n",
            "                 Class     Images  Instances      Box(P          R      mAP50  mAP50-95): 100%|██████████| 4/4 [00:01<00:00,  3.05it/s]"
          ]
        },
        {
          "output_type": "stream",
          "name": "stdout",
          "text": [
            "                   all        100        177      0.803      0.746      0.797       0.56\n"
          ]
        },
        {
          "output_type": "stream",
          "name": "stderr",
          "text": [
            "\n"
          ]
        },
        {
          "output_type": "stream",
          "name": "stdout",
          "text": [
            "\n",
            "      Epoch    GPU_mem   box_loss   cls_loss   dfl_loss  Instances       Size\n"
          ]
        },
        {
          "output_type": "stream",
          "name": "stderr",
          "text": [
            "     53/100      8.76G     0.6253     0.5734     0.9425         15        640: 100%|██████████| 7/7 [00:03<00:00,  1.93it/s]\n",
            "                 Class     Images  Instances      Box(P          R      mAP50  mAP50-95): 100%|██████████| 4/4 [00:01<00:00,  3.89it/s]"
          ]
        },
        {
          "output_type": "stream",
          "name": "stdout",
          "text": [
            "                   all        100        177      0.801      0.734      0.786      0.569\n"
          ]
        },
        {
          "output_type": "stream",
          "name": "stderr",
          "text": [
            "\n"
          ]
        },
        {
          "output_type": "stream",
          "name": "stdout",
          "text": [
            "\n",
            "      Epoch    GPU_mem   box_loss   cls_loss   dfl_loss  Instances       Size\n"
          ]
        },
        {
          "output_type": "stream",
          "name": "stderr",
          "text": [
            "     54/100      8.81G     0.6536     0.6264     0.9835          6        640: 100%|██████████| 7/7 [00:03<00:00,  1.97it/s]\n",
            "                 Class     Images  Instances      Box(P          R      mAP50  mAP50-95): 100%|██████████| 4/4 [00:01<00:00,  3.82it/s]"
          ]
        },
        {
          "output_type": "stream",
          "name": "stdout",
          "text": [
            "                   all        100        177      0.899      0.809       0.86      0.631\n"
          ]
        },
        {
          "output_type": "stream",
          "name": "stderr",
          "text": [
            "\n"
          ]
        },
        {
          "output_type": "stream",
          "name": "stdout",
          "text": [
            "\n",
            "      Epoch    GPU_mem   box_loss   cls_loss   dfl_loss  Instances       Size\n"
          ]
        },
        {
          "output_type": "stream",
          "name": "stderr",
          "text": [
            "     55/100      8.76G     0.6293     0.5269     0.9568         19        640: 100%|██████████| 7/7 [00:03<00:00,  1.81it/s]\n",
            "                 Class     Images  Instances      Box(P          R      mAP50  mAP50-95): 100%|██████████| 4/4 [00:01<00:00,  2.28it/s]"
          ]
        },
        {
          "output_type": "stream",
          "name": "stdout",
          "text": [
            "                   all        100        177       0.66      0.751      0.759      0.526\n"
          ]
        },
        {
          "output_type": "stream",
          "name": "stderr",
          "text": [
            "\n"
          ]
        },
        {
          "output_type": "stream",
          "name": "stdout",
          "text": [
            "\n",
            "      Epoch    GPU_mem   box_loss   cls_loss   dfl_loss  Instances       Size\n"
          ]
        },
        {
          "output_type": "stream",
          "name": "stderr",
          "text": [
            "     56/100      8.76G      0.633     0.5116     0.9449         16        640: 100%|██████████| 7/7 [00:03<00:00,  1.97it/s]\n",
            "                 Class     Images  Instances      Box(P          R      mAP50  mAP50-95): 100%|██████████| 4/4 [00:01<00:00,  3.94it/s]"
          ]
        },
        {
          "output_type": "stream",
          "name": "stdout",
          "text": [
            "                   all        100        177      0.675      0.703      0.725      0.488\n"
          ]
        },
        {
          "output_type": "stream",
          "name": "stderr",
          "text": [
            "\n"
          ]
        },
        {
          "output_type": "stream",
          "name": "stdout",
          "text": [
            "\n",
            "      Epoch    GPU_mem   box_loss   cls_loss   dfl_loss  Instances       Size\n"
          ]
        },
        {
          "output_type": "stream",
          "name": "stderr",
          "text": [
            "     57/100      8.75G      0.641     0.5633     0.9439         15        640: 100%|██████████| 7/7 [00:03<00:00,  1.98it/s]\n",
            "                 Class     Images  Instances      Box(P          R      mAP50  mAP50-95): 100%|██████████| 4/4 [00:01<00:00,  3.13it/s]"
          ]
        },
        {
          "output_type": "stream",
          "name": "stdout",
          "text": [
            "                   all        100        177      0.851      0.746      0.831      0.577\n"
          ]
        },
        {
          "output_type": "stream",
          "name": "stderr",
          "text": [
            "\n"
          ]
        },
        {
          "output_type": "stream",
          "name": "stdout",
          "text": [
            "\n",
            "      Epoch    GPU_mem   box_loss   cls_loss   dfl_loss  Instances       Size\n"
          ]
        },
        {
          "output_type": "stream",
          "name": "stderr",
          "text": [
            "     58/100      8.82G     0.6409      0.483     0.9255         33        640: 100%|██████████| 7/7 [00:04<00:00,  1.71it/s]\n",
            "                 Class     Images  Instances      Box(P          R      mAP50  mAP50-95): 100%|██████████| 4/4 [00:01<00:00,  3.84it/s]"
          ]
        },
        {
          "output_type": "stream",
          "name": "stdout",
          "text": [
            "                   all        100        177      0.881      0.718      0.836      0.581\n"
          ]
        },
        {
          "output_type": "stream",
          "name": "stderr",
          "text": [
            "\n"
          ]
        },
        {
          "output_type": "stream",
          "name": "stdout",
          "text": [
            "\n",
            "      Epoch    GPU_mem   box_loss   cls_loss   dfl_loss  Instances       Size\n"
          ]
        },
        {
          "output_type": "stream",
          "name": "stderr",
          "text": [
            "     59/100      8.76G     0.5949     0.4946     0.9371         23        640: 100%|██████████| 7/7 [00:03<00:00,  1.96it/s]\n",
            "                 Class     Images  Instances      Box(P          R      mAP50  mAP50-95): 100%|██████████| 4/4 [00:01<00:00,  3.82it/s]"
          ]
        },
        {
          "output_type": "stream",
          "name": "stdout",
          "text": [
            "                   all        100        177      0.855      0.766      0.844       0.57\n"
          ]
        },
        {
          "output_type": "stream",
          "name": "stderr",
          "text": [
            "\n"
          ]
        },
        {
          "output_type": "stream",
          "name": "stdout",
          "text": [
            "\n",
            "      Epoch    GPU_mem   box_loss   cls_loss   dfl_loss  Instances       Size\n"
          ]
        },
        {
          "output_type": "stream",
          "name": "stderr",
          "text": [
            "     60/100      8.79G     0.5634     0.4904     0.9171         12        640: 100%|██████████| 7/7 [00:03<00:00,  1.84it/s]\n",
            "                 Class     Images  Instances      Box(P          R      mAP50  mAP50-95): 100%|██████████| 4/4 [00:01<00:00,  2.80it/s]"
          ]
        },
        {
          "output_type": "stream",
          "name": "stdout",
          "text": [
            "                   all        100        177      0.891      0.787      0.862      0.601\n"
          ]
        },
        {
          "output_type": "stream",
          "name": "stderr",
          "text": [
            "\n"
          ]
        },
        {
          "output_type": "stream",
          "name": "stdout",
          "text": [
            "\n",
            "      Epoch    GPU_mem   box_loss   cls_loss   dfl_loss  Instances       Size\n"
          ]
        },
        {
          "output_type": "stream",
          "name": "stderr",
          "text": [
            "     61/100      8.75G     0.5509     0.4648     0.9102         16        640: 100%|██████████| 7/7 [00:03<00:00,  1.95it/s]\n",
            "                 Class     Images  Instances      Box(P          R      mAP50  mAP50-95): 100%|██████████| 4/4 [00:01<00:00,  3.75it/s]"
          ]
        },
        {
          "output_type": "stream",
          "name": "stdout",
          "text": [
            "                   all        100        177      0.904        0.8      0.868      0.605\n"
          ]
        },
        {
          "output_type": "stream",
          "name": "stderr",
          "text": [
            "\n"
          ]
        },
        {
          "output_type": "stream",
          "name": "stdout",
          "text": [
            "\n",
            "      Epoch    GPU_mem   box_loss   cls_loss   dfl_loss  Instances       Size\n"
          ]
        },
        {
          "output_type": "stream",
          "name": "stderr",
          "text": [
            "     62/100      8.79G     0.5805     0.4983     0.9528         13        640: 100%|██████████| 7/7 [00:03<00:00,  1.99it/s]\n",
            "                 Class     Images  Instances      Box(P          R      mAP50  mAP50-95): 100%|██████████| 4/4 [00:01<00:00,  3.81it/s]"
          ]
        },
        {
          "output_type": "stream",
          "name": "stdout",
          "text": [
            "                   all        100        177      0.897      0.786      0.862      0.581\n"
          ]
        },
        {
          "output_type": "stream",
          "name": "stderr",
          "text": [
            "\n"
          ]
        },
        {
          "output_type": "stream",
          "name": "stdout",
          "text": [
            "\n",
            "      Epoch    GPU_mem   box_loss   cls_loss   dfl_loss  Instances       Size\n"
          ]
        },
        {
          "output_type": "stream",
          "name": "stderr",
          "text": [
            "     63/100      8.76G     0.5837     0.5409     0.9417          7        640: 100%|██████████| 7/7 [00:03<00:00,  1.80it/s]\n",
            "                 Class     Images  Instances      Box(P          R      mAP50  mAP50-95): 100%|██████████| 4/4 [00:01<00:00,  3.24it/s]"
          ]
        },
        {
          "output_type": "stream",
          "name": "stdout",
          "text": [
            "                   all        100        177      0.886      0.768      0.856       0.61\n"
          ]
        },
        {
          "output_type": "stream",
          "name": "stderr",
          "text": [
            "\n"
          ]
        },
        {
          "output_type": "stream",
          "name": "stdout",
          "text": [
            "\n",
            "      Epoch    GPU_mem   box_loss   cls_loss   dfl_loss  Instances       Size\n"
          ]
        },
        {
          "output_type": "stream",
          "name": "stderr",
          "text": [
            "     64/100       8.8G     0.5421     0.4912     0.9086         14        640: 100%|██████████| 7/7 [00:03<00:00,  1.97it/s]\n",
            "                 Class     Images  Instances      Box(P          R      mAP50  mAP50-95): 100%|██████████| 4/4 [00:01<00:00,  3.74it/s]"
          ]
        },
        {
          "output_type": "stream",
          "name": "stdout",
          "text": [
            "                   all        100        177      0.872      0.746      0.858      0.621\n"
          ]
        },
        {
          "output_type": "stream",
          "name": "stderr",
          "text": [
            "\n"
          ]
        },
        {
          "output_type": "stream",
          "name": "stdout",
          "text": [
            "\n",
            "      Epoch    GPU_mem   box_loss   cls_loss   dfl_loss  Instances       Size\n"
          ]
        },
        {
          "output_type": "stream",
          "name": "stderr",
          "text": [
            "     65/100      8.73G     0.5458     0.4566     0.9117         11        640: 100%|██████████| 7/7 [00:03<00:00,  1.86it/s]\n",
            "                 Class     Images  Instances      Box(P          R      mAP50  mAP50-95): 100%|██████████| 4/4 [00:01<00:00,  2.75it/s]"
          ]
        },
        {
          "output_type": "stream",
          "name": "stdout",
          "text": [
            "                   all        100        177      0.787      0.819      0.842       0.61\n"
          ]
        },
        {
          "output_type": "stream",
          "name": "stderr",
          "text": [
            "\n"
          ]
        },
        {
          "output_type": "stream",
          "name": "stdout",
          "text": [
            "\n",
            "      Epoch    GPU_mem   box_loss   cls_loss   dfl_loss  Instances       Size\n"
          ]
        },
        {
          "output_type": "stream",
          "name": "stderr",
          "text": [
            "     66/100      8.78G     0.5271      0.501     0.9195          9        640: 100%|██████████| 7/7 [00:03<00:00,  1.86it/s]\n",
            "                 Class     Images  Instances      Box(P          R      mAP50  mAP50-95): 100%|██████████| 4/4 [00:01<00:00,  3.83it/s]"
          ]
        },
        {
          "output_type": "stream",
          "name": "stdout",
          "text": [
            "                   all        100        177      0.875      0.714      0.829      0.591\n"
          ]
        },
        {
          "output_type": "stream",
          "name": "stderr",
          "text": [
            "\n"
          ]
        },
        {
          "output_type": "stream",
          "name": "stdout",
          "text": [
            "\n",
            "      Epoch    GPU_mem   box_loss   cls_loss   dfl_loss  Instances       Size\n"
          ]
        },
        {
          "output_type": "stream",
          "name": "stderr",
          "text": [
            "     67/100      8.73G     0.5559     0.4578     0.9202         17        640: 100%|██████████| 7/7 [00:03<00:00,  1.97it/s]\n",
            "                 Class     Images  Instances      Box(P          R      mAP50  mAP50-95): 100%|██████████| 4/4 [00:01<00:00,  3.86it/s]"
          ]
        },
        {
          "output_type": "stream",
          "name": "stdout",
          "text": [
            "                   all        100        177        0.9      0.714      0.835        0.6\n"
          ]
        },
        {
          "output_type": "stream",
          "name": "stderr",
          "text": [
            "\n"
          ]
        },
        {
          "output_type": "stream",
          "name": "stdout",
          "text": [
            "\n",
            "      Epoch    GPU_mem   box_loss   cls_loss   dfl_loss  Instances       Size\n"
          ]
        },
        {
          "output_type": "stream",
          "name": "stderr",
          "text": [
            "     68/100       8.8G      0.513     0.4317     0.8934          8        640: 100%|██████████| 7/7 [00:03<00:00,  1.78it/s]\n",
            "                 Class     Images  Instances      Box(P          R      mAP50  mAP50-95): 100%|██████████| 4/4 [00:01<00:00,  2.52it/s]"
          ]
        },
        {
          "output_type": "stream",
          "name": "stdout",
          "text": [
            "                   all        100        177      0.781      0.788      0.824      0.578\n"
          ]
        },
        {
          "output_type": "stream",
          "name": "stderr",
          "text": [
            "\n"
          ]
        },
        {
          "output_type": "stream",
          "name": "stdout",
          "text": [
            "\n",
            "      Epoch    GPU_mem   box_loss   cls_loss   dfl_loss  Instances       Size\n"
          ]
        },
        {
          "output_type": "stream",
          "name": "stderr",
          "text": [
            "     69/100      8.75G      0.482     0.4388      0.914         12        640: 100%|██████████| 7/7 [00:03<00:00,  1.98it/s]\n",
            "                 Class     Images  Instances      Box(P          R      mAP50  mAP50-95): 100%|██████████| 4/4 [00:01<00:00,  3.97it/s]"
          ]
        },
        {
          "output_type": "stream",
          "name": "stdout",
          "text": [
            "                   all        100        177      0.874      0.763       0.85      0.604\n"
          ]
        },
        {
          "output_type": "stream",
          "name": "stderr",
          "text": [
            "\n"
          ]
        },
        {
          "output_type": "stream",
          "name": "stdout",
          "text": [
            "\n",
            "      Epoch    GPU_mem   box_loss   cls_loss   dfl_loss  Instances       Size\n"
          ]
        },
        {
          "output_type": "stream",
          "name": "stderr",
          "text": [
            "     70/100       8.8G     0.5057     0.4317     0.8873         16        640: 100%|██████████| 7/7 [00:03<00:00,  1.97it/s]\n",
            "                 Class     Images  Instances      Box(P          R      mAP50  mAP50-95): 100%|██████████| 4/4 [00:01<00:00,  3.66it/s]"
          ]
        },
        {
          "output_type": "stream",
          "name": "stdout",
          "text": [
            "                   all        100        177      0.864      0.802      0.861      0.632\n"
          ]
        },
        {
          "output_type": "stream",
          "name": "stderr",
          "text": [
            "\n"
          ]
        },
        {
          "output_type": "stream",
          "name": "stdout",
          "text": [
            "\n",
            "      Epoch    GPU_mem   box_loss   cls_loss   dfl_loss  Instances       Size\n"
          ]
        },
        {
          "output_type": "stream",
          "name": "stderr",
          "text": [
            "     71/100      8.76G      0.505     0.4035      0.898         15        640: 100%|██████████| 7/7 [00:03<00:00,  1.82it/s]\n",
            "                 Class     Images  Instances      Box(P          R      mAP50  mAP50-95): 100%|██████████| 4/4 [00:01<00:00,  3.99it/s]"
          ]
        },
        {
          "output_type": "stream",
          "name": "stdout",
          "text": [
            "                   all        100        177      0.915      0.787      0.872      0.666\n"
          ]
        },
        {
          "output_type": "stream",
          "name": "stderr",
          "text": [
            "\n"
          ]
        },
        {
          "output_type": "stream",
          "name": "stdout",
          "text": [
            "\n",
            "      Epoch    GPU_mem   box_loss   cls_loss   dfl_loss  Instances       Size\n"
          ]
        },
        {
          "output_type": "stream",
          "name": "stderr",
          "text": [
            "     72/100      8.77G     0.5395     0.4453     0.9135         29        640: 100%|██████████| 7/7 [00:03<00:00,  1.95it/s]\n",
            "                 Class     Images  Instances      Box(P          R      mAP50  mAP50-95): 100%|██████████| 4/4 [00:00<00:00,  4.02it/s]"
          ]
        },
        {
          "output_type": "stream",
          "name": "stdout",
          "text": [
            "                   all        100        177      0.907      0.774      0.886      0.697\n"
          ]
        },
        {
          "output_type": "stream",
          "name": "stderr",
          "text": [
            "\n"
          ]
        },
        {
          "output_type": "stream",
          "name": "stdout",
          "text": [
            "\n",
            "      Epoch    GPU_mem   box_loss   cls_loss   dfl_loss  Instances       Size\n"
          ]
        },
        {
          "output_type": "stream",
          "name": "stderr",
          "text": [
            "     73/100      8.75G     0.5283     0.4669     0.9276         18        640: 100%|██████████| 7/7 [00:03<00:00,  1.84it/s]\n",
            "                 Class     Images  Instances      Box(P          R      mAP50  mAP50-95): 100%|██████████| 4/4 [00:01<00:00,  2.61it/s]"
          ]
        },
        {
          "output_type": "stream",
          "name": "stdout",
          "text": [
            "                   all        100        177      0.931      0.768       0.89      0.694\n"
          ]
        },
        {
          "output_type": "stream",
          "name": "stderr",
          "text": [
            "\n"
          ]
        },
        {
          "output_type": "stream",
          "name": "stdout",
          "text": [
            "\n",
            "      Epoch    GPU_mem   box_loss   cls_loss   dfl_loss  Instances       Size\n"
          ]
        },
        {
          "output_type": "stream",
          "name": "stderr",
          "text": [
            "     74/100      8.82G     0.5008     0.4528     0.9134         17        640: 100%|██████████| 7/7 [00:03<00:00,  1.94it/s]\n",
            "                 Class     Images  Instances      Box(P          R      mAP50  mAP50-95): 100%|██████████| 4/4 [00:01<00:00,  3.78it/s]"
          ]
        },
        {
          "output_type": "stream",
          "name": "stdout",
          "text": [
            "                   all        100        177      0.911       0.74       0.88      0.675\n"
          ]
        },
        {
          "output_type": "stream",
          "name": "stderr",
          "text": [
            "\n"
          ]
        },
        {
          "output_type": "stream",
          "name": "stdout",
          "text": [
            "\n",
            "      Epoch    GPU_mem   box_loss   cls_loss   dfl_loss  Instances       Size\n"
          ]
        },
        {
          "output_type": "stream",
          "name": "stderr",
          "text": [
            "     75/100      8.77G     0.4872     0.4181     0.9077         20        640: 100%|██████████| 7/7 [00:03<00:00,  1.98it/s]\n",
            "                 Class     Images  Instances      Box(P          R      mAP50  mAP50-95): 100%|██████████| 4/4 [00:01<00:00,  3.66it/s]"
          ]
        },
        {
          "output_type": "stream",
          "name": "stdout",
          "text": [
            "                   all        100        177      0.929      0.763      0.885      0.671\n"
          ]
        },
        {
          "output_type": "stream",
          "name": "stderr",
          "text": [
            "\n"
          ]
        },
        {
          "output_type": "stream",
          "name": "stdout",
          "text": [
            "\n",
            "      Epoch    GPU_mem   box_loss   cls_loss   dfl_loss  Instances       Size\n"
          ]
        },
        {
          "output_type": "stream",
          "name": "stderr",
          "text": [
            "     76/100      8.79G     0.4785      0.396     0.8847          7        640: 100%|██████████| 7/7 [00:03<00:00,  1.79it/s]\n",
            "                 Class     Images  Instances      Box(P          R      mAP50  mAP50-95): 100%|██████████| 4/4 [00:01<00:00,  2.56it/s]"
          ]
        },
        {
          "output_type": "stream",
          "name": "stdout",
          "text": [
            "                   all        100        177      0.931      0.763      0.886      0.652\n"
          ]
        },
        {
          "output_type": "stream",
          "name": "stderr",
          "text": [
            "\n"
          ]
        },
        {
          "output_type": "stream",
          "name": "stdout",
          "text": [
            "\n",
            "      Epoch    GPU_mem   box_loss   cls_loss   dfl_loss  Instances       Size\n"
          ]
        },
        {
          "output_type": "stream",
          "name": "stderr",
          "text": [
            "     77/100      8.75G     0.4849     0.4125     0.9048         19        640: 100%|██████████| 7/7 [00:03<00:00,  2.00it/s]\n",
            "                 Class     Images  Instances      Box(P          R      mAP50  mAP50-95): 100%|██████████| 4/4 [00:01<00:00,  3.92it/s]"
          ]
        },
        {
          "output_type": "stream",
          "name": "stdout",
          "text": [
            "                   all        100        177      0.935      0.768       0.89      0.639\n"
          ]
        },
        {
          "output_type": "stream",
          "name": "stderr",
          "text": [
            "\n"
          ]
        },
        {
          "output_type": "stream",
          "name": "stdout",
          "text": [
            "\n",
            "      Epoch    GPU_mem   box_loss   cls_loss   dfl_loss  Instances       Size\n"
          ]
        },
        {
          "output_type": "stream",
          "name": "stderr",
          "text": [
            "     78/100       8.8G       0.47      0.406     0.8807         24        640: 100%|██████████| 7/7 [00:03<00:00,  1.92it/s]\n",
            "                 Class     Images  Instances      Box(P          R      mAP50  mAP50-95): 100%|██████████| 4/4 [00:01<00:00,  2.62it/s]"
          ]
        },
        {
          "output_type": "stream",
          "name": "stdout",
          "text": [
            "                   all        100        177      0.939      0.774      0.894      0.656\n"
          ]
        },
        {
          "output_type": "stream",
          "name": "stderr",
          "text": [
            "\n"
          ]
        },
        {
          "output_type": "stream",
          "name": "stdout",
          "text": [
            "\n",
            "      Epoch    GPU_mem   box_loss   cls_loss   dfl_loss  Instances       Size\n"
          ]
        },
        {
          "output_type": "stream",
          "name": "stderr",
          "text": [
            "     79/100      8.77G     0.4796     0.3879     0.9042         18        640: 100%|██████████| 7/7 [00:03<00:00,  1.85it/s]\n",
            "                 Class     Images  Instances      Box(P          R      mAP50  mAP50-95): 100%|██████████| 4/4 [00:01<00:00,  3.95it/s]"
          ]
        },
        {
          "output_type": "stream",
          "name": "stdout",
          "text": [
            "                   all        100        177      0.943       0.78      0.892      0.671\n"
          ]
        },
        {
          "output_type": "stream",
          "name": "stderr",
          "text": [
            "\n"
          ]
        },
        {
          "output_type": "stream",
          "name": "stdout",
          "text": [
            "\n",
            "      Epoch    GPU_mem   box_loss   cls_loss   dfl_loss  Instances       Size\n"
          ]
        },
        {
          "output_type": "stream",
          "name": "stderr",
          "text": [
            "     80/100      8.83G     0.4415     0.3729     0.8688         17        640: 100%|██████████| 7/7 [00:03<00:00,  1.96it/s]\n",
            "                 Class     Images  Instances      Box(P          R      mAP50  mAP50-95): 100%|██████████| 4/4 [00:01<00:00,  3.93it/s]"
          ]
        },
        {
          "output_type": "stream",
          "name": "stdout",
          "text": [
            "                   all        100        177      0.964      0.767      0.884      0.674\n"
          ]
        },
        {
          "output_type": "stream",
          "name": "stderr",
          "text": [
            "\n"
          ]
        },
        {
          "output_type": "stream",
          "name": "stdout",
          "text": [
            "\n",
            "      Epoch    GPU_mem   box_loss   cls_loss   dfl_loss  Instances       Size\n"
          ]
        },
        {
          "output_type": "stream",
          "name": "stderr",
          "text": [
            "     81/100      8.71G     0.4386     0.3875     0.8836         15        640: 100%|██████████| 7/7 [00:03<00:00,  1.84it/s]\n",
            "                 Class     Images  Instances      Box(P          R      mAP50  mAP50-95): 100%|██████████| 4/4 [00:01<00:00,  2.43it/s]"
          ]
        },
        {
          "output_type": "stream",
          "name": "stdout",
          "text": [
            "                   all        100        177      0.968      0.768      0.882      0.671\n"
          ]
        },
        {
          "output_type": "stream",
          "name": "stderr",
          "text": [
            "\n"
          ]
        },
        {
          "output_type": "stream",
          "name": "stdout",
          "text": [
            "\n",
            "      Epoch    GPU_mem   box_loss   cls_loss   dfl_loss  Instances       Size\n"
          ]
        },
        {
          "output_type": "stream",
          "name": "stderr",
          "text": [
            "     82/100      8.82G     0.4544     0.3797     0.8919         20        640: 100%|██████████| 7/7 [00:03<00:00,  1.98it/s]\n",
            "                 Class     Images  Instances      Box(P          R      mAP50  mAP50-95): 100%|██████████| 4/4 [00:01<00:00,  3.88it/s]"
          ]
        },
        {
          "output_type": "stream",
          "name": "stdout",
          "text": [
            "                   all        100        177      0.958       0.78      0.885      0.686\n"
          ]
        },
        {
          "output_type": "stream",
          "name": "stderr",
          "text": [
            "\n"
          ]
        },
        {
          "output_type": "stream",
          "name": "stdout",
          "text": [
            "\n",
            "      Epoch    GPU_mem   box_loss   cls_loss   dfl_loss  Instances       Size\n"
          ]
        },
        {
          "output_type": "stream",
          "name": "stderr",
          "text": [
            "     83/100      8.77G     0.4435     0.3822     0.8846         17        640: 100%|██████████| 7/7 [00:03<00:00,  1.97it/s]\n",
            "                 Class     Images  Instances      Box(P          R      mAP50  mAP50-95): 100%|██████████| 4/4 [00:01<00:00,  3.17it/s]"
          ]
        },
        {
          "output_type": "stream",
          "name": "stdout",
          "text": [
            "                   all        100        177      0.952       0.79      0.887      0.684\n"
          ]
        },
        {
          "output_type": "stream",
          "name": "stderr",
          "text": [
            "\n"
          ]
        },
        {
          "output_type": "stream",
          "name": "stdout",
          "text": [
            "\n",
            "      Epoch    GPU_mem   box_loss   cls_loss   dfl_loss  Instances       Size\n"
          ]
        },
        {
          "output_type": "stream",
          "name": "stderr",
          "text": [
            "     84/100      8.79G     0.4249     0.3815     0.8756         16        640: 100%|██████████| 7/7 [00:04<00:00,  1.74it/s]\n",
            "                 Class     Images  Instances      Box(P          R      mAP50  mAP50-95): 100%|██████████| 4/4 [00:01<00:00,  3.88it/s]"
          ]
        },
        {
          "output_type": "stream",
          "name": "stdout",
          "text": [
            "                   all        100        177      0.924      0.797      0.892       0.68\n"
          ]
        },
        {
          "output_type": "stream",
          "name": "stderr",
          "text": [
            "\n"
          ]
        },
        {
          "output_type": "stream",
          "name": "stdout",
          "text": [
            "\n",
            "      Epoch    GPU_mem   box_loss   cls_loss   dfl_loss  Instances       Size\n"
          ]
        },
        {
          "output_type": "stream",
          "name": "stderr",
          "text": [
            "     85/100      8.73G     0.4447     0.3673     0.8751         14        640: 100%|██████████| 7/7 [00:03<00:00,  1.99it/s]\n",
            "                 Class     Images  Instances      Box(P          R      mAP50  mAP50-95): 100%|██████████| 4/4 [00:01<00:00,  3.88it/s]"
          ]
        },
        {
          "output_type": "stream",
          "name": "stdout",
          "text": [
            "                   all        100        177      0.922      0.801      0.891      0.681\n"
          ]
        },
        {
          "output_type": "stream",
          "name": "stderr",
          "text": [
            "\n"
          ]
        },
        {
          "output_type": "stream",
          "name": "stdout",
          "text": [
            "\n",
            "      Epoch    GPU_mem   box_loss   cls_loss   dfl_loss  Instances       Size\n"
          ]
        },
        {
          "output_type": "stream",
          "name": "stderr",
          "text": [
            "     86/100      8.78G     0.4537     0.3959     0.8663         12        640: 100%|██████████| 7/7 [00:03<00:00,  1.89it/s]\n",
            "                 Class     Images  Instances      Box(P          R      mAP50  mAP50-95): 100%|██████████| 4/4 [00:01<00:00,  2.63it/s]"
          ]
        },
        {
          "output_type": "stream",
          "name": "stdout",
          "text": [
            "                   all        100        177      0.918      0.802       0.89      0.683\n"
          ]
        },
        {
          "output_type": "stream",
          "name": "stderr",
          "text": [
            "\n"
          ]
        },
        {
          "output_type": "stream",
          "name": "stdout",
          "text": [
            "\n",
            "      Epoch    GPU_mem   box_loss   cls_loss   dfl_loss  Instances       Size\n"
          ]
        },
        {
          "output_type": "stream",
          "name": "stderr",
          "text": [
            "     87/100      8.74G     0.4226     0.3642     0.8886         15        640: 100%|██████████| 7/7 [00:03<00:00,  1.91it/s]\n",
            "                 Class     Images  Instances      Box(P          R      mAP50  mAP50-95): 100%|██████████| 4/4 [00:01<00:00,  3.84it/s]"
          ]
        },
        {
          "output_type": "stream",
          "name": "stdout",
          "text": [
            "                   all        100        177      0.919      0.774      0.887      0.683\n"
          ]
        },
        {
          "output_type": "stream",
          "name": "stderr",
          "text": [
            "\n"
          ]
        },
        {
          "output_type": "stream",
          "name": "stdout",
          "text": [
            "\n",
            "      Epoch    GPU_mem   box_loss   cls_loss   dfl_loss  Instances       Size\n"
          ]
        },
        {
          "output_type": "stream",
          "name": "stderr",
          "text": [
            "     88/100      8.81G     0.4281     0.3853     0.8872          9        640: 100%|██████████| 7/7 [00:03<00:00,  1.95it/s]\n",
            "                 Class     Images  Instances      Box(P          R      mAP50  mAP50-95): 100%|██████████| 4/4 [00:01<00:00,  3.90it/s]"
          ]
        },
        {
          "output_type": "stream",
          "name": "stdout",
          "text": [
            "                   all        100        177      0.881      0.802      0.877      0.668\n"
          ]
        },
        {
          "output_type": "stream",
          "name": "stderr",
          "text": [
            "\n"
          ]
        },
        {
          "output_type": "stream",
          "name": "stdout",
          "text": [
            "\n",
            "      Epoch    GPU_mem   box_loss   cls_loss   dfl_loss  Instances       Size\n"
          ]
        },
        {
          "output_type": "stream",
          "name": "stderr",
          "text": [
            "     89/100      8.72G     0.4356     0.3926     0.8923         11        640: 100%|██████████| 7/7 [00:03<00:00,  1.79it/s]\n",
            "                 Class     Images  Instances      Box(P          R      mAP50  mAP50-95): 100%|██████████| 4/4 [00:01<00:00,  2.67it/s]"
          ]
        },
        {
          "output_type": "stream",
          "name": "stdout",
          "text": [
            "                   all        100        177      0.861      0.803       0.87      0.662\n"
          ]
        },
        {
          "output_type": "stream",
          "name": "stderr",
          "text": [
            "\n"
          ]
        },
        {
          "output_type": "stream",
          "name": "stdout",
          "text": [
            "\n",
            "      Epoch    GPU_mem   box_loss   cls_loss   dfl_loss  Instances       Size\n"
          ]
        },
        {
          "output_type": "stream",
          "name": "stderr",
          "text": [
            "     90/100       8.8G     0.4238     0.3768     0.8876         16        640: 100%|██████████| 7/7 [00:03<00:00,  1.97it/s]\n",
            "                 Class     Images  Instances      Box(P          R      mAP50  mAP50-95): 100%|██████████| 4/4 [00:01<00:00,  3.92it/s]"
          ]
        },
        {
          "output_type": "stream",
          "name": "stdout",
          "text": [
            "                   all        100        177      0.885      0.785      0.871      0.661\n"
          ]
        },
        {
          "output_type": "stream",
          "name": "stderr",
          "text": [
            "\n"
          ]
        },
        {
          "output_type": "stream",
          "name": "stdout",
          "text": [
            "Closing dataloader mosaic\n",
            "\u001b[34m\u001b[1malbumentations: \u001b[0mBlur(p=0.01, blur_limit=(3, 7)), MedianBlur(p=0.01, blur_limit=(3, 7)), ToGray(p=0.01, num_output_channels=3, method='weighted_average'), CLAHE(p=0.01, clip_limit=(1, 4.0), tile_grid_size=(8, 8))\n"
          ]
        },
        {
          "output_type": "stream",
          "name": "stderr",
          "text": [
            "/usr/lib/python3.10/multiprocessing/popen_fork.py:66: RuntimeWarning: os.fork() was called. os.fork() is incompatible with multithreaded code, and JAX is multithreaded, so this will likely lead to a deadlock.\n",
            "  self.pid = os.fork()\n"
          ]
        },
        {
          "output_type": "stream",
          "name": "stdout",
          "text": [
            "\n",
            "      Epoch    GPU_mem   box_loss   cls_loss   dfl_loss  Instances       Size\n"
          ]
        },
        {
          "output_type": "stream",
          "name": "stderr",
          "text": [
            "     91/100      8.73G     0.3918     0.3569     0.8281          6        640: 100%|██████████| 7/7 [00:04<00:00,  1.49it/s]\n",
            "                 Class     Images  Instances      Box(P          R      mAP50  mAP50-95): 100%|██████████| 4/4 [00:01<00:00,  2.68it/s]"
          ]
        },
        {
          "output_type": "stream",
          "name": "stdout",
          "text": [
            "                   all        100        177      0.897       0.79      0.873      0.662\n"
          ]
        },
        {
          "output_type": "stream",
          "name": "stderr",
          "text": [
            "\n"
          ]
        },
        {
          "output_type": "stream",
          "name": "stdout",
          "text": [
            "\n",
            "      Epoch    GPU_mem   box_loss   cls_loss   dfl_loss  Instances       Size\n"
          ]
        },
        {
          "output_type": "stream",
          "name": "stderr",
          "text": [
            "     92/100      8.76G     0.3808     0.3447     0.8667          8        640: 100%|██████████| 7/7 [00:03<00:00,  1.93it/s]\n",
            "                 Class     Images  Instances      Box(P          R      mAP50  mAP50-95): 100%|██████████| 4/4 [00:01<00:00,  3.79it/s]"
          ]
        },
        {
          "output_type": "stream",
          "name": "stdout",
          "text": [
            "                   all        100        177      0.902      0.791      0.883      0.679\n"
          ]
        },
        {
          "output_type": "stream",
          "name": "stderr",
          "text": [
            "\n"
          ]
        },
        {
          "output_type": "stream",
          "name": "stdout",
          "text": [
            "\n",
            "      Epoch    GPU_mem   box_loss   cls_loss   dfl_loss  Instances       Size\n"
          ]
        },
        {
          "output_type": "stream",
          "name": "stderr",
          "text": [
            "     93/100      8.72G     0.3659     0.3248     0.8406         23        640: 100%|██████████| 7/7 [00:03<00:00,  1.98it/s]\n",
            "                 Class     Images  Instances      Box(P          R      mAP50  mAP50-95): 100%|██████████| 4/4 [00:01<00:00,  3.80it/s]"
          ]
        },
        {
          "output_type": "stream",
          "name": "stdout",
          "text": [
            "                   all        100        177      0.894      0.814      0.881      0.682\n"
          ]
        },
        {
          "output_type": "stream",
          "name": "stderr",
          "text": [
            "\n"
          ]
        },
        {
          "output_type": "stream",
          "name": "stdout",
          "text": [
            "\n",
            "      Epoch    GPU_mem   box_loss   cls_loss   dfl_loss  Instances       Size\n"
          ]
        },
        {
          "output_type": "stream",
          "name": "stderr",
          "text": [
            "     94/100      8.77G     0.3612     0.3142     0.8376          6        640: 100%|██████████| 7/7 [00:03<00:00,  1.77it/s]\n",
            "                 Class     Images  Instances      Box(P          R      mAP50  mAP50-95): 100%|██████████| 4/4 [00:01<00:00,  2.49it/s]"
          ]
        },
        {
          "output_type": "stream",
          "name": "stdout",
          "text": [
            "                   all        100        177      0.903      0.792      0.873      0.684\n"
          ]
        },
        {
          "output_type": "stream",
          "name": "stderr",
          "text": [
            "\n"
          ]
        },
        {
          "output_type": "stream",
          "name": "stdout",
          "text": [
            "\n",
            "      Epoch    GPU_mem   box_loss   cls_loss   dfl_loss  Instances       Size\n"
          ]
        },
        {
          "output_type": "stream",
          "name": "stderr",
          "text": [
            "     95/100      8.74G     0.3977     0.3445     0.8769          8        640: 100%|██████████| 7/7 [00:03<00:00,  2.00it/s]\n",
            "                 Class     Images  Instances      Box(P          R      mAP50  mAP50-95): 100%|██████████| 4/4 [00:01<00:00,  3.79it/s]"
          ]
        },
        {
          "output_type": "stream",
          "name": "stdout",
          "text": [
            "                   all        100        177      0.889      0.812      0.874      0.695\n"
          ]
        },
        {
          "output_type": "stream",
          "name": "stderr",
          "text": [
            "\n"
          ]
        },
        {
          "output_type": "stream",
          "name": "stdout",
          "text": [
            "\n",
            "      Epoch    GPU_mem   box_loss   cls_loss   dfl_loss  Instances       Size\n"
          ]
        },
        {
          "output_type": "stream",
          "name": "stderr",
          "text": [
            "     96/100      8.77G      0.353     0.3327     0.8609          7        640: 100%|██████████| 7/7 [00:03<00:00,  1.87it/s]\n",
            "                 Class     Images  Instances      Box(P          R      mAP50  mAP50-95): 100%|██████████| 4/4 [00:01<00:00,  2.83it/s]"
          ]
        },
        {
          "output_type": "stream",
          "name": "stdout",
          "text": [
            "                   all        100        177      0.883      0.797      0.875      0.693\n"
          ]
        },
        {
          "output_type": "stream",
          "name": "stderr",
          "text": [
            "\n"
          ]
        },
        {
          "output_type": "stream",
          "name": "stdout",
          "text": [
            "\n",
            "      Epoch    GPU_mem   box_loss   cls_loss   dfl_loss  Instances       Size\n"
          ]
        },
        {
          "output_type": "stream",
          "name": "stderr",
          "text": [
            "     97/100      8.71G     0.3286     0.2914     0.8278          7        640: 100%|██████████| 7/7 [00:03<00:00,  1.90it/s]\n",
            "                 Class     Images  Instances      Box(P          R      mAP50  mAP50-95): 100%|██████████| 4/4 [00:01<00:00,  3.10it/s]"
          ]
        },
        {
          "output_type": "stream",
          "name": "stdout",
          "text": [
            "                   all        100        177      0.867      0.811      0.876      0.696\n"
          ]
        },
        {
          "output_type": "stream",
          "name": "stderr",
          "text": [
            "\n"
          ]
        },
        {
          "output_type": "stream",
          "name": "stdout",
          "text": [
            "\n",
            "      Epoch    GPU_mem   box_loss   cls_loss   dfl_loss  Instances       Size\n"
          ]
        },
        {
          "output_type": "stream",
          "name": "stderr",
          "text": [
            "     98/100      8.82G     0.3339     0.2819     0.8098          8        640: 100%|██████████| 7/7 [00:03<00:00,  1.79it/s]\n",
            "                 Class     Images  Instances      Box(P          R      mAP50  mAP50-95): 100%|██████████| 4/4 [00:01<00:00,  3.65it/s]"
          ]
        },
        {
          "output_type": "stream",
          "name": "stdout",
          "text": [
            "                   all        100        177      0.932      0.773      0.879      0.695\n"
          ]
        },
        {
          "output_type": "stream",
          "name": "stderr",
          "text": [
            "\n"
          ]
        },
        {
          "output_type": "stream",
          "name": "stdout",
          "text": [
            "\n",
            "      Epoch    GPU_mem   box_loss   cls_loss   dfl_loss  Instances       Size\n"
          ]
        },
        {
          "output_type": "stream",
          "name": "stderr",
          "text": [
            "     99/100      8.74G     0.3247     0.2797     0.8459          8        640: 100%|██████████| 7/7 [00:03<00:00,  1.82it/s]\n",
            "                 Class     Images  Instances      Box(P          R      mAP50  mAP50-95): 100%|██████████| 4/4 [00:01<00:00,  2.68it/s]"
          ]
        },
        {
          "output_type": "stream",
          "name": "stdout",
          "text": [
            "                   all        100        177      0.918       0.78      0.882      0.699\n"
          ]
        },
        {
          "output_type": "stream",
          "name": "stderr",
          "text": [
            "\n"
          ]
        },
        {
          "output_type": "stream",
          "name": "stdout",
          "text": [
            "\n",
            "      Epoch    GPU_mem   box_loss   cls_loss   dfl_loss  Instances       Size\n"
          ]
        },
        {
          "output_type": "stream",
          "name": "stderr",
          "text": [
            "    100/100      8.78G     0.3301     0.2998     0.8358          7        640: 100%|██████████| 7/7 [00:03<00:00,  1.97it/s]\n",
            "                 Class     Images  Instances      Box(P          R      mAP50  mAP50-95): 100%|██████████| 4/4 [00:00<00:00,  4.02it/s]"
          ]
        },
        {
          "output_type": "stream",
          "name": "stdout",
          "text": [
            "                   all        100        177      0.904      0.794      0.883      0.702\n"
          ]
        },
        {
          "output_type": "stream",
          "name": "stderr",
          "text": [
            "\n"
          ]
        },
        {
          "output_type": "stream",
          "name": "stdout",
          "text": [
            "\n",
            "100 epochs completed in 0.180 hours.\n",
            "Optimizer stripped from runs/detect/test-training/weights/last.pt, 40.5MB\n",
            "Optimizer stripped from runs/detect/test-training/weights/best.pt, 40.5MB\n",
            "\n",
            "Validating runs/detect/test-training/weights/best.pt...\n",
            "Ultralytics 8.3.27 🚀 Python-3.10.12 torch-2.4.1+cu121 CUDA:0 (Tesla T4, 15102MiB)\n",
            "YOLO11m summary (fused): 303 layers, 20,032,345 parameters, 0 gradients, 67.7 GFLOPs\n"
          ]
        },
        {
          "output_type": "stream",
          "name": "stderr",
          "text": [
            "                 Class     Images  Instances      Box(P          R      mAP50  mAP50-95): 100%|██████████| 4/4 [00:01<00:00,  2.10it/s]\n"
          ]
        },
        {
          "output_type": "stream",
          "name": "stdout",
          "text": [
            "                   all        100        177      0.903      0.792      0.883      0.701\n",
            "                 other         94        177      0.903      0.792      0.883      0.701\n",
            "Speed: 0.2ms preprocess, 6.9ms inference, 0.0ms loss, 2.4ms postprocess per image\n",
            "Results saved to \u001b[1mruns/detect/test-training\u001b[0m\n"
          ]
        },
        {
          "output_type": "execute_result",
          "data": {
            "text/plain": [
              "ultralytics.utils.metrics.DetMetrics object with attributes:\n",
              "\n",
              "ap_class_index: array([2])\n",
              "box: ultralytics.utils.metrics.Metric object\n",
              "confusion_matrix: <ultralytics.utils.metrics.ConfusionMatrix object at 0x7e8a6557a260>\n",
              "curves: ['Precision-Recall(B)', 'F1-Confidence(B)', 'Precision-Confidence(B)', 'Recall-Confidence(B)']\n",
              "curves_results: [[array([          0,    0.001001,    0.002002,    0.003003,    0.004004,    0.005005,    0.006006,    0.007007,    0.008008,    0.009009,     0.01001,    0.011011,    0.012012,    0.013013,    0.014014,    0.015015,    0.016016,    0.017017,    0.018018,    0.019019,     0.02002,    0.021021,    0.022022,    0.023023,\n",
              "          0.024024,    0.025025,    0.026026,    0.027027,    0.028028,    0.029029,     0.03003,    0.031031,    0.032032,    0.033033,    0.034034,    0.035035,    0.036036,    0.037037,    0.038038,    0.039039,     0.04004,    0.041041,    0.042042,    0.043043,    0.044044,    0.045045,    0.046046,    0.047047,\n",
              "          0.048048,    0.049049,     0.05005,    0.051051,    0.052052,    0.053053,    0.054054,    0.055055,    0.056056,    0.057057,    0.058058,    0.059059,     0.06006,    0.061061,    0.062062,    0.063063,    0.064064,    0.065065,    0.066066,    0.067067,    0.068068,    0.069069,     0.07007,    0.071071,\n",
              "          0.072072,    0.073073,    0.074074,    0.075075,    0.076076,    0.077077,    0.078078,    0.079079,     0.08008,    0.081081,    0.082082,    0.083083,    0.084084,    0.085085,    0.086086,    0.087087,    0.088088,    0.089089,     0.09009,    0.091091,    0.092092,    0.093093,    0.094094,    0.095095,\n",
              "          0.096096,    0.097097,    0.098098,    0.099099,      0.1001,      0.1011,      0.1021,      0.1031,      0.1041,     0.10511,     0.10611,     0.10711,     0.10811,     0.10911,     0.11011,     0.11111,     0.11211,     0.11311,     0.11411,     0.11512,     0.11612,     0.11712,     0.11812,     0.11912,\n",
              "           0.12012,     0.12112,     0.12212,     0.12312,     0.12412,     0.12513,     0.12613,     0.12713,     0.12813,     0.12913,     0.13013,     0.13113,     0.13213,     0.13313,     0.13413,     0.13514,     0.13614,     0.13714,     0.13814,     0.13914,     0.14014,     0.14114,     0.14214,     0.14314,\n",
              "           0.14414,     0.14515,     0.14615,     0.14715,     0.14815,     0.14915,     0.15015,     0.15115,     0.15215,     0.15315,     0.15415,     0.15516,     0.15616,     0.15716,     0.15816,     0.15916,     0.16016,     0.16116,     0.16216,     0.16316,     0.16416,     0.16517,     0.16617,     0.16717,\n",
              "           0.16817,     0.16917,     0.17017,     0.17117,     0.17217,     0.17317,     0.17417,     0.17518,     0.17618,     0.17718,     0.17818,     0.17918,     0.18018,     0.18118,     0.18218,     0.18318,     0.18418,     0.18519,     0.18619,     0.18719,     0.18819,     0.18919,     0.19019,     0.19119,\n",
              "           0.19219,     0.19319,     0.19419,      0.1952,      0.1962,      0.1972,      0.1982,      0.1992,      0.2002,      0.2012,      0.2022,      0.2032,      0.2042,     0.20521,     0.20621,     0.20721,     0.20821,     0.20921,     0.21021,     0.21121,     0.21221,     0.21321,     0.21421,     0.21522,\n",
              "           0.21622,     0.21722,     0.21822,     0.21922,     0.22022,     0.22122,     0.22222,     0.22322,     0.22422,     0.22523,     0.22623,     0.22723,     0.22823,     0.22923,     0.23023,     0.23123,     0.23223,     0.23323,     0.23423,     0.23524,     0.23624,     0.23724,     0.23824,     0.23924,\n",
              "           0.24024,     0.24124,     0.24224,     0.24324,     0.24424,     0.24525,     0.24625,     0.24725,     0.24825,     0.24925,     0.25025,     0.25125,     0.25225,     0.25325,     0.25425,     0.25526,     0.25626,     0.25726,     0.25826,     0.25926,     0.26026,     0.26126,     0.26226,     0.26326,\n",
              "           0.26426,     0.26527,     0.26627,     0.26727,     0.26827,     0.26927,     0.27027,     0.27127,     0.27227,     0.27327,     0.27427,     0.27528,     0.27628,     0.27728,     0.27828,     0.27928,     0.28028,     0.28128,     0.28228,     0.28328,     0.28428,     0.28529,     0.28629,     0.28729,\n",
              "           0.28829,     0.28929,     0.29029,     0.29129,     0.29229,     0.29329,     0.29429,      0.2953,      0.2963,      0.2973,      0.2983,      0.2993,      0.3003,      0.3013,      0.3023,      0.3033,      0.3043,     0.30531,     0.30631,     0.30731,     0.30831,     0.30931,     0.31031,     0.31131,\n",
              "           0.31231,     0.31331,     0.31431,     0.31532,     0.31632,     0.31732,     0.31832,     0.31932,     0.32032,     0.32132,     0.32232,     0.32332,     0.32432,     0.32533,     0.32633,     0.32733,     0.32833,     0.32933,     0.33033,     0.33133,     0.33233,     0.33333,     0.33433,     0.33534,\n",
              "           0.33634,     0.33734,     0.33834,     0.33934,     0.34034,     0.34134,     0.34234,     0.34334,     0.34434,     0.34535,     0.34635,     0.34735,     0.34835,     0.34935,     0.35035,     0.35135,     0.35235,     0.35335,     0.35435,     0.35536,     0.35636,     0.35736,     0.35836,     0.35936,\n",
              "           0.36036,     0.36136,     0.36236,     0.36336,     0.36436,     0.36537,     0.36637,     0.36737,     0.36837,     0.36937,     0.37037,     0.37137,     0.37237,     0.37337,     0.37437,     0.37538,     0.37638,     0.37738,     0.37838,     0.37938,     0.38038,     0.38138,     0.38238,     0.38338,\n",
              "           0.38438,     0.38539,     0.38639,     0.38739,     0.38839,     0.38939,     0.39039,     0.39139,     0.39239,     0.39339,     0.39439,      0.3954,      0.3964,      0.3974,      0.3984,      0.3994,      0.4004,      0.4014,      0.4024,      0.4034,      0.4044,     0.40541,     0.40641,     0.40741,\n",
              "           0.40841,     0.40941,     0.41041,     0.41141,     0.41241,     0.41341,     0.41441,     0.41542,     0.41642,     0.41742,     0.41842,     0.41942,     0.42042,     0.42142,     0.42242,     0.42342,     0.42442,     0.42543,     0.42643,     0.42743,     0.42843,     0.42943,     0.43043,     0.43143,\n",
              "           0.43243,     0.43343,     0.43443,     0.43544,     0.43644,     0.43744,     0.43844,     0.43944,     0.44044,     0.44144,     0.44244,     0.44344,     0.44444,     0.44545,     0.44645,     0.44745,     0.44845,     0.44945,     0.45045,     0.45145,     0.45245,     0.45345,     0.45445,     0.45546,\n",
              "           0.45646,     0.45746,     0.45846,     0.45946,     0.46046,     0.46146,     0.46246,     0.46346,     0.46446,     0.46547,     0.46647,     0.46747,     0.46847,     0.46947,     0.47047,     0.47147,     0.47247,     0.47347,     0.47447,     0.47548,     0.47648,     0.47748,     0.47848,     0.47948,\n",
              "           0.48048,     0.48148,     0.48248,     0.48348,     0.48448,     0.48549,     0.48649,     0.48749,     0.48849,     0.48949,     0.49049,     0.49149,     0.49249,     0.49349,     0.49449,      0.4955,      0.4965,      0.4975,      0.4985,      0.4995,      0.5005,      0.5015,      0.5025,      0.5035,\n",
              "            0.5045,     0.50551,     0.50651,     0.50751,     0.50851,     0.50951,     0.51051,     0.51151,     0.51251,     0.51351,     0.51451,     0.51552,     0.51652,     0.51752,     0.51852,     0.51952,     0.52052,     0.52152,     0.52252,     0.52352,     0.52452,     0.52553,     0.52653,     0.52753,\n",
              "           0.52853,     0.52953,     0.53053,     0.53153,     0.53253,     0.53353,     0.53453,     0.53554,     0.53654,     0.53754,     0.53854,     0.53954,     0.54054,     0.54154,     0.54254,     0.54354,     0.54454,     0.54555,     0.54655,     0.54755,     0.54855,     0.54955,     0.55055,     0.55155,\n",
              "           0.55255,     0.55355,     0.55455,     0.55556,     0.55656,     0.55756,     0.55856,     0.55956,     0.56056,     0.56156,     0.56256,     0.56356,     0.56456,     0.56557,     0.56657,     0.56757,     0.56857,     0.56957,     0.57057,     0.57157,     0.57257,     0.57357,     0.57457,     0.57558,\n",
              "           0.57658,     0.57758,     0.57858,     0.57958,     0.58058,     0.58158,     0.58258,     0.58358,     0.58458,     0.58559,     0.58659,     0.58759,     0.58859,     0.58959,     0.59059,     0.59159,     0.59259,     0.59359,     0.59459,      0.5956,      0.5966,      0.5976,      0.5986,      0.5996,\n",
              "            0.6006,      0.6016,      0.6026,      0.6036,      0.6046,     0.60561,     0.60661,     0.60761,     0.60861,     0.60961,     0.61061,     0.61161,     0.61261,     0.61361,     0.61461,     0.61562,     0.61662,     0.61762,     0.61862,     0.61962,     0.62062,     0.62162,     0.62262,     0.62362,\n",
              "           0.62462,     0.62563,     0.62663,     0.62763,     0.62863,     0.62963,     0.63063,     0.63163,     0.63263,     0.63363,     0.63463,     0.63564,     0.63664,     0.63764,     0.63864,     0.63964,     0.64064,     0.64164,     0.64264,     0.64364,     0.64464,     0.64565,     0.64665,     0.64765,\n",
              "           0.64865,     0.64965,     0.65065,     0.65165,     0.65265,     0.65365,     0.65465,     0.65566,     0.65666,     0.65766,     0.65866,     0.65966,     0.66066,     0.66166,     0.66266,     0.66366,     0.66466,     0.66567,     0.66667,     0.66767,     0.66867,     0.66967,     0.67067,     0.67167,\n",
              "           0.67267,     0.67367,     0.67467,     0.67568,     0.67668,     0.67768,     0.67868,     0.67968,     0.68068,     0.68168,     0.68268,     0.68368,     0.68468,     0.68569,     0.68669,     0.68769,     0.68869,     0.68969,     0.69069,     0.69169,     0.69269,     0.69369,     0.69469,      0.6957,\n",
              "            0.6967,      0.6977,      0.6987,      0.6997,      0.7007,      0.7017,      0.7027,      0.7037,      0.7047,     0.70571,     0.70671,     0.70771,     0.70871,     0.70971,     0.71071,     0.71171,     0.71271,     0.71371,     0.71471,     0.71572,     0.71672,     0.71772,     0.71872,     0.71972,\n",
              "           0.72072,     0.72172,     0.72272,     0.72372,     0.72472,     0.72573,     0.72673,     0.72773,     0.72873,     0.72973,     0.73073,     0.73173,     0.73273,     0.73373,     0.73473,     0.73574,     0.73674,     0.73774,     0.73874,     0.73974,     0.74074,     0.74174,     0.74274,     0.74374,\n",
              "           0.74474,     0.74575,     0.74675,     0.74775,     0.74875,     0.74975,     0.75075,     0.75175,     0.75275,     0.75375,     0.75475,     0.75576,     0.75676,     0.75776,     0.75876,     0.75976,     0.76076,     0.76176,     0.76276,     0.76376,     0.76476,     0.76577,     0.76677,     0.76777,\n",
              "           0.76877,     0.76977,     0.77077,     0.77177,     0.77277,     0.77377,     0.77477,     0.77578,     0.77678,     0.77778,     0.77878,     0.77978,     0.78078,     0.78178,     0.78278,     0.78378,     0.78478,     0.78579,     0.78679,     0.78779,     0.78879,     0.78979,     0.79079,     0.79179,\n",
              "           0.79279,     0.79379,     0.79479,      0.7958,      0.7968,      0.7978,      0.7988,      0.7998,      0.8008,      0.8018,      0.8028,      0.8038,      0.8048,     0.80581,     0.80681,     0.80781,     0.80881,     0.80981,     0.81081,     0.81181,     0.81281,     0.81381,     0.81481,     0.81582,\n",
              "           0.81682,     0.81782,     0.81882,     0.81982,     0.82082,     0.82182,     0.82282,     0.82382,     0.82482,     0.82583,     0.82683,     0.82783,     0.82883,     0.82983,     0.83083,     0.83183,     0.83283,     0.83383,     0.83483,     0.83584,     0.83684,     0.83784,     0.83884,     0.83984,\n",
              "           0.84084,     0.84184,     0.84284,     0.84384,     0.84484,     0.84585,     0.84685,     0.84785,     0.84885,     0.84985,     0.85085,     0.85185,     0.85285,     0.85385,     0.85485,     0.85586,     0.85686,     0.85786,     0.85886,     0.85986,     0.86086,     0.86186,     0.86286,     0.86386,\n",
              "           0.86486,     0.86587,     0.86687,     0.86787,     0.86887,     0.86987,     0.87087,     0.87187,     0.87287,     0.87387,     0.87487,     0.87588,     0.87688,     0.87788,     0.87888,     0.87988,     0.88088,     0.88188,     0.88288,     0.88388,     0.88488,     0.88589,     0.88689,     0.88789,\n",
              "           0.88889,     0.88989,     0.89089,     0.89189,     0.89289,     0.89389,     0.89489,      0.8959,      0.8969,      0.8979,      0.8989,      0.8999,      0.9009,      0.9019,      0.9029,      0.9039,      0.9049,     0.90591,     0.90691,     0.90791,     0.90891,     0.90991,     0.91091,     0.91191,\n",
              "           0.91291,     0.91391,     0.91491,     0.91592,     0.91692,     0.91792,     0.91892,     0.91992,     0.92092,     0.92192,     0.92292,     0.92392,     0.92492,     0.92593,     0.92693,     0.92793,     0.92893,     0.92993,     0.93093,     0.93193,     0.93293,     0.93393,     0.93493,     0.93594,\n",
              "           0.93694,     0.93794,     0.93894,     0.93994,     0.94094,     0.94194,     0.94294,     0.94394,     0.94494,     0.94595,     0.94695,     0.94795,     0.94895,     0.94995,     0.95095,     0.95195,     0.95295,     0.95395,     0.95495,     0.95596,     0.95696,     0.95796,     0.95896,     0.95996,\n",
              "           0.96096,     0.96196,     0.96296,     0.96396,     0.96496,     0.96597,     0.96697,     0.96797,     0.96897,     0.96997,     0.97097,     0.97197,     0.97297,     0.97397,     0.97497,     0.97598,     0.97698,     0.97798,     0.97898,     0.97998,     0.98098,     0.98198,     0.98298,     0.98398,\n",
              "           0.98498,     0.98599,     0.98699,     0.98799,     0.98899,     0.98999,     0.99099,     0.99199,     0.99299,     0.99399,     0.99499,       0.996,       0.997,       0.998,       0.999,           1]), array([[          1,           1,           1,           1,           1,           1,           1,           1,           1,           1,           1,           1,           1,           1,           1,           1,           1,           1,           1,           1,           1,           1,           1,\n",
              "                  1,           1,           1,           1,           1,           1,           1,           1,           1,           1,           1,           1,           1,           1,           1,           1,           1,           1,           1,           1,           1,           1,           1,\n",
              "                  1,           1,           1,           1,           1,           1,           1,           1,           1,           1,           1,           1,           1,           1,           1,           1,           1,           1,           1,           1,           1,           1,           1,\n",
              "                  1,           1,           1,           1,           1,           1,           1,           1,           1,           1,           1,           1,           1,           1,           1,           1,           1,           1,           1,           1,           1,           1,           1,\n",
              "                  1,           1,           1,           1,           1,           1,           1,           1,           1,           1,           1,           1,           1,           1,           1,           1,           1,           1,           1,           1,           1,           1,           1,\n",
              "                  1,           1,           1,           1,           1,           1,           1,           1,           1,           1,           1,           1,           1,           1,           1,           1,           1,           1,           1,           1,           1,           1,           1,\n",
              "                  1,           1,           1,           1,           1,           1,           1,           1,           1,           1,           1,           1,           1,           1,           1,           1,           1,           1,           1,           1,           1,           1,           1,\n",
              "                  1,           1,           1,           1,           1,           1,           1,           1,           1,           1,           1,           1,           1,           1,           1,           1,           1,           1,           1,           1,           1,           1,           1,\n",
              "                  1,           1,           1,           1,           1,           1,           1,           1,           1,           1,           1,           1,           1,           1,           1,           1,           1,           1,           1,           1,           1,           1,           1,\n",
              "                  1,           1,           1,           1,           1,           1,           1,           1,           1,           1,           1,           1,           1,           1,           1,           1,           1,           1,           1,           1,           1,           1,           1,\n",
              "                  1,           1,           1,           1,           1,           1,           1,           1,           1,           1,           1,           1,           1,           1,           1,           1,           1,           1,           1,           1,           1,           1,           1,\n",
              "                  1,           1,           1,           1,           1,           1,           1,           1,           1,           1,           1,           1,           1,           1,           1,           1,           1,           1,           1,           1,           1,           1,           1,\n",
              "                  1,           1,           1,           1,           1,           1,           1,           1,           1,           1,           1,           1,           1,           1,           1,           1,           1,           1,           1,           1,           1,           1,           1,\n",
              "                  1,           1,           1,           1,           1,           1,           1,           1,           1,           1,           1,           1,           1,           1,           1,           1,           1,           1,           1,           1,           1,           1,           1,\n",
              "                  1,           1,           1,           1,           1,           1,           1,           1,           1,           1,           1,           1,           1,           1,           1,           1,           1,           1,           1,           1,           1,           1,           1,\n",
              "                  1,           1,           1,           1,           1,           1,           1,           1,           1,           1,           1,           1,           1,           1,           1,           1,           1,           1,           1,           1,           1,           1,           1,\n",
              "                  1,           1,           1,           1,           1,           1,           1,           1,           1,           1,           1,           1,           1,           1,           1,           1,           1,           1,           1,           1,           1,           1,           1,\n",
              "                  1,           1,           1,           1,           1,           1,           1,           1,           1,           1,           1,           1,           1,           1,           1,           1,           1,           1,           1,           1,           1,           1,           1,\n",
              "                  1,           1,           1,           1,           1,           1,           1,           1,           1,           1,           1,           1,           1,           1,           1,           1,           1,           1,           1,           1,           1,           1,           1,\n",
              "                  1,           1,           1,           1,           1,           1,           1,           1,           1,           1,           1,           1,           1,           1,           1,           1,           1,           1,           1,           1,           1,           1,           1,\n",
              "                  1,           1,           1,           1,           1,           1,           1,           1,           1,           1,           1,           1,           1,           1,           1,           1,           1,           1,           1,           1,           1,           1,           1,\n",
              "                  1,           1,           1,           1,           1,           1,           1,           1,           1,           1,           1,           1,           1,           1,           1,           1,           1,           1,           1,           1,           1,           1,           1,\n",
              "                  1,           1,           1,           1,           1,           1,           1,           1,           1,           1,           1,           1,           1,           1,           1,           1,           1,           1,           1,           1,           1,           1,           1,\n",
              "                  1,           1,           1,           1,           1,           1,           1,           1,     0.99074,     0.99074,     0.99074,     0.99074,     0.99074,     0.99074,     0.99074,     0.99074,     0.99074,     0.99074,     0.99074,     0.99074,     0.99074,     0.99074,     0.99074,\n",
              "            0.99074,     0.99074,     0.99074,     0.99074,     0.99074,     0.99074,     0.99074,     0.99074,     0.99074,     0.99074,     0.99074,     0.99074,     0.99074,     0.99074,     0.99074,     0.99074,     0.99074,     0.99074,     0.99074,     0.99074,     0.99074,     0.99074,     0.99074,\n",
              "            0.99074,     0.99074,     0.99074,     0.99074,     0.99074,     0.99074,     0.99074,     0.99074,     0.99074,     0.99074,     0.99074,     0.99074,     0.99074,     0.99074,     0.99074,     0.99074,     0.99074,     0.99074,     0.99074,     0.99074,     0.99074,     0.99074,     0.99074,\n",
              "            0.99074,     0.99074,     0.99074,     0.99074,     0.99074,     0.99074,     0.98198,     0.98198,     0.98198,     0.98198,     0.98198,     0.98198,     0.98198,     0.98198,     0.98198,     0.98198,     0.98198,     0.98198,     0.97458,     0.97458,     0.97458,     0.97458,     0.97458,\n",
              "            0.97458,     0.97458,     0.97458,     0.97458,     0.97458,     0.97458,     0.97458,     0.97458,     0.97458,     0.97458,     0.97458,     0.97458,     0.97458,     0.97458,     0.97458,     0.97458,     0.97458,     0.97458,     0.97458,     0.97458,     0.97458,     0.97458,     0.97458,\n",
              "            0.97458,     0.97458,     0.97458,     0.97458,     0.97458,     0.97458,     0.96899,     0.96899,     0.96899,     0.96899,     0.96899,     0.96899,     0.96899,     0.96899,     0.96899,     0.96899,     0.96899,     0.96899,     0.96899,     0.96899,     0.96899,     0.96899,     0.96899,\n",
              "            0.96899,     0.96899,     0.96899,     0.96899,     0.96899,     0.96899,     0.96899,     0.96899,     0.96899,     0.96899,     0.96899,     0.96899,     0.96899,     0.96899,     0.96899,     0.96899,     0.96899,     0.96899,     0.96899,     0.96899,     0.96899,     0.96899,     0.96899,\n",
              "            0.96899,     0.96899,     0.96899,     0.96899,     0.96899,     0.96899,     0.96899,     0.96899,     0.96899,     0.96899,     0.96899,     0.96899,     0.96899,     0.96899,     0.96899,     0.96899,     0.96212,     0.96212,     0.96212,     0.96212,     0.96212,     0.96212,     0.96212,\n",
              "            0.96212,     0.96212,     0.96212,     0.96212,     0.95522,     0.95522,     0.95522,     0.95522,     0.95522,     0.95522,     0.94928,     0.94928,     0.94928,     0.94928,     0.94928,     0.94928,     0.94928,     0.94928,     0.94928,     0.94928,     0.94928,     0.94928,     0.94928,\n",
              "            0.94928,     0.94928,     0.94928,     0.94928,     0.94326,     0.94326,     0.94326,     0.94326,     0.94326,     0.94326,     0.94326,     0.94326,     0.94326,     0.94326,     0.94326,     0.93706,     0.93706,     0.93706,     0.93706,     0.93706,     0.93706,     0.93197,     0.93197,\n",
              "            0.93197,     0.93197,     0.93197,     0.93197,     0.93197,     0.93197,     0.93197,     0.93197,     0.93197,     0.93197,     0.93197,     0.93197,     0.93197,     0.93197,     0.93197,     0.91447,     0.91447,     0.91447,     0.91447,     0.91447,     0.91447,     0.91447,     0.91447,\n",
              "            0.91447,     0.91447,     0.91447,     0.90385,     0.90385,     0.90385,     0.90385,     0.90385,     0.90385,     0.90385,     0.90385,     0.90385,     0.90385,     0.90385,     0.89873,     0.89873,     0.89873,     0.89873,     0.89873,     0.89873,     0.86905,     0.86905,     0.86905,\n",
              "            0.86905,     0.86905,     0.86905,     0.86905,     0.86905,     0.86905,     0.86905,     0.86905,     0.86905,     0.86905,     0.86905,     0.86905,     0.86905,     0.86905,     0.86905,     0.86905,     0.86905,     0.86905,     0.86905,     0.86905,     0.85965,     0.85965,     0.85965,\n",
              "            0.85965,     0.85965,     0.84091,     0.84091,     0.84091,     0.84091,     0.84091,     0.84091,      0.8324,      0.8324,      0.8324,      0.8324,      0.8324,     0.82967,     0.82967,     0.82967,     0.82967,     0.82967,     0.82967,     0.82967,     0.82967,     0.82967,     0.82967,\n",
              "            0.82967,     0.82967,     0.81283,     0.81283,     0.81283,     0.81283,     0.81283,     0.78462,     0.78462,     0.78462,     0.78462,     0.78462,     0.78462,     0.77778,     0.77778,     0.77778,     0.77778,     0.77778,     0.77778,     0.74879,     0.74879,     0.74879,     0.74879,\n",
              "            0.74879,     0.73934,     0.73934,     0.73934,     0.73934,     0.73934,     0.73934,     0.66525,     0.66525,     0.66525,     0.66525,     0.66525,     0.66525,     0.54671,     0.54671,     0.54671,     0.54671,     0.54671,     0.53716,     0.53716,     0.53716,     0.53716,     0.53716,\n",
              "            0.53716,     0.40506,     0.40506,     0.40506,     0.40506,     0.40506,     0.40506,     0.37529,     0.37529,     0.37529,     0.37529,     0.37529,     0.34914,     0.34914,     0.34914,     0.34914,     0.34914,     0.34914,     0.30185,     0.30185,     0.30185,     0.30185,     0.30185,\n",
              "            0.24773,     0.24773,     0.24773,     0.24773,     0.24773,     0.24773,     0.17735,     0.17493,      0.1725,     0.17007,     0.16764,     0.16521,     0.16278,     0.16035,     0.15792,     0.15549,     0.15306,     0.15063,      0.1482,     0.14577,     0.14334,     0.14091,     0.13848,\n",
              "            0.13605,     0.13362,     0.13119,     0.12876,     0.12634,     0.12391,     0.12148,     0.11905,     0.11662,     0.11419,     0.11176,     0.10933,      0.1069,     0.10447,     0.10204,     0.09961,    0.097181,    0.094751,    0.092322,    0.089892,    0.087463,    0.085033,    0.082604,\n",
              "           0.080174,    0.077745,    0.075315,    0.072886,    0.070456,    0.068027,    0.065597,    0.063168,    0.060738,    0.058308,    0.055879,    0.053449,     0.05102,     0.04859,    0.046161,    0.043731,    0.041302,    0.038872,    0.036443,    0.034013,    0.031584,    0.029154,    0.026725,\n",
              "           0.024295,    0.021866,    0.019436,    0.017007,    0.014577,    0.012148,   0.0097181,   0.0072886,    0.004859,   0.0024295,           0]]), 'Recall', 'Precision'], [array([          0,    0.001001,    0.002002,    0.003003,    0.004004,    0.005005,    0.006006,    0.007007,    0.008008,    0.009009,     0.01001,    0.011011,    0.012012,    0.013013,    0.014014,    0.015015,    0.016016,    0.017017,    0.018018,    0.019019,     0.02002,    0.021021,    0.022022,    0.023023,\n",
              "          0.024024,    0.025025,    0.026026,    0.027027,    0.028028,    0.029029,     0.03003,    0.031031,    0.032032,    0.033033,    0.034034,    0.035035,    0.036036,    0.037037,    0.038038,    0.039039,     0.04004,    0.041041,    0.042042,    0.043043,    0.044044,    0.045045,    0.046046,    0.047047,\n",
              "          0.048048,    0.049049,     0.05005,    0.051051,    0.052052,    0.053053,    0.054054,    0.055055,    0.056056,    0.057057,    0.058058,    0.059059,     0.06006,    0.061061,    0.062062,    0.063063,    0.064064,    0.065065,    0.066066,    0.067067,    0.068068,    0.069069,     0.07007,    0.071071,\n",
              "          0.072072,    0.073073,    0.074074,    0.075075,    0.076076,    0.077077,    0.078078,    0.079079,     0.08008,    0.081081,    0.082082,    0.083083,    0.084084,    0.085085,    0.086086,    0.087087,    0.088088,    0.089089,     0.09009,    0.091091,    0.092092,    0.093093,    0.094094,    0.095095,\n",
              "          0.096096,    0.097097,    0.098098,    0.099099,      0.1001,      0.1011,      0.1021,      0.1031,      0.1041,     0.10511,     0.10611,     0.10711,     0.10811,     0.10911,     0.11011,     0.11111,     0.11211,     0.11311,     0.11411,     0.11512,     0.11612,     0.11712,     0.11812,     0.11912,\n",
              "           0.12012,     0.12112,     0.12212,     0.12312,     0.12412,     0.12513,     0.12613,     0.12713,     0.12813,     0.12913,     0.13013,     0.13113,     0.13213,     0.13313,     0.13413,     0.13514,     0.13614,     0.13714,     0.13814,     0.13914,     0.14014,     0.14114,     0.14214,     0.14314,\n",
              "           0.14414,     0.14515,     0.14615,     0.14715,     0.14815,     0.14915,     0.15015,     0.15115,     0.15215,     0.15315,     0.15415,     0.15516,     0.15616,     0.15716,     0.15816,     0.15916,     0.16016,     0.16116,     0.16216,     0.16316,     0.16416,     0.16517,     0.16617,     0.16717,\n",
              "           0.16817,     0.16917,     0.17017,     0.17117,     0.17217,     0.17317,     0.17417,     0.17518,     0.17618,     0.17718,     0.17818,     0.17918,     0.18018,     0.18118,     0.18218,     0.18318,     0.18418,     0.18519,     0.18619,     0.18719,     0.18819,     0.18919,     0.19019,     0.19119,\n",
              "           0.19219,     0.19319,     0.19419,      0.1952,      0.1962,      0.1972,      0.1982,      0.1992,      0.2002,      0.2012,      0.2022,      0.2032,      0.2042,     0.20521,     0.20621,     0.20721,     0.20821,     0.20921,     0.21021,     0.21121,     0.21221,     0.21321,     0.21421,     0.21522,\n",
              "           0.21622,     0.21722,     0.21822,     0.21922,     0.22022,     0.22122,     0.22222,     0.22322,     0.22422,     0.22523,     0.22623,     0.22723,     0.22823,     0.22923,     0.23023,     0.23123,     0.23223,     0.23323,     0.23423,     0.23524,     0.23624,     0.23724,     0.23824,     0.23924,\n",
              "           0.24024,     0.24124,     0.24224,     0.24324,     0.24424,     0.24525,     0.24625,     0.24725,     0.24825,     0.24925,     0.25025,     0.25125,     0.25225,     0.25325,     0.25425,     0.25526,     0.25626,     0.25726,     0.25826,     0.25926,     0.26026,     0.26126,     0.26226,     0.26326,\n",
              "           0.26426,     0.26527,     0.26627,     0.26727,     0.26827,     0.26927,     0.27027,     0.27127,     0.27227,     0.27327,     0.27427,     0.27528,     0.27628,     0.27728,     0.27828,     0.27928,     0.28028,     0.28128,     0.28228,     0.28328,     0.28428,     0.28529,     0.28629,     0.28729,\n",
              "           0.28829,     0.28929,     0.29029,     0.29129,     0.29229,     0.29329,     0.29429,      0.2953,      0.2963,      0.2973,      0.2983,      0.2993,      0.3003,      0.3013,      0.3023,      0.3033,      0.3043,     0.30531,     0.30631,     0.30731,     0.30831,     0.30931,     0.31031,     0.31131,\n",
              "           0.31231,     0.31331,     0.31431,     0.31532,     0.31632,     0.31732,     0.31832,     0.31932,     0.32032,     0.32132,     0.32232,     0.32332,     0.32432,     0.32533,     0.32633,     0.32733,     0.32833,     0.32933,     0.33033,     0.33133,     0.33233,     0.33333,     0.33433,     0.33534,\n",
              "           0.33634,     0.33734,     0.33834,     0.33934,     0.34034,     0.34134,     0.34234,     0.34334,     0.34434,     0.34535,     0.34635,     0.34735,     0.34835,     0.34935,     0.35035,     0.35135,     0.35235,     0.35335,     0.35435,     0.35536,     0.35636,     0.35736,     0.35836,     0.35936,\n",
              "           0.36036,     0.36136,     0.36236,     0.36336,     0.36436,     0.36537,     0.36637,     0.36737,     0.36837,     0.36937,     0.37037,     0.37137,     0.37237,     0.37337,     0.37437,     0.37538,     0.37638,     0.37738,     0.37838,     0.37938,     0.38038,     0.38138,     0.38238,     0.38338,\n",
              "           0.38438,     0.38539,     0.38639,     0.38739,     0.38839,     0.38939,     0.39039,     0.39139,     0.39239,     0.39339,     0.39439,      0.3954,      0.3964,      0.3974,      0.3984,      0.3994,      0.4004,      0.4014,      0.4024,      0.4034,      0.4044,     0.40541,     0.40641,     0.40741,\n",
              "           0.40841,     0.40941,     0.41041,     0.41141,     0.41241,     0.41341,     0.41441,     0.41542,     0.41642,     0.41742,     0.41842,     0.41942,     0.42042,     0.42142,     0.42242,     0.42342,     0.42442,     0.42543,     0.42643,     0.42743,     0.42843,     0.42943,     0.43043,     0.43143,\n",
              "           0.43243,     0.43343,     0.43443,     0.43544,     0.43644,     0.43744,     0.43844,     0.43944,     0.44044,     0.44144,     0.44244,     0.44344,     0.44444,     0.44545,     0.44645,     0.44745,     0.44845,     0.44945,     0.45045,     0.45145,     0.45245,     0.45345,     0.45445,     0.45546,\n",
              "           0.45646,     0.45746,     0.45846,     0.45946,     0.46046,     0.46146,     0.46246,     0.46346,     0.46446,     0.46547,     0.46647,     0.46747,     0.46847,     0.46947,     0.47047,     0.47147,     0.47247,     0.47347,     0.47447,     0.47548,     0.47648,     0.47748,     0.47848,     0.47948,\n",
              "           0.48048,     0.48148,     0.48248,     0.48348,     0.48448,     0.48549,     0.48649,     0.48749,     0.48849,     0.48949,     0.49049,     0.49149,     0.49249,     0.49349,     0.49449,      0.4955,      0.4965,      0.4975,      0.4985,      0.4995,      0.5005,      0.5015,      0.5025,      0.5035,\n",
              "            0.5045,     0.50551,     0.50651,     0.50751,     0.50851,     0.50951,     0.51051,     0.51151,     0.51251,     0.51351,     0.51451,     0.51552,     0.51652,     0.51752,     0.51852,     0.51952,     0.52052,     0.52152,     0.52252,     0.52352,     0.52452,     0.52553,     0.52653,     0.52753,\n",
              "           0.52853,     0.52953,     0.53053,     0.53153,     0.53253,     0.53353,     0.53453,     0.53554,     0.53654,     0.53754,     0.53854,     0.53954,     0.54054,     0.54154,     0.54254,     0.54354,     0.54454,     0.54555,     0.54655,     0.54755,     0.54855,     0.54955,     0.55055,     0.55155,\n",
              "           0.55255,     0.55355,     0.55455,     0.55556,     0.55656,     0.55756,     0.55856,     0.55956,     0.56056,     0.56156,     0.56256,     0.56356,     0.56456,     0.56557,     0.56657,     0.56757,     0.56857,     0.56957,     0.57057,     0.57157,     0.57257,     0.57357,     0.57457,     0.57558,\n",
              "           0.57658,     0.57758,     0.57858,     0.57958,     0.58058,     0.58158,     0.58258,     0.58358,     0.58458,     0.58559,     0.58659,     0.58759,     0.58859,     0.58959,     0.59059,     0.59159,     0.59259,     0.59359,     0.59459,      0.5956,      0.5966,      0.5976,      0.5986,      0.5996,\n",
              "            0.6006,      0.6016,      0.6026,      0.6036,      0.6046,     0.60561,     0.60661,     0.60761,     0.60861,     0.60961,     0.61061,     0.61161,     0.61261,     0.61361,     0.61461,     0.61562,     0.61662,     0.61762,     0.61862,     0.61962,     0.62062,     0.62162,     0.62262,     0.62362,\n",
              "           0.62462,     0.62563,     0.62663,     0.62763,     0.62863,     0.62963,     0.63063,     0.63163,     0.63263,     0.63363,     0.63463,     0.63564,     0.63664,     0.63764,     0.63864,     0.63964,     0.64064,     0.64164,     0.64264,     0.64364,     0.64464,     0.64565,     0.64665,     0.64765,\n",
              "           0.64865,     0.64965,     0.65065,     0.65165,     0.65265,     0.65365,     0.65465,     0.65566,     0.65666,     0.65766,     0.65866,     0.65966,     0.66066,     0.66166,     0.66266,     0.66366,     0.66466,     0.66567,     0.66667,     0.66767,     0.66867,     0.66967,     0.67067,     0.67167,\n",
              "           0.67267,     0.67367,     0.67467,     0.67568,     0.67668,     0.67768,     0.67868,     0.67968,     0.68068,     0.68168,     0.68268,     0.68368,     0.68468,     0.68569,     0.68669,     0.68769,     0.68869,     0.68969,     0.69069,     0.69169,     0.69269,     0.69369,     0.69469,      0.6957,\n",
              "            0.6967,      0.6977,      0.6987,      0.6997,      0.7007,      0.7017,      0.7027,      0.7037,      0.7047,     0.70571,     0.70671,     0.70771,     0.70871,     0.70971,     0.71071,     0.71171,     0.71271,     0.71371,     0.71471,     0.71572,     0.71672,     0.71772,     0.71872,     0.71972,\n",
              "           0.72072,     0.72172,     0.72272,     0.72372,     0.72472,     0.72573,     0.72673,     0.72773,     0.72873,     0.72973,     0.73073,     0.73173,     0.73273,     0.73373,     0.73473,     0.73574,     0.73674,     0.73774,     0.73874,     0.73974,     0.74074,     0.74174,     0.74274,     0.74374,\n",
              "           0.74474,     0.74575,     0.74675,     0.74775,     0.74875,     0.74975,     0.75075,     0.75175,     0.75275,     0.75375,     0.75475,     0.75576,     0.75676,     0.75776,     0.75876,     0.75976,     0.76076,     0.76176,     0.76276,     0.76376,     0.76476,     0.76577,     0.76677,     0.76777,\n",
              "           0.76877,     0.76977,     0.77077,     0.77177,     0.77277,     0.77377,     0.77477,     0.77578,     0.77678,     0.77778,     0.77878,     0.77978,     0.78078,     0.78178,     0.78278,     0.78378,     0.78478,     0.78579,     0.78679,     0.78779,     0.78879,     0.78979,     0.79079,     0.79179,\n",
              "           0.79279,     0.79379,     0.79479,      0.7958,      0.7968,      0.7978,      0.7988,      0.7998,      0.8008,      0.8018,      0.8028,      0.8038,      0.8048,     0.80581,     0.80681,     0.80781,     0.80881,     0.80981,     0.81081,     0.81181,     0.81281,     0.81381,     0.81481,     0.81582,\n",
              "           0.81682,     0.81782,     0.81882,     0.81982,     0.82082,     0.82182,     0.82282,     0.82382,     0.82482,     0.82583,     0.82683,     0.82783,     0.82883,     0.82983,     0.83083,     0.83183,     0.83283,     0.83383,     0.83483,     0.83584,     0.83684,     0.83784,     0.83884,     0.83984,\n",
              "           0.84084,     0.84184,     0.84284,     0.84384,     0.84484,     0.84585,     0.84685,     0.84785,     0.84885,     0.84985,     0.85085,     0.85185,     0.85285,     0.85385,     0.85485,     0.85586,     0.85686,     0.85786,     0.85886,     0.85986,     0.86086,     0.86186,     0.86286,     0.86386,\n",
              "           0.86486,     0.86587,     0.86687,     0.86787,     0.86887,     0.86987,     0.87087,     0.87187,     0.87287,     0.87387,     0.87487,     0.87588,     0.87688,     0.87788,     0.87888,     0.87988,     0.88088,     0.88188,     0.88288,     0.88388,     0.88488,     0.88589,     0.88689,     0.88789,\n",
              "           0.88889,     0.88989,     0.89089,     0.89189,     0.89289,     0.89389,     0.89489,      0.8959,      0.8969,      0.8979,      0.8989,      0.8999,      0.9009,      0.9019,      0.9029,      0.9039,      0.9049,     0.90591,     0.90691,     0.90791,     0.90891,     0.90991,     0.91091,     0.91191,\n",
              "           0.91291,     0.91391,     0.91491,     0.91592,     0.91692,     0.91792,     0.91892,     0.91992,     0.92092,     0.92192,     0.92292,     0.92392,     0.92492,     0.92593,     0.92693,     0.92793,     0.92893,     0.92993,     0.93093,     0.93193,     0.93293,     0.93393,     0.93493,     0.93594,\n",
              "           0.93694,     0.93794,     0.93894,     0.93994,     0.94094,     0.94194,     0.94294,     0.94394,     0.94494,     0.94595,     0.94695,     0.94795,     0.94895,     0.94995,     0.95095,     0.95195,     0.95295,     0.95395,     0.95495,     0.95596,     0.95696,     0.95796,     0.95896,     0.95996,\n",
              "           0.96096,     0.96196,     0.96296,     0.96396,     0.96496,     0.96597,     0.96697,     0.96797,     0.96897,     0.96997,     0.97097,     0.97197,     0.97297,     0.97397,     0.97497,     0.97598,     0.97698,     0.97798,     0.97898,     0.97998,     0.98098,     0.98198,     0.98298,     0.98398,\n",
              "           0.98498,     0.98599,     0.98699,     0.98799,     0.98899,     0.98999,     0.99099,     0.99199,     0.99299,     0.99399,     0.99499,       0.996,       0.997,       0.998,       0.999,           1]), array([[      0.299,       0.299,     0.40242,     0.45377,      0.4905,     0.50608,     0.51858,     0.53544,      0.5466,     0.55957,      0.5699,     0.58212,     0.59234,     0.59843,      0.6073,     0.61708,     0.62682,     0.63109,     0.63738,      0.6416,     0.64503,      0.6546,     0.65767,\n",
              "            0.66001,     0.66413,     0.66929,     0.67064,      0.6714,     0.67421,      0.6762,     0.67769,      0.6754,     0.67651,     0.67946,     0.68125,     0.68563,     0.68686,     0.69135,     0.69429,     0.69927,     0.70615,     0.70824,     0.71046,     0.71257,     0.71379,     0.71529,\n",
              "            0.71625,     0.71706,     0.71759,     0.71811,     0.72019,     0.72154,     0.72602,      0.7279,     0.73063,     0.73147,     0.73227,     0.73301,     0.73552,     0.73668,     0.73933,      0.7411,     0.74207,     0.74634,     0.74806,     0.74933,     0.75113,     0.75191,     0.75265,\n",
              "            0.75397,     0.75875,     0.75996,     0.76024,     0.76258,      0.7632,      0.7636,       0.764,     0.76441,     0.76559,     0.76737,     0.76849,     0.77193,     0.77267,     0.77313,     0.77359,     0.77405,     0.77508,     0.77622,     0.77677,     0.77733,     0.77789,     0.77852,\n",
              "            0.77918,     0.77985,     0.78025,     0.78056,     0.78088,      0.7812,     0.78152,     0.78183,     0.78416,     0.78495,     0.78574,     0.78629,     0.78679,     0.78728,     0.78777,     0.78995,     0.79014,     0.79032,     0.79051,     0.79069,     0.79088,     0.79106,     0.79124,\n",
              "            0.79143,     0.79161,      0.7918,     0.79215,     0.79264,     0.79313,     0.79361,     0.79434,     0.79541,     0.79616,     0.79662,     0.79708,     0.79753,     0.79801,     0.79878,     0.79954,     0.80166,     0.80345,     0.80378,     0.80316,     0.80254,     0.80192,      0.8013,\n",
              "            0.80135,     0.80192,     0.80249,     0.80306,     0.80596,     0.80466,     0.80573,     0.80639,     0.80662,     0.80685,     0.80707,      0.8073,     0.80752,     0.80775,     0.80797,      0.8082,     0.80843,     0.80878,     0.80912,     0.80946,      0.8098,     0.81014,     0.81049,\n",
              "            0.81078,     0.81107,     0.81136,     0.81164,     0.81193,     0.81222,     0.81251,     0.81353,     0.81501,     0.81556,     0.81612,     0.81667,     0.81785,     0.81927,     0.81962,     0.81997,     0.82033,     0.82068,     0.82103,     0.82129,     0.82096,     0.82063,      0.8203,\n",
              "            0.81997,     0.81964,      0.8193,     0.81897,     0.81864,     0.81831,     0.81941,     0.82075,     0.82147,      0.8222,     0.82209,     0.82105,     0.82001,      0.8201,     0.82165,     0.82205,     0.82245,     0.82284,     0.82324,     0.82364,     0.82642,     0.82713,     0.82784,\n",
              "            0.82889,     0.83062,      0.8308,     0.83098,     0.83116,     0.83134,     0.83152,      0.8317,     0.83188,     0.83207,     0.83225,     0.83243,     0.83261,     0.83279,     0.83296,     0.83312,     0.83328,     0.83344,      0.8336,     0.83376,     0.83391,     0.83407,     0.83423,\n",
              "            0.83439,     0.83455,     0.83471,     0.83487,     0.83503,     0.83502,     0.83388,     0.83273,     0.83217,     0.83282,     0.83347,     0.83412,     0.83475,     0.83538,     0.83602,     0.83658,     0.83667,     0.83676,     0.83684,     0.83693,     0.83702,     0.83711,      0.8372,\n",
              "            0.83729,     0.83738,     0.83747,     0.83756,     0.83765,     0.83774,     0.83782,     0.83791,       0.838,     0.83809,     0.83818,     0.83827,     0.83836,     0.83845,     0.83854,     0.83863,     0.83871,      0.8388,     0.83891,     0.83965,     0.84039,     0.84112,     0.84071,\n",
              "             0.8401,      0.8395,      0.8389,     0.83829,     0.83788,     0.83765,     0.83743,      0.8372,     0.83697,     0.83675,     0.83652,      0.8363,     0.83607,     0.83584,     0.83562,     0.83539,     0.83516,     0.83494,     0.83478,     0.83527,     0.83575,     0.83623,     0.83671,\n",
              "            0.83698,     0.83655,     0.83612,     0.83568,     0.83525,     0.83482,     0.83438,     0.83395,     0.83396,      0.8342,     0.83443,     0.83467,      0.8349,     0.83514,     0.83537,     0.83561,     0.83584,     0.83608,     0.83631,     0.83654,     0.83678,     0.83701,     0.83724,\n",
              "            0.83747,      0.8377,     0.83793,     0.83816,     0.83839,     0.83848,     0.83836,     0.83824,     0.83812,     0.83801,     0.83789,     0.83777,     0.83766,     0.83754,     0.83742,      0.8373,     0.83718,     0.83707,     0.83695,     0.83683,     0.83671,      0.8366,     0.83648,\n",
              "            0.83636,     0.83624,     0.83613,     0.83601,     0.83589,     0.83577,     0.83565,     0.83554,     0.83542,      0.8353,     0.83549,     0.83619,     0.83688,     0.83758,      0.8377,      0.8378,      0.8379,     0.83799,     0.83809,     0.83819,     0.83828,     0.83838,     0.83848,\n",
              "            0.83858,     0.83867,     0.83877,     0.83887,     0.83896,     0.83906,     0.83916,     0.83926,     0.83935,     0.83945,     0.83955,     0.83964,     0.83974,     0.83984,     0.83993,     0.84005,     0.84019,     0.84033,     0.84048,     0.84062,     0.84076,     0.84091,     0.84105,\n",
              "            0.84119,     0.84134,     0.84148,     0.84162,     0.84176,     0.84191,     0.84205,     0.84219,     0.84234,     0.84405,     0.84477,      0.8447,     0.84463,     0.84456,     0.84449,     0.84442,     0.84435,     0.84428,     0.84421,     0.84413,     0.84406,     0.84399,     0.84392,\n",
              "            0.84385,     0.84378,     0.84371,     0.84364,     0.84357,      0.8435,     0.84342,     0.84335,     0.84328,     0.84321,     0.84314,     0.84307,       0.843,     0.84293,     0.84286,     0.84278,     0.84271,     0.84264,     0.84257,      0.8425,     0.84243,     0.84236,     0.84229,\n",
              "            0.84222,     0.84214,     0.84207,       0.842,     0.84193,     0.84186,     0.84179,     0.84172,     0.84165,     0.84157,      0.8415,     0.84174,       0.842,     0.84225,     0.84251,     0.84276,     0.84302,     0.84327,     0.84353,     0.84378,     0.84295,     0.84278,      0.8426,\n",
              "            0.84243,     0.84226,     0.84209,     0.84191,     0.84174,     0.84157,      0.8414,     0.84122,     0.84105,     0.84088,      0.8407,     0.84053,     0.84036,     0.84018,     0.84001,     0.83984,     0.83967,     0.83942,     0.83918,     0.83893,     0.83868,     0.83843,     0.83818,\n",
              "            0.83793,     0.83769,     0.83744,     0.83719,     0.83694,     0.83669,     0.83644,     0.83608,     0.83538,     0.83468,     0.83398,     0.83328,     0.83298,     0.83334,      0.8337,     0.83406,     0.83442,     0.83477,     0.83513,     0.83547,     0.83578,      0.8361,     0.83642,\n",
              "            0.83673,     0.83705,     0.83736,     0.83768,     0.83823,     0.83887,      0.8395,     0.84014,     0.84027,      0.8403,     0.84034,     0.84038,     0.84041,     0.84045,     0.84049,     0.84052,     0.84056,      0.8406,     0.84063,     0.84067,     0.84071,     0.84074,     0.84078,\n",
              "            0.84082,     0.84085,     0.84089,     0.84093,     0.84096,       0.841,     0.84104,     0.84107,     0.84111,     0.84115,     0.84118,     0.84122,     0.84126,     0.84129,     0.84133,     0.84136,      0.8414,     0.84144,     0.84147,     0.84151,     0.84155,     0.84158,     0.84162,\n",
              "            0.84166,     0.84169,     0.84173,     0.84177,      0.8418,     0.84184,     0.84188,     0.84191,     0.84195,     0.84199,     0.84202,     0.84206,     0.84209,     0.84213,     0.84217,      0.8422,     0.84224,     0.84228,     0.84231,     0.84235,     0.84239,     0.84242,     0.84246,\n",
              "             0.8425,     0.84253,     0.84257,      0.8426,     0.84264,     0.84268,     0.84271,     0.84571,     0.84658,     0.84744,     0.84754,     0.84719,     0.84683,     0.84648,     0.84613,     0.84577,     0.84542,     0.84507,     0.84471,     0.84436,     0.84455,     0.84482,      0.8451,\n",
              "            0.84537,     0.84565,     0.84592,     0.84619,     0.84646,     0.84674,     0.84614,     0.84495,     0.84376,     0.83996,      0.8404,     0.84083,     0.84127,      0.8417,     0.84213,     0.84267,     0.84343,     0.84417,     0.84492,     0.84388,     0.84268,     0.84147,     0.83792,\n",
              "            0.83815,     0.83838,     0.83861,     0.83884,     0.83907,      0.8393,     0.83953,     0.83976,     0.83999,     0.84022,     0.84044,     0.84317,      0.8433,     0.84342,     0.84354,     0.84366,     0.84378,      0.8439,     0.84402,     0.84415,     0.84427,     0.84439,     0.84451,\n",
              "            0.84463,     0.84475,     0.84487,     0.84499,     0.84511,     0.84524,     0.84536,     0.84548,      0.8456,     0.84519,     0.84373,     0.84226,     0.84178,     0.84141,     0.84104,     0.84067,      0.8403,     0.83994,     0.83957,      0.8392,     0.83883,     0.83844,     0.83791,\n",
              "            0.83738,     0.83685,     0.83632,     0.83579,     0.83526,     0.83731,     0.83669,     0.83606,     0.83544,     0.83482,      0.8342,     0.83393,     0.83408,     0.83423,     0.83439,     0.83454,      0.8347,     0.83485,       0.835,     0.83516,     0.83531,     0.83546,     0.83562,\n",
              "            0.83577,     0.83592,     0.83608,     0.83623,     0.83638,       0.836,     0.83475,     0.83349,     0.83271,     0.83249,     0.83228,     0.83206,     0.83185,     0.83163,     0.83141,      0.8312,     0.83098,     0.83076,     0.83055,     0.83033,     0.83011,      0.8299,     0.82968,\n",
              "            0.82946,     0.82925,     0.82941,     0.83018,     0.83095,     0.83172,     0.83052,     0.82925,       0.828,      0.8273,      0.8266,     0.82591,     0.82521,     0.82451,     0.82167,     0.82281,     0.82233,     0.82184,     0.82135,     0.82087,     0.82038,     0.81989,     0.81941,\n",
              "            0.81963,     0.81993,     0.82023,     0.82053,     0.82084,     0.82114,     0.82144,     0.82174,     0.82189,     0.82092,     0.81994,     0.81895,     0.81812,     0.81784,     0.81756,     0.81728,       0.817,     0.81672,     0.81643,     0.81615,     0.81587,     0.81559,     0.81531,\n",
              "            0.81502,     0.81474,     0.81446,     0.81685,      0.8166,     0.81634,     0.81608,     0.81583,     0.81557,     0.81532,     0.81506,      0.8148,     0.81455,     0.81429,     0.81403,     0.81377,     0.81352,     0.81326,     0.81242,     0.81082,     0.80922,     0.80832,     0.80743,\n",
              "            0.80653,     0.80564,     0.80498,     0.80447,     0.80396,     0.80346,     0.80295,     0.80244,     0.80193,     0.80143,     0.80096,     0.80051,     0.80006,      0.7996,     0.79915,      0.7987,     0.79824,     0.79779,     0.79731,     0.79567,     0.79402,     0.79305,     0.79257,\n",
              "            0.79208,     0.79159,     0.79111,     0.79062,     0.79013,     0.78965,     0.78903,     0.78811,     0.78718,     0.78626,     0.78533,      0.7809,      0.7803,     0.77969,     0.77909,     0.77849,     0.77788,     0.77728,     0.77719,     0.77378,     0.77122,     0.77044,     0.76965,\n",
              "            0.76887,     0.76809,      0.7673,     0.75949,     0.75812,     0.75749,     0.75686,     0.75623,      0.7556,     0.75497,     0.75434,     0.75693,     0.75547,     0.75399,     0.75246,     0.75023,     0.74841,     0.74976,     0.74937,      0.7405,     0.73821,     0.72826,     0.72784,\n",
              "            0.72742,     0.72699,     0.72657,     0.72614,     0.72572,     0.72529,     0.72487,     0.72444,     0.72402,     0.71628,     0.71396,     0.71237,     0.71077,     0.70918,     0.70757,     0.70597,     0.69941,     0.69746,     0.69661,     0.69723,     0.69229,     0.68858,     0.68758,\n",
              "            0.68658,     0.68558,     0.68458,     0.68256,      0.6792,     0.67417,     0.66915,     0.66812,      0.6671,     0.66607,     0.66504,     0.65759,     0.65301,     0.65151,        0.65,     0.64822,     0.64557,     0.64213,     0.63508,     0.62565,     0.62291,     0.61504,     0.60398,\n",
              "            0.60024,     0.59898,     0.59771,     0.59645,     0.58946,     0.58561,     0.57794,     0.57403,     0.57009,     0.56479,     0.55893,     0.55592,     0.55289,     0.54986,     0.53539,     0.52915,     0.51775,     0.51456,     0.50761,     0.49253,      0.4899,     0.48725,     0.47283,\n",
              "            0.47012,     0.46689,     0.44704,     0.44237,     0.42494,     0.41506,     0.40491,     0.40196,     0.39899,     0.38542,     0.36729,     0.36213,     0.35694,     0.35082,     0.33511,     0.32016,      0.3147,      0.2985,     0.29007,     0.26473,     0.25596,     0.23795,     0.22491,\n",
              "            0.21123,      0.1916,     0.17246,     0.14976,     0.13554,     0.12881,     0.12202,     0.11152,    0.083391,    0.074393,    0.069009,    0.053345,    0.048947,    0.044528,    0.020692,    0.016903,      0.0131,           0,           0,           0,           0,           0,           0,\n",
              "                  0,           0,           0,           0,           0,           0,           0,           0,           0,           0,           0,           0,           0,           0,           0,           0,           0,           0,           0,           0,           0,           0,           0,\n",
              "                  0,           0,           0,           0,           0,           0,           0,           0,           0,           0,           0]]), 'Confidence', 'F1'], [array([          0,    0.001001,    0.002002,    0.003003,    0.004004,    0.005005,    0.006006,    0.007007,    0.008008,    0.009009,     0.01001,    0.011011,    0.012012,    0.013013,    0.014014,    0.015015,    0.016016,    0.017017,    0.018018,    0.019019,     0.02002,    0.021021,    0.022022,    0.023023,\n",
              "          0.024024,    0.025025,    0.026026,    0.027027,    0.028028,    0.029029,     0.03003,    0.031031,    0.032032,    0.033033,    0.034034,    0.035035,    0.036036,    0.037037,    0.038038,    0.039039,     0.04004,    0.041041,    0.042042,    0.043043,    0.044044,    0.045045,    0.046046,    0.047047,\n",
              "          0.048048,    0.049049,     0.05005,    0.051051,    0.052052,    0.053053,    0.054054,    0.055055,    0.056056,    0.057057,    0.058058,    0.059059,     0.06006,    0.061061,    0.062062,    0.063063,    0.064064,    0.065065,    0.066066,    0.067067,    0.068068,    0.069069,     0.07007,    0.071071,\n",
              "          0.072072,    0.073073,    0.074074,    0.075075,    0.076076,    0.077077,    0.078078,    0.079079,     0.08008,    0.081081,    0.082082,    0.083083,    0.084084,    0.085085,    0.086086,    0.087087,    0.088088,    0.089089,     0.09009,    0.091091,    0.092092,    0.093093,    0.094094,    0.095095,\n",
              "          0.096096,    0.097097,    0.098098,    0.099099,      0.1001,      0.1011,      0.1021,      0.1031,      0.1041,     0.10511,     0.10611,     0.10711,     0.10811,     0.10911,     0.11011,     0.11111,     0.11211,     0.11311,     0.11411,     0.11512,     0.11612,     0.11712,     0.11812,     0.11912,\n",
              "           0.12012,     0.12112,     0.12212,     0.12312,     0.12412,     0.12513,     0.12613,     0.12713,     0.12813,     0.12913,     0.13013,     0.13113,     0.13213,     0.13313,     0.13413,     0.13514,     0.13614,     0.13714,     0.13814,     0.13914,     0.14014,     0.14114,     0.14214,     0.14314,\n",
              "           0.14414,     0.14515,     0.14615,     0.14715,     0.14815,     0.14915,     0.15015,     0.15115,     0.15215,     0.15315,     0.15415,     0.15516,     0.15616,     0.15716,     0.15816,     0.15916,     0.16016,     0.16116,     0.16216,     0.16316,     0.16416,     0.16517,     0.16617,     0.16717,\n",
              "           0.16817,     0.16917,     0.17017,     0.17117,     0.17217,     0.17317,     0.17417,     0.17518,     0.17618,     0.17718,     0.17818,     0.17918,     0.18018,     0.18118,     0.18218,     0.18318,     0.18418,     0.18519,     0.18619,     0.18719,     0.18819,     0.18919,     0.19019,     0.19119,\n",
              "           0.19219,     0.19319,     0.19419,      0.1952,      0.1962,      0.1972,      0.1982,      0.1992,      0.2002,      0.2012,      0.2022,      0.2032,      0.2042,     0.20521,     0.20621,     0.20721,     0.20821,     0.20921,     0.21021,     0.21121,     0.21221,     0.21321,     0.21421,     0.21522,\n",
              "           0.21622,     0.21722,     0.21822,     0.21922,     0.22022,     0.22122,     0.22222,     0.22322,     0.22422,     0.22523,     0.22623,     0.22723,     0.22823,     0.22923,     0.23023,     0.23123,     0.23223,     0.23323,     0.23423,     0.23524,     0.23624,     0.23724,     0.23824,     0.23924,\n",
              "           0.24024,     0.24124,     0.24224,     0.24324,     0.24424,     0.24525,     0.24625,     0.24725,     0.24825,     0.24925,     0.25025,     0.25125,     0.25225,     0.25325,     0.25425,     0.25526,     0.25626,     0.25726,     0.25826,     0.25926,     0.26026,     0.26126,     0.26226,     0.26326,\n",
              "           0.26426,     0.26527,     0.26627,     0.26727,     0.26827,     0.26927,     0.27027,     0.27127,     0.27227,     0.27327,     0.27427,     0.27528,     0.27628,     0.27728,     0.27828,     0.27928,     0.28028,     0.28128,     0.28228,     0.28328,     0.28428,     0.28529,     0.28629,     0.28729,\n",
              "           0.28829,     0.28929,     0.29029,     0.29129,     0.29229,     0.29329,     0.29429,      0.2953,      0.2963,      0.2973,      0.2983,      0.2993,      0.3003,      0.3013,      0.3023,      0.3033,      0.3043,     0.30531,     0.30631,     0.30731,     0.30831,     0.30931,     0.31031,     0.31131,\n",
              "           0.31231,     0.31331,     0.31431,     0.31532,     0.31632,     0.31732,     0.31832,     0.31932,     0.32032,     0.32132,     0.32232,     0.32332,     0.32432,     0.32533,     0.32633,     0.32733,     0.32833,     0.32933,     0.33033,     0.33133,     0.33233,     0.33333,     0.33433,     0.33534,\n",
              "           0.33634,     0.33734,     0.33834,     0.33934,     0.34034,     0.34134,     0.34234,     0.34334,     0.34434,     0.34535,     0.34635,     0.34735,     0.34835,     0.34935,     0.35035,     0.35135,     0.35235,     0.35335,     0.35435,     0.35536,     0.35636,     0.35736,     0.35836,     0.35936,\n",
              "           0.36036,     0.36136,     0.36236,     0.36336,     0.36436,     0.36537,     0.36637,     0.36737,     0.36837,     0.36937,     0.37037,     0.37137,     0.37237,     0.37337,     0.37437,     0.37538,     0.37638,     0.37738,     0.37838,     0.37938,     0.38038,     0.38138,     0.38238,     0.38338,\n",
              "           0.38438,     0.38539,     0.38639,     0.38739,     0.38839,     0.38939,     0.39039,     0.39139,     0.39239,     0.39339,     0.39439,      0.3954,      0.3964,      0.3974,      0.3984,      0.3994,      0.4004,      0.4014,      0.4024,      0.4034,      0.4044,     0.40541,     0.40641,     0.40741,\n",
              "           0.40841,     0.40941,     0.41041,     0.41141,     0.41241,     0.41341,     0.41441,     0.41542,     0.41642,     0.41742,     0.41842,     0.41942,     0.42042,     0.42142,     0.42242,     0.42342,     0.42442,     0.42543,     0.42643,     0.42743,     0.42843,     0.42943,     0.43043,     0.43143,\n",
              "           0.43243,     0.43343,     0.43443,     0.43544,     0.43644,     0.43744,     0.43844,     0.43944,     0.44044,     0.44144,     0.44244,     0.44344,     0.44444,     0.44545,     0.44645,     0.44745,     0.44845,     0.44945,     0.45045,     0.45145,     0.45245,     0.45345,     0.45445,     0.45546,\n",
              "           0.45646,     0.45746,     0.45846,     0.45946,     0.46046,     0.46146,     0.46246,     0.46346,     0.46446,     0.46547,     0.46647,     0.46747,     0.46847,     0.46947,     0.47047,     0.47147,     0.47247,     0.47347,     0.47447,     0.47548,     0.47648,     0.47748,     0.47848,     0.47948,\n",
              "           0.48048,     0.48148,     0.48248,     0.48348,     0.48448,     0.48549,     0.48649,     0.48749,     0.48849,     0.48949,     0.49049,     0.49149,     0.49249,     0.49349,     0.49449,      0.4955,      0.4965,      0.4975,      0.4985,      0.4995,      0.5005,      0.5015,      0.5025,      0.5035,\n",
              "            0.5045,     0.50551,     0.50651,     0.50751,     0.50851,     0.50951,     0.51051,     0.51151,     0.51251,     0.51351,     0.51451,     0.51552,     0.51652,     0.51752,     0.51852,     0.51952,     0.52052,     0.52152,     0.52252,     0.52352,     0.52452,     0.52553,     0.52653,     0.52753,\n",
              "           0.52853,     0.52953,     0.53053,     0.53153,     0.53253,     0.53353,     0.53453,     0.53554,     0.53654,     0.53754,     0.53854,     0.53954,     0.54054,     0.54154,     0.54254,     0.54354,     0.54454,     0.54555,     0.54655,     0.54755,     0.54855,     0.54955,     0.55055,     0.55155,\n",
              "           0.55255,     0.55355,     0.55455,     0.55556,     0.55656,     0.55756,     0.55856,     0.55956,     0.56056,     0.56156,     0.56256,     0.56356,     0.56456,     0.56557,     0.56657,     0.56757,     0.56857,     0.56957,     0.57057,     0.57157,     0.57257,     0.57357,     0.57457,     0.57558,\n",
              "           0.57658,     0.57758,     0.57858,     0.57958,     0.58058,     0.58158,     0.58258,     0.58358,     0.58458,     0.58559,     0.58659,     0.58759,     0.58859,     0.58959,     0.59059,     0.59159,     0.59259,     0.59359,     0.59459,      0.5956,      0.5966,      0.5976,      0.5986,      0.5996,\n",
              "            0.6006,      0.6016,      0.6026,      0.6036,      0.6046,     0.60561,     0.60661,     0.60761,     0.60861,     0.60961,     0.61061,     0.61161,     0.61261,     0.61361,     0.61461,     0.61562,     0.61662,     0.61762,     0.61862,     0.61962,     0.62062,     0.62162,     0.62262,     0.62362,\n",
              "           0.62462,     0.62563,     0.62663,     0.62763,     0.62863,     0.62963,     0.63063,     0.63163,     0.63263,     0.63363,     0.63463,     0.63564,     0.63664,     0.63764,     0.63864,     0.63964,     0.64064,     0.64164,     0.64264,     0.64364,     0.64464,     0.64565,     0.64665,     0.64765,\n",
              "           0.64865,     0.64965,     0.65065,     0.65165,     0.65265,     0.65365,     0.65465,     0.65566,     0.65666,     0.65766,     0.65866,     0.65966,     0.66066,     0.66166,     0.66266,     0.66366,     0.66466,     0.66567,     0.66667,     0.66767,     0.66867,     0.66967,     0.67067,     0.67167,\n",
              "           0.67267,     0.67367,     0.67467,     0.67568,     0.67668,     0.67768,     0.67868,     0.67968,     0.68068,     0.68168,     0.68268,     0.68368,     0.68468,     0.68569,     0.68669,     0.68769,     0.68869,     0.68969,     0.69069,     0.69169,     0.69269,     0.69369,     0.69469,      0.6957,\n",
              "            0.6967,      0.6977,      0.6987,      0.6997,      0.7007,      0.7017,      0.7027,      0.7037,      0.7047,     0.70571,     0.70671,     0.70771,     0.70871,     0.70971,     0.71071,     0.71171,     0.71271,     0.71371,     0.71471,     0.71572,     0.71672,     0.71772,     0.71872,     0.71972,\n",
              "           0.72072,     0.72172,     0.72272,     0.72372,     0.72472,     0.72573,     0.72673,     0.72773,     0.72873,     0.72973,     0.73073,     0.73173,     0.73273,     0.73373,     0.73473,     0.73574,     0.73674,     0.73774,     0.73874,     0.73974,     0.74074,     0.74174,     0.74274,     0.74374,\n",
              "           0.74474,     0.74575,     0.74675,     0.74775,     0.74875,     0.74975,     0.75075,     0.75175,     0.75275,     0.75375,     0.75475,     0.75576,     0.75676,     0.75776,     0.75876,     0.75976,     0.76076,     0.76176,     0.76276,     0.76376,     0.76476,     0.76577,     0.76677,     0.76777,\n",
              "           0.76877,     0.76977,     0.77077,     0.77177,     0.77277,     0.77377,     0.77477,     0.77578,     0.77678,     0.77778,     0.77878,     0.77978,     0.78078,     0.78178,     0.78278,     0.78378,     0.78478,     0.78579,     0.78679,     0.78779,     0.78879,     0.78979,     0.79079,     0.79179,\n",
              "           0.79279,     0.79379,     0.79479,      0.7958,      0.7968,      0.7978,      0.7988,      0.7998,      0.8008,      0.8018,      0.8028,      0.8038,      0.8048,     0.80581,     0.80681,     0.80781,     0.80881,     0.80981,     0.81081,     0.81181,     0.81281,     0.81381,     0.81481,     0.81582,\n",
              "           0.81682,     0.81782,     0.81882,     0.81982,     0.82082,     0.82182,     0.82282,     0.82382,     0.82482,     0.82583,     0.82683,     0.82783,     0.82883,     0.82983,     0.83083,     0.83183,     0.83283,     0.83383,     0.83483,     0.83584,     0.83684,     0.83784,     0.83884,     0.83984,\n",
              "           0.84084,     0.84184,     0.84284,     0.84384,     0.84484,     0.84585,     0.84685,     0.84785,     0.84885,     0.84985,     0.85085,     0.85185,     0.85285,     0.85385,     0.85485,     0.85586,     0.85686,     0.85786,     0.85886,     0.85986,     0.86086,     0.86186,     0.86286,     0.86386,\n",
              "           0.86486,     0.86587,     0.86687,     0.86787,     0.86887,     0.86987,     0.87087,     0.87187,     0.87287,     0.87387,     0.87487,     0.87588,     0.87688,     0.87788,     0.87888,     0.87988,     0.88088,     0.88188,     0.88288,     0.88388,     0.88488,     0.88589,     0.88689,     0.88789,\n",
              "           0.88889,     0.88989,     0.89089,     0.89189,     0.89289,     0.89389,     0.89489,      0.8959,      0.8969,      0.8979,      0.8989,      0.8999,      0.9009,      0.9019,      0.9029,      0.9039,      0.9049,     0.90591,     0.90691,     0.90791,     0.90891,     0.90991,     0.91091,     0.91191,\n",
              "           0.91291,     0.91391,     0.91491,     0.91592,     0.91692,     0.91792,     0.91892,     0.91992,     0.92092,     0.92192,     0.92292,     0.92392,     0.92492,     0.92593,     0.92693,     0.92793,     0.92893,     0.92993,     0.93093,     0.93193,     0.93293,     0.93393,     0.93493,     0.93594,\n",
              "           0.93694,     0.93794,     0.93894,     0.93994,     0.94094,     0.94194,     0.94294,     0.94394,     0.94494,     0.94595,     0.94695,     0.94795,     0.94895,     0.94995,     0.95095,     0.95195,     0.95295,     0.95395,     0.95495,     0.95596,     0.95696,     0.95796,     0.95896,     0.95996,\n",
              "           0.96096,     0.96196,     0.96296,     0.96396,     0.96496,     0.96597,     0.96697,     0.96797,     0.96897,     0.96997,     0.97097,     0.97197,     0.97297,     0.97397,     0.97497,     0.97598,     0.97698,     0.97798,     0.97898,     0.97998,     0.98098,     0.98198,     0.98298,     0.98398,\n",
              "           0.98498,     0.98599,     0.98699,     0.98799,     0.98899,     0.98999,     0.99099,     0.99199,     0.99299,     0.99399,     0.99499,       0.996,       0.997,       0.998,       0.999,           1]), array([[    0.17826,     0.17826,     0.25747,     0.30166,     0.33502,     0.35056,     0.36267,     0.38037,     0.39174,     0.40635,     0.41733,     0.43057,     0.44185,     0.44866,     0.45871,     0.46995,     0.48135,      0.4864,     0.49391,     0.49901,     0.50317,     0.51491,     0.51872,\n",
              "            0.52163,      0.5268,     0.53333,     0.53623,     0.53804,     0.54166,     0.54424,     0.54648,     0.54531,     0.54676,     0.55062,     0.55298,     0.55877,     0.56041,     0.56642,     0.57037,     0.57712,     0.58656,     0.58945,     0.59253,     0.59547,     0.59717,     0.59928,\n",
              "            0.60062,     0.60177,     0.60251,     0.60325,     0.60618,     0.60811,     0.61449,     0.61719,     0.62112,     0.62235,      0.6235,     0.62457,     0.62823,     0.62992,      0.6338,     0.63641,     0.63785,     0.64419,     0.64674,     0.64865,     0.65136,     0.65253,     0.65364,\n",
              "            0.65564,      0.6629,     0.66474,     0.66839,     0.67202,     0.67297,      0.6736,     0.67423,     0.67486,     0.67671,     0.67949,     0.68124,     0.68667,     0.68784,     0.68858,     0.68931,     0.69004,     0.69167,     0.69349,     0.69438,     0.69527,     0.69616,     0.69717,\n",
              "            0.69824,     0.69931,     0.69995,     0.70046,     0.70097,     0.70148,     0.70199,      0.7025,     0.70628,     0.70756,     0.70884,     0.70974,     0.71055,     0.71135,     0.71215,     0.71572,     0.71603,     0.71633,     0.71663,     0.71694,     0.71724,     0.71755,     0.71785,\n",
              "            0.71815,     0.71846,     0.71876,     0.71935,     0.72015,     0.72095,     0.72175,     0.72296,     0.72474,     0.72598,     0.72674,     0.72751,     0.72827,     0.72907,     0.73034,     0.73162,     0.73518,      0.7382,      0.7392,     0.73895,      0.7387,     0.73845,      0.7382,\n",
              "            0.73864,     0.73961,     0.74057,     0.74154,     0.74827,      0.7484,     0.75027,     0.75141,      0.7518,      0.7522,     0.75259,     0.75298,     0.75337,     0.75377,     0.75416,     0.75455,     0.75496,     0.75556,     0.75616,     0.75676,     0.75735,     0.75795,     0.75855,\n",
              "            0.75907,     0.75957,     0.76008,     0.76058,     0.76109,     0.76159,      0.7621,     0.76391,     0.76651,     0.76749,     0.76847,     0.76945,     0.77156,     0.77409,     0.77472,     0.77534,     0.77597,      0.7766,     0.77723,     0.77776,     0.77764,     0.77753,     0.77741,\n",
              "            0.77729,     0.77717,     0.77705,     0.77693,     0.77681,      0.7767,     0.77887,     0.78129,      0.7826,     0.78392,     0.78444,     0.78408,     0.78372,     0.78477,     0.78762,     0.78835,     0.78908,     0.78982,     0.79055,     0.79128,     0.79643,     0.79775,     0.79907,\n",
              "            0.80103,     0.80426,      0.8046,     0.80494,     0.80528,     0.80562,     0.80596,      0.8063,     0.80664,     0.80698,     0.80732,     0.80767,     0.80801,     0.80835,     0.80867,     0.80897,     0.80927,     0.80957,     0.80987,     0.81017,     0.81047,     0.81077,     0.81107,\n",
              "            0.81137,     0.81167,     0.81197,     0.81227,     0.81257,     0.81279,     0.81243,     0.81207,     0.81223,     0.81347,     0.81471,     0.81595,     0.81717,     0.81838,     0.81959,     0.82067,     0.82085,     0.82102,     0.82119,     0.82136,     0.82153,     0.82171,     0.82188,\n",
              "            0.82205,     0.82222,     0.82239,     0.82256,     0.82274,     0.82291,     0.82308,     0.82325,     0.82342,      0.8236,     0.82377,     0.82394,     0.82411,     0.82428,     0.82445,     0.82463,      0.8248,     0.82497,     0.82518,     0.82661,     0.82804,     0.82947,     0.82952,\n",
              "            0.82934,     0.82917,     0.82899,     0.82882,      0.8287,     0.82863,     0.82856,      0.8285,     0.82843,     0.82837,      0.8283,     0.82823,     0.82817,      0.8281,     0.82804,     0.82797,      0.8279,     0.82784,     0.82788,     0.82883,     0.82977,     0.83072,     0.83167,\n",
              "            0.83237,     0.83225,     0.83212,       0.832,     0.83188,     0.83175,     0.83163,      0.8315,     0.83177,     0.83224,     0.83271,     0.83318,     0.83365,     0.83412,     0.83459,     0.83506,     0.83553,       0.836,     0.83647,     0.83693,     0.83739,     0.83786,     0.83832,\n",
              "            0.83879,     0.83925,     0.83971,     0.84018,     0.84064,      0.8409,     0.84086,     0.84083,      0.8408,     0.84077,     0.84073,      0.8407,     0.84067,     0.84064,      0.8406,     0.84057,     0.84054,     0.84051,     0.84047,     0.84044,     0.84041,     0.84038,     0.84034,\n",
              "            0.84031,     0.84028,     0.84025,     0.84021,     0.84018,     0.84015,     0.84012,     0.84009,     0.84005,     0.84002,     0.84053,     0.84194,     0.84336,     0.84477,     0.84502,     0.84522,     0.84541,     0.84561,     0.84581,     0.84601,     0.84621,     0.84641,      0.8466,\n",
              "             0.8468,       0.847,      0.8472,      0.8474,      0.8476,     0.84779,     0.84799,     0.84819,     0.84839,     0.84859,     0.84878,     0.84898,     0.84918,     0.84938,     0.84958,     0.84981,      0.8501,     0.85039,     0.85069,     0.85098,     0.85127,     0.85157,     0.85186,\n",
              "            0.85216,     0.85245,     0.85274,     0.85304,     0.85333,     0.85362,     0.85392,     0.85421,      0.8545,     0.85805,     0.85964,     0.85962,      0.8596,     0.85958,     0.85957,     0.85955,     0.85953,     0.85951,     0.85949,     0.85948,     0.85946,     0.85944,     0.85942,\n",
              "            0.85941,     0.85939,     0.85937,     0.85935,     0.85934,     0.85932,      0.8593,     0.85928,     0.85927,     0.85925,     0.85923,     0.85921,     0.85919,     0.85918,     0.85916,     0.85914,     0.85912,     0.85911,     0.85909,     0.85907,     0.85905,     0.85904,     0.85902,\n",
              "              0.859,     0.85898,     0.85897,     0.85895,     0.85893,     0.85891,      0.8589,     0.85888,     0.85886,     0.85884,     0.85882,     0.85932,     0.85986,     0.86039,     0.86093,     0.86146,       0.862,     0.86253,     0.86306,      0.8636,     0.86825,     0.86821,     0.86816,\n",
              "            0.86812,     0.86808,     0.86804,       0.868,     0.86796,     0.86792,     0.86788,     0.86784,      0.8678,     0.86776,     0.86772,     0.86768,     0.86764,      0.8676,     0.86755,     0.86751,     0.86747,     0.86742,     0.86736,      0.8673,     0.86724,     0.86718,     0.86712,\n",
              "            0.86706,       0.867,     0.86695,     0.86689,     0.86683,     0.86677,     0.86671,     0.86662,     0.86646,     0.86629,     0.86612,     0.86596,     0.86615,     0.86693,      0.8677,     0.86848,     0.86926,     0.87004,     0.87081,     0.87154,     0.87223,     0.87292,     0.87361,\n",
              "             0.8743,     0.87499,     0.87568,     0.87637,     0.87758,     0.87898,     0.88037,     0.88177,     0.88206,     0.88214,     0.88222,      0.8823,     0.88238,     0.88246,     0.88254,     0.88262,      0.8827,     0.88278,     0.88286,     0.88294,     0.88302,      0.8831,     0.88319,\n",
              "            0.88327,     0.88335,     0.88343,     0.88351,     0.88359,     0.88367,     0.88375,     0.88383,     0.88391,     0.88399,     0.88407,     0.88415,     0.88423,     0.88432,      0.8844,     0.88448,     0.88456,     0.88464,     0.88472,      0.8848,     0.88488,     0.88496,     0.88504,\n",
              "            0.88512,      0.8852,     0.88528,     0.88537,     0.88545,     0.88553,     0.88561,     0.88569,     0.88577,     0.88585,     0.88593,     0.88601,     0.88609,     0.88617,     0.88625,     0.88633,     0.88641,      0.8865,     0.88658,     0.88666,     0.88674,     0.88682,      0.8869,\n",
              "            0.88698,     0.88706,     0.88714,     0.88722,      0.8873,     0.88738,     0.88746,     0.89415,     0.89608,     0.89801,     0.89869,     0.89863,     0.89856,     0.89849,     0.89843,     0.89836,      0.8983,     0.89823,     0.89816,      0.8981,     0.89863,     0.89925,     0.89987,\n",
              "            0.90049,     0.90111,     0.90173,     0.90236,     0.90298,      0.9036,     0.90372,     0.90351,      0.9033,     0.90278,     0.90379,      0.9048,     0.90581,     0.90682,     0.90782,     0.90908,     0.91083,     0.91258,     0.91433,      0.9143,      0.9141,     0.91391,     0.91334,\n",
              "            0.91389,     0.91443,     0.91498,     0.91553,     0.91607,     0.91662,     0.91717,     0.91771,     0.91826,     0.91881,     0.91935,     0.92591,      0.9262,      0.9265,     0.92679,     0.92708,     0.92738,     0.92767,     0.92796,     0.92826,     0.92855,     0.92884,     0.92914,\n",
              "            0.92943,     0.92972,     0.93002,     0.93031,      0.9306,      0.9309,     0.93119,     0.93148,     0.93178,     0.93191,     0.93172,     0.93153,     0.93146,     0.93142,     0.93137,     0.93132,     0.93127,     0.93122,     0.93117,     0.93112,     0.93108,     0.93102,     0.93095,\n",
              "            0.93088,     0.93081,     0.93074,     0.93067,      0.9306,     0.93704,     0.93696,     0.93689,     0.93681,     0.93674,     0.93666,      0.9368,     0.93719,     0.93758,     0.93796,     0.93835,     0.93874,     0.93913,     0.93952,     0.93991,      0.9403,     0.94069,     0.94108,\n",
              "            0.94147,     0.94186,     0.94224,     0.94263,     0.94302,     0.94321,     0.94307,     0.94293,     0.94285,     0.94282,      0.9428,     0.94277,     0.94275,     0.94273,      0.9427,     0.94268,     0.94265,     0.94263,     0.94261,     0.94258,     0.94256,     0.94253,     0.94251,\n",
              "            0.94248,     0.94246,     0.94321,     0.94521,     0.94721,     0.94921,     0.94915,     0.94903,      0.9489,     0.94883,     0.94876,     0.94869,     0.94862,     0.94855,     0.94827,     0.95519,     0.95515,     0.95511,     0.95506,     0.95502,     0.95498,     0.95493,     0.95489,\n",
              "            0.95563,     0.95645,     0.95727,      0.9581,     0.95892,     0.95974,     0.96057,     0.96139,     0.96211,     0.96204,     0.96196,     0.96189,     0.96183,     0.96181,     0.96178,     0.96176,     0.96174,     0.96172,      0.9617,     0.96168,     0.96166,     0.96163,     0.96161,\n",
              "            0.96159,     0.96157,     0.96155,     0.96898,     0.96897,     0.96895,     0.96894,     0.96892,      0.9689,     0.96889,     0.96887,     0.96886,     0.96884,     0.96882,     0.96881,     0.96879,     0.96878,     0.96876,     0.96871,     0.96861,      0.9685,     0.96845,     0.96839,\n",
              "            0.96833,     0.96828,     0.96823,      0.9682,     0.96817,     0.96814,      0.9681,     0.96807,     0.96804,     0.96801,     0.96798,     0.96795,     0.96792,     0.96789,     0.96786,     0.96783,      0.9678,     0.96777,     0.96774,     0.96763,     0.96752,     0.96746,     0.96743,\n",
              "             0.9674,     0.96736,     0.96733,      0.9673,     0.96727,     0.96724,      0.9672,     0.96713,     0.96707,     0.96701,     0.96695,     0.96665,     0.96661,     0.96657,     0.96653,     0.96649,     0.96644,      0.9664,     0.97445,     0.97427,     0.97413,     0.97409,     0.97405,\n",
              "            0.97401,     0.97396,     0.97392,      0.9735,     0.97342,     0.97339,     0.97335,     0.97332,     0.97328,     0.97325,     0.97322,     0.98195,     0.98193,     0.98187,     0.98181,     0.98173,      0.9822,     0.98686,     0.99071,     0.99053,     0.99049,     0.99028,     0.99028,\n",
              "            0.99027,     0.99026,     0.99025,     0.99024,     0.99023,     0.99022,     0.99021,      0.9902,      0.9902,     0.99003,     0.98998,     0.98995,     0.98991,     0.98988,     0.98984,     0.98981,     0.98966,     0.98962,     0.99215,           1,           1,           1,           1,\n",
              "                  1,           1,           1,           1,           1,           1,           1,           1,           1,           1,           1,           1,           1,           1,           1,           1,           1,           1,           1,           1,           1,           1,           1,\n",
              "                  1,           1,           1,           1,           1,           1,           1,           1,           1,           1,           1,           1,           1,           1,           1,           1,           1,           1,           1,           1,           1,           1,           1,\n",
              "                  1,           1,           1,           1,           1,           1,           1,           1,           1,           1,           1,           1,           1,           1,           1,           1,           1,           1,           1,           1,           1,           1,           1,\n",
              "                  1,           1,           1,           1,           1,           1,           1,           1,           1,           1,           1,           1,           1,           1,           1,           1,           1,           1,           1,           1,           1,           1,           1,\n",
              "                  1,           1,           1,           1,           1,           1,           1,           1,           1,           1,           1,           1,           1,           1,           1,           1,           1,           1,           1,           1,           1,           1,           1,\n",
              "                  1,           1,           1,           1,           1,           1,           1,           1,           1,           1,           1]]), 'Confidence', 'Precision'], [array([          0,    0.001001,    0.002002,    0.003003,    0.004004,    0.005005,    0.006006,    0.007007,    0.008008,    0.009009,     0.01001,    0.011011,    0.012012,    0.013013,    0.014014,    0.015015,    0.016016,    0.017017,    0.018018,    0.019019,     0.02002,    0.021021,    0.022022,    0.023023,\n",
              "          0.024024,    0.025025,    0.026026,    0.027027,    0.028028,    0.029029,     0.03003,    0.031031,    0.032032,    0.033033,    0.034034,    0.035035,    0.036036,    0.037037,    0.038038,    0.039039,     0.04004,    0.041041,    0.042042,    0.043043,    0.044044,    0.045045,    0.046046,    0.047047,\n",
              "          0.048048,    0.049049,     0.05005,    0.051051,    0.052052,    0.053053,    0.054054,    0.055055,    0.056056,    0.057057,    0.058058,    0.059059,     0.06006,    0.061061,    0.062062,    0.063063,    0.064064,    0.065065,    0.066066,    0.067067,    0.068068,    0.069069,     0.07007,    0.071071,\n",
              "          0.072072,    0.073073,    0.074074,    0.075075,    0.076076,    0.077077,    0.078078,    0.079079,     0.08008,    0.081081,    0.082082,    0.083083,    0.084084,    0.085085,    0.086086,    0.087087,    0.088088,    0.089089,     0.09009,    0.091091,    0.092092,    0.093093,    0.094094,    0.095095,\n",
              "          0.096096,    0.097097,    0.098098,    0.099099,      0.1001,      0.1011,      0.1021,      0.1031,      0.1041,     0.10511,     0.10611,     0.10711,     0.10811,     0.10911,     0.11011,     0.11111,     0.11211,     0.11311,     0.11411,     0.11512,     0.11612,     0.11712,     0.11812,     0.11912,\n",
              "           0.12012,     0.12112,     0.12212,     0.12312,     0.12412,     0.12513,     0.12613,     0.12713,     0.12813,     0.12913,     0.13013,     0.13113,     0.13213,     0.13313,     0.13413,     0.13514,     0.13614,     0.13714,     0.13814,     0.13914,     0.14014,     0.14114,     0.14214,     0.14314,\n",
              "           0.14414,     0.14515,     0.14615,     0.14715,     0.14815,     0.14915,     0.15015,     0.15115,     0.15215,     0.15315,     0.15415,     0.15516,     0.15616,     0.15716,     0.15816,     0.15916,     0.16016,     0.16116,     0.16216,     0.16316,     0.16416,     0.16517,     0.16617,     0.16717,\n",
              "           0.16817,     0.16917,     0.17017,     0.17117,     0.17217,     0.17317,     0.17417,     0.17518,     0.17618,     0.17718,     0.17818,     0.17918,     0.18018,     0.18118,     0.18218,     0.18318,     0.18418,     0.18519,     0.18619,     0.18719,     0.18819,     0.18919,     0.19019,     0.19119,\n",
              "           0.19219,     0.19319,     0.19419,      0.1952,      0.1962,      0.1972,      0.1982,      0.1992,      0.2002,      0.2012,      0.2022,      0.2032,      0.2042,     0.20521,     0.20621,     0.20721,     0.20821,     0.20921,     0.21021,     0.21121,     0.21221,     0.21321,     0.21421,     0.21522,\n",
              "           0.21622,     0.21722,     0.21822,     0.21922,     0.22022,     0.22122,     0.22222,     0.22322,     0.22422,     0.22523,     0.22623,     0.22723,     0.22823,     0.22923,     0.23023,     0.23123,     0.23223,     0.23323,     0.23423,     0.23524,     0.23624,     0.23724,     0.23824,     0.23924,\n",
              "           0.24024,     0.24124,     0.24224,     0.24324,     0.24424,     0.24525,     0.24625,     0.24725,     0.24825,     0.24925,     0.25025,     0.25125,     0.25225,     0.25325,     0.25425,     0.25526,     0.25626,     0.25726,     0.25826,     0.25926,     0.26026,     0.26126,     0.26226,     0.26326,\n",
              "           0.26426,     0.26527,     0.26627,     0.26727,     0.26827,     0.26927,     0.27027,     0.27127,     0.27227,     0.27327,     0.27427,     0.27528,     0.27628,     0.27728,     0.27828,     0.27928,     0.28028,     0.28128,     0.28228,     0.28328,     0.28428,     0.28529,     0.28629,     0.28729,\n",
              "           0.28829,     0.28929,     0.29029,     0.29129,     0.29229,     0.29329,     0.29429,      0.2953,      0.2963,      0.2973,      0.2983,      0.2993,      0.3003,      0.3013,      0.3023,      0.3033,      0.3043,     0.30531,     0.30631,     0.30731,     0.30831,     0.30931,     0.31031,     0.31131,\n",
              "           0.31231,     0.31331,     0.31431,     0.31532,     0.31632,     0.31732,     0.31832,     0.31932,     0.32032,     0.32132,     0.32232,     0.32332,     0.32432,     0.32533,     0.32633,     0.32733,     0.32833,     0.32933,     0.33033,     0.33133,     0.33233,     0.33333,     0.33433,     0.33534,\n",
              "           0.33634,     0.33734,     0.33834,     0.33934,     0.34034,     0.34134,     0.34234,     0.34334,     0.34434,     0.34535,     0.34635,     0.34735,     0.34835,     0.34935,     0.35035,     0.35135,     0.35235,     0.35335,     0.35435,     0.35536,     0.35636,     0.35736,     0.35836,     0.35936,\n",
              "           0.36036,     0.36136,     0.36236,     0.36336,     0.36436,     0.36537,     0.36637,     0.36737,     0.36837,     0.36937,     0.37037,     0.37137,     0.37237,     0.37337,     0.37437,     0.37538,     0.37638,     0.37738,     0.37838,     0.37938,     0.38038,     0.38138,     0.38238,     0.38338,\n",
              "           0.38438,     0.38539,     0.38639,     0.38739,     0.38839,     0.38939,     0.39039,     0.39139,     0.39239,     0.39339,     0.39439,      0.3954,      0.3964,      0.3974,      0.3984,      0.3994,      0.4004,      0.4014,      0.4024,      0.4034,      0.4044,     0.40541,     0.40641,     0.40741,\n",
              "           0.40841,     0.40941,     0.41041,     0.41141,     0.41241,     0.41341,     0.41441,     0.41542,     0.41642,     0.41742,     0.41842,     0.41942,     0.42042,     0.42142,     0.42242,     0.42342,     0.42442,     0.42543,     0.42643,     0.42743,     0.42843,     0.42943,     0.43043,     0.43143,\n",
              "           0.43243,     0.43343,     0.43443,     0.43544,     0.43644,     0.43744,     0.43844,     0.43944,     0.44044,     0.44144,     0.44244,     0.44344,     0.44444,     0.44545,     0.44645,     0.44745,     0.44845,     0.44945,     0.45045,     0.45145,     0.45245,     0.45345,     0.45445,     0.45546,\n",
              "           0.45646,     0.45746,     0.45846,     0.45946,     0.46046,     0.46146,     0.46246,     0.46346,     0.46446,     0.46547,     0.46647,     0.46747,     0.46847,     0.46947,     0.47047,     0.47147,     0.47247,     0.47347,     0.47447,     0.47548,     0.47648,     0.47748,     0.47848,     0.47948,\n",
              "           0.48048,     0.48148,     0.48248,     0.48348,     0.48448,     0.48549,     0.48649,     0.48749,     0.48849,     0.48949,     0.49049,     0.49149,     0.49249,     0.49349,     0.49449,      0.4955,      0.4965,      0.4975,      0.4985,      0.4995,      0.5005,      0.5015,      0.5025,      0.5035,\n",
              "            0.5045,     0.50551,     0.50651,     0.50751,     0.50851,     0.50951,     0.51051,     0.51151,     0.51251,     0.51351,     0.51451,     0.51552,     0.51652,     0.51752,     0.51852,     0.51952,     0.52052,     0.52152,     0.52252,     0.52352,     0.52452,     0.52553,     0.52653,     0.52753,\n",
              "           0.52853,     0.52953,     0.53053,     0.53153,     0.53253,     0.53353,     0.53453,     0.53554,     0.53654,     0.53754,     0.53854,     0.53954,     0.54054,     0.54154,     0.54254,     0.54354,     0.54454,     0.54555,     0.54655,     0.54755,     0.54855,     0.54955,     0.55055,     0.55155,\n",
              "           0.55255,     0.55355,     0.55455,     0.55556,     0.55656,     0.55756,     0.55856,     0.55956,     0.56056,     0.56156,     0.56256,     0.56356,     0.56456,     0.56557,     0.56657,     0.56757,     0.56857,     0.56957,     0.57057,     0.57157,     0.57257,     0.57357,     0.57457,     0.57558,\n",
              "           0.57658,     0.57758,     0.57858,     0.57958,     0.58058,     0.58158,     0.58258,     0.58358,     0.58458,     0.58559,     0.58659,     0.58759,     0.58859,     0.58959,     0.59059,     0.59159,     0.59259,     0.59359,     0.59459,      0.5956,      0.5966,      0.5976,      0.5986,      0.5996,\n",
              "            0.6006,      0.6016,      0.6026,      0.6036,      0.6046,     0.60561,     0.60661,     0.60761,     0.60861,     0.60961,     0.61061,     0.61161,     0.61261,     0.61361,     0.61461,     0.61562,     0.61662,     0.61762,     0.61862,     0.61962,     0.62062,     0.62162,     0.62262,     0.62362,\n",
              "           0.62462,     0.62563,     0.62663,     0.62763,     0.62863,     0.62963,     0.63063,     0.63163,     0.63263,     0.63363,     0.63463,     0.63564,     0.63664,     0.63764,     0.63864,     0.63964,     0.64064,     0.64164,     0.64264,     0.64364,     0.64464,     0.64565,     0.64665,     0.64765,\n",
              "           0.64865,     0.64965,     0.65065,     0.65165,     0.65265,     0.65365,     0.65465,     0.65566,     0.65666,     0.65766,     0.65866,     0.65966,     0.66066,     0.66166,     0.66266,     0.66366,     0.66466,     0.66567,     0.66667,     0.66767,     0.66867,     0.66967,     0.67067,     0.67167,\n",
              "           0.67267,     0.67367,     0.67467,     0.67568,     0.67668,     0.67768,     0.67868,     0.67968,     0.68068,     0.68168,     0.68268,     0.68368,     0.68468,     0.68569,     0.68669,     0.68769,     0.68869,     0.68969,     0.69069,     0.69169,     0.69269,     0.69369,     0.69469,      0.6957,\n",
              "            0.6967,      0.6977,      0.6987,      0.6997,      0.7007,      0.7017,      0.7027,      0.7037,      0.7047,     0.70571,     0.70671,     0.70771,     0.70871,     0.70971,     0.71071,     0.71171,     0.71271,     0.71371,     0.71471,     0.71572,     0.71672,     0.71772,     0.71872,     0.71972,\n",
              "           0.72072,     0.72172,     0.72272,     0.72372,     0.72472,     0.72573,     0.72673,     0.72773,     0.72873,     0.72973,     0.73073,     0.73173,     0.73273,     0.73373,     0.73473,     0.73574,     0.73674,     0.73774,     0.73874,     0.73974,     0.74074,     0.74174,     0.74274,     0.74374,\n",
              "           0.74474,     0.74575,     0.74675,     0.74775,     0.74875,     0.74975,     0.75075,     0.75175,     0.75275,     0.75375,     0.75475,     0.75576,     0.75676,     0.75776,     0.75876,     0.75976,     0.76076,     0.76176,     0.76276,     0.76376,     0.76476,     0.76577,     0.76677,     0.76777,\n",
              "           0.76877,     0.76977,     0.77077,     0.77177,     0.77277,     0.77377,     0.77477,     0.77578,     0.77678,     0.77778,     0.77878,     0.77978,     0.78078,     0.78178,     0.78278,     0.78378,     0.78478,     0.78579,     0.78679,     0.78779,     0.78879,     0.78979,     0.79079,     0.79179,\n",
              "           0.79279,     0.79379,     0.79479,      0.7958,      0.7968,      0.7978,      0.7988,      0.7998,      0.8008,      0.8018,      0.8028,      0.8038,      0.8048,     0.80581,     0.80681,     0.80781,     0.80881,     0.80981,     0.81081,     0.81181,     0.81281,     0.81381,     0.81481,     0.81582,\n",
              "           0.81682,     0.81782,     0.81882,     0.81982,     0.82082,     0.82182,     0.82282,     0.82382,     0.82482,     0.82583,     0.82683,     0.82783,     0.82883,     0.82983,     0.83083,     0.83183,     0.83283,     0.83383,     0.83483,     0.83584,     0.83684,     0.83784,     0.83884,     0.83984,\n",
              "           0.84084,     0.84184,     0.84284,     0.84384,     0.84484,     0.84585,     0.84685,     0.84785,     0.84885,     0.84985,     0.85085,     0.85185,     0.85285,     0.85385,     0.85485,     0.85586,     0.85686,     0.85786,     0.85886,     0.85986,     0.86086,     0.86186,     0.86286,     0.86386,\n",
              "           0.86486,     0.86587,     0.86687,     0.86787,     0.86887,     0.86987,     0.87087,     0.87187,     0.87287,     0.87387,     0.87487,     0.87588,     0.87688,     0.87788,     0.87888,     0.87988,     0.88088,     0.88188,     0.88288,     0.88388,     0.88488,     0.88589,     0.88689,     0.88789,\n",
              "           0.88889,     0.88989,     0.89089,     0.89189,     0.89289,     0.89389,     0.89489,      0.8959,      0.8969,      0.8979,      0.8989,      0.8999,      0.9009,      0.9019,      0.9029,      0.9039,      0.9049,     0.90591,     0.90691,     0.90791,     0.90891,     0.90991,     0.91091,     0.91191,\n",
              "           0.91291,     0.91391,     0.91491,     0.91592,     0.91692,     0.91792,     0.91892,     0.91992,     0.92092,     0.92192,     0.92292,     0.92392,     0.92492,     0.92593,     0.92693,     0.92793,     0.92893,     0.92993,     0.93093,     0.93193,     0.93293,     0.93393,     0.93493,     0.93594,\n",
              "           0.93694,     0.93794,     0.93894,     0.93994,     0.94094,     0.94194,     0.94294,     0.94394,     0.94494,     0.94595,     0.94695,     0.94795,     0.94895,     0.94995,     0.95095,     0.95195,     0.95295,     0.95395,     0.95495,     0.95596,     0.95696,     0.95796,     0.95896,     0.95996,\n",
              "           0.96096,     0.96196,     0.96296,     0.96396,     0.96496,     0.96597,     0.96697,     0.96797,     0.96897,     0.96997,     0.97097,     0.97197,     0.97297,     0.97397,     0.97497,     0.97598,     0.97698,     0.97798,     0.97898,     0.97998,     0.98098,     0.98198,     0.98298,     0.98398,\n",
              "           0.98498,     0.98599,     0.98699,     0.98799,     0.98899,     0.98999,     0.99099,     0.99199,     0.99299,     0.99399,     0.99499,       0.996,       0.997,       0.998,       0.999,           1]), array([[    0.92655,     0.92655,      0.9209,     0.91525,     0.91525,      0.9096,      0.9096,     0.90395,     0.90395,     0.89831,     0.89831,     0.89831,     0.89831,     0.89831,     0.89831,     0.89831,     0.89831,     0.89831,     0.89831,     0.89831,     0.89831,     0.89831,     0.89831,\n",
              "            0.89831,     0.89831,     0.89831,     0.89497,     0.89266,     0.89266,     0.89266,     0.89182,     0.88701,     0.88701,     0.88701,     0.88701,     0.88701,     0.88701,     0.88701,     0.88701,     0.88701,     0.88701,     0.88701,     0.88701,     0.88701,     0.88701,     0.88701,\n",
              "            0.88701,     0.88701,     0.88701,     0.88701,     0.88701,     0.88701,     0.88701,     0.88701,     0.88701,     0.88701,     0.88701,     0.88701,     0.88701,     0.88701,     0.88701,     0.88701,     0.88701,     0.88701,     0.88701,     0.88701,     0.88701,     0.88701,     0.88701,\n",
              "            0.88701,     0.88701,     0.88701,     0.88136,     0.88136,     0.88136,     0.88136,     0.88136,     0.88136,     0.88136,     0.88136,     0.88136,     0.88136,     0.88136,     0.88136,     0.88136,     0.88136,     0.88136,     0.88136,     0.88136,     0.88136,     0.88136,     0.88136,\n",
              "            0.88136,     0.88136,     0.88136,     0.88136,     0.88136,     0.88136,     0.88136,     0.88136,     0.88136,     0.88136,     0.88136,     0.88136,     0.88136,     0.88136,     0.88136,     0.88136,     0.88136,     0.88136,     0.88136,     0.88136,     0.88136,     0.88136,     0.88136,\n",
              "            0.88136,     0.88136,     0.88136,     0.88136,     0.88136,     0.88136,     0.88136,     0.88136,     0.88136,     0.88136,     0.88136,     0.88136,     0.88136,     0.88136,     0.88136,     0.88136,     0.88136,     0.88136,     0.88072,     0.87959,     0.87846,     0.87733,      0.8762,\n",
              "            0.87571,     0.87571,     0.87571,     0.87571,     0.87329,     0.87006,     0.87006,     0.87006,     0.87006,     0.87006,     0.87006,     0.87006,     0.87006,     0.87006,     0.87006,     0.87006,     0.87006,     0.87006,     0.87006,     0.87006,     0.87006,     0.87006,     0.87006,\n",
              "            0.87006,     0.87006,     0.87006,     0.87006,     0.87006,     0.87006,     0.87006,     0.87006,     0.87006,     0.87006,     0.87006,     0.87006,     0.87006,     0.87006,     0.87006,     0.87006,     0.87006,     0.87006,     0.87006,     0.86998,     0.86939,     0.86879,      0.8682,\n",
              "            0.86761,     0.86701,     0.86642,     0.86582,     0.86523,     0.86464,     0.86441,     0.86441,     0.86441,     0.86441,     0.86354,     0.86169,     0.85983,     0.85876,     0.85876,     0.85876,     0.85876,     0.85876,     0.85876,     0.85876,     0.85876,     0.85876,     0.85876,\n",
              "            0.85876,     0.85876,     0.85876,     0.85876,     0.85876,     0.85876,     0.85876,     0.85876,     0.85876,     0.85876,     0.85876,     0.85876,     0.85876,     0.85876,     0.85876,     0.85876,     0.85876,     0.85876,     0.85876,     0.85876,     0.85876,     0.85876,     0.85876,\n",
              "            0.85876,     0.85876,     0.85876,     0.85876,     0.85876,      0.8585,     0.85649,     0.85447,     0.85311,     0.85311,     0.85311,     0.85311,     0.85311,     0.85311,     0.85311,     0.85311,     0.85311,     0.85311,     0.85311,     0.85311,     0.85311,     0.85311,     0.85311,\n",
              "            0.85311,     0.85311,     0.85311,     0.85311,     0.85311,     0.85311,     0.85311,     0.85311,     0.85311,     0.85311,     0.85311,     0.85311,     0.85311,     0.85311,     0.85311,     0.85311,     0.85311,     0.85311,     0.85311,     0.85311,     0.85311,     0.85311,      0.8522,\n",
              "            0.85115,      0.8501,     0.84904,     0.84799,     0.84726,     0.84687,     0.84648,     0.84609,     0.84569,      0.8453,     0.84491,     0.84452,     0.84412,     0.84373,     0.84334,     0.84294,     0.84255,     0.84216,     0.84181,     0.84181,     0.84181,     0.84181,     0.84181,\n",
              "            0.84164,     0.84089,     0.84014,      0.8394,     0.83865,      0.8379,     0.83715,     0.83641,     0.83616,     0.83616,     0.83616,     0.83616,     0.83616,     0.83616,     0.83616,     0.83616,     0.83616,     0.83616,     0.83616,     0.83616,     0.83616,     0.83616,     0.83616,\n",
              "            0.83616,     0.83616,     0.83616,     0.83616,     0.83616,     0.83607,     0.83587,     0.83567,     0.83547,     0.83527,     0.83507,     0.83486,     0.83466,     0.83446,     0.83426,     0.83406,     0.83386,     0.83366,     0.83345,     0.83325,     0.83305,     0.83285,     0.83265,\n",
              "            0.83245,     0.83225,     0.83204,     0.83184,     0.83164,     0.83144,     0.83124,     0.83104,     0.83084,     0.83063,     0.83051,     0.83051,     0.83051,     0.83051,     0.83051,     0.83051,     0.83051,     0.83051,     0.83051,     0.83051,     0.83051,     0.83051,     0.83051,\n",
              "            0.83051,     0.83051,     0.83051,     0.83051,     0.83051,     0.83051,     0.83051,     0.83051,     0.83051,     0.83051,     0.83051,     0.83051,     0.83051,     0.83051,     0.83051,     0.83051,     0.83051,     0.83051,     0.83051,     0.83051,     0.83051,     0.83051,     0.83051,\n",
              "            0.83051,     0.83051,     0.83051,     0.83051,     0.83051,     0.83051,     0.83051,     0.83051,     0.83051,     0.83051,     0.83042,      0.8303,     0.83017,     0.83005,     0.82993,     0.82981,     0.82969,     0.82957,     0.82945,     0.82933,     0.82921,     0.82909,     0.82897,\n",
              "            0.82885,     0.82873,     0.82861,     0.82849,     0.82837,     0.82824,     0.82812,       0.828,     0.82788,     0.82776,     0.82764,     0.82752,      0.8274,     0.82728,     0.82716,     0.82704,     0.82692,      0.8268,     0.82668,     0.82656,     0.82643,     0.82631,     0.82619,\n",
              "            0.82607,     0.82595,     0.82583,     0.82571,     0.82559,     0.82547,     0.82535,     0.82523,     0.82511,     0.82499,     0.82487,     0.82486,     0.82486,     0.82486,     0.82486,     0.82486,     0.82486,     0.82486,     0.82486,     0.82486,     0.81909,      0.8188,     0.81851,\n",
              "            0.81822,     0.81793,     0.81764,     0.81735,     0.81706,     0.81677,     0.81648,     0.81619,      0.8159,     0.81561,     0.81532,     0.81503,     0.81474,     0.81445,     0.81416,     0.81387,     0.81358,     0.81318,     0.81277,     0.81235,     0.81194,     0.81153,     0.81111,\n",
              "             0.8107,     0.81029,     0.80987,     0.80946,     0.80904,     0.80863,     0.80822,     0.80761,     0.80646,      0.8053,     0.80414,     0.80298,     0.80226,     0.80226,     0.80226,     0.80226,     0.80226,     0.80226,     0.80226,     0.80226,     0.80226,     0.80226,     0.80226,\n",
              "            0.80226,     0.80226,     0.80226,     0.80226,     0.80226,     0.80226,     0.80226,     0.80226,     0.80226,     0.80226,     0.80226,     0.80226,     0.80226,     0.80226,     0.80226,     0.80226,     0.80226,     0.80226,     0.80226,     0.80226,     0.80226,     0.80226,     0.80226,\n",
              "            0.80226,     0.80226,     0.80226,     0.80226,     0.80226,     0.80226,     0.80226,     0.80226,     0.80226,     0.80226,     0.80226,     0.80226,     0.80226,     0.80226,     0.80226,     0.80226,     0.80226,     0.80226,     0.80226,     0.80226,     0.80226,     0.80226,     0.80226,\n",
              "            0.80226,     0.80226,     0.80226,     0.80226,     0.80226,     0.80226,     0.80226,     0.80226,     0.80226,     0.80226,     0.80226,     0.80226,     0.80226,     0.80226,     0.80226,     0.80226,     0.80226,     0.80226,     0.80226,     0.80226,     0.80226,     0.80226,     0.80226,\n",
              "            0.80226,     0.80226,     0.80226,     0.80226,     0.80226,     0.80226,     0.80226,     0.80226,     0.80226,     0.80226,      0.8019,     0.80132,     0.80074,     0.80016,     0.79958,       0.799,     0.79842,     0.79784,     0.79727,     0.79669,     0.79661,     0.79661,     0.79661,\n",
              "            0.79661,     0.79661,     0.79661,     0.79661,     0.79661,     0.79661,     0.79545,     0.79352,     0.79159,     0.78531,     0.78531,     0.78531,     0.78531,     0.78531,     0.78531,     0.78531,     0.78531,     0.78531,     0.78531,     0.78354,     0.78161,     0.77968,     0.77401,\n",
              "            0.77401,     0.77401,     0.77401,     0.77401,     0.77401,     0.77401,     0.77401,     0.77401,     0.77401,     0.77401,     0.77401,     0.77401,     0.77401,     0.77401,     0.77401,     0.77401,     0.77401,     0.77401,     0.77401,     0.77401,     0.77401,     0.77401,     0.77401,\n",
              "            0.77401,     0.77401,     0.77401,     0.77401,     0.77401,     0.77401,     0.77401,     0.77401,     0.77401,     0.77324,     0.77092,     0.76861,     0.76784,     0.76726,     0.76669,     0.76611,     0.76553,     0.76495,     0.76437,     0.76379,     0.76321,      0.7626,     0.76177,\n",
              "            0.76094,     0.76012,     0.75929,     0.75846,     0.75763,     0.75676,      0.7558,     0.75483,     0.75387,      0.7529,     0.75194,     0.75141,     0.75141,     0.75141,     0.75141,     0.75141,     0.75141,     0.75141,     0.75141,     0.75141,     0.75141,     0.75141,     0.75141,\n",
              "            0.75141,     0.75141,     0.75141,     0.75141,     0.75141,     0.75067,     0.74874,     0.74681,     0.74561,     0.74528,     0.74495,     0.74462,     0.74429,     0.74396,     0.74363,      0.7433,     0.74296,     0.74263,      0.7423,     0.74197,     0.74164,     0.74131,     0.74098,\n",
              "            0.74065,     0.74032,     0.74011,     0.74011,     0.74011,     0.74011,     0.73824,     0.73631,     0.73442,     0.73337,     0.73231,     0.73126,     0.73021,     0.72915,      0.7249,     0.72266,     0.72193,     0.72121,     0.72048,     0.71976,     0.71904,     0.71831,     0.71759,\n",
              "            0.71751,     0.71751,     0.71751,     0.71751,     0.71751,     0.71751,     0.71751,     0.71751,     0.71735,      0.7159,     0.71445,       0.713,     0.71178,     0.71136,     0.71095,     0.71054,     0.71012,     0.70971,     0.70929,     0.70888,     0.70847,     0.70805,     0.70764,\n",
              "            0.70723,     0.70681,      0.7064,     0.70601,     0.70563,     0.70526,     0.70489,     0.70451,     0.70414,     0.70377,     0.70339,     0.70302,     0.70264,     0.70227,      0.7019,     0.70152,     0.70115,     0.70078,     0.69956,     0.69724,     0.69493,     0.69364,     0.69235,\n",
              "            0.69106,     0.68977,     0.68883,      0.6881,     0.68738,     0.68666,     0.68593,     0.68521,     0.68448,     0.68376,      0.6831,     0.68246,     0.68181,     0.68117,     0.68053,     0.67988,     0.67924,      0.6786,     0.67792,      0.6756,     0.67329,     0.67192,     0.67124,\n",
              "            0.67056,     0.66988,      0.6692,     0.66851,     0.66783,     0.66715,      0.6663,     0.66501,     0.66372,     0.66244,     0.66115,     0.65503,      0.6542,     0.65337,     0.65255,     0.65172,     0.65089,     0.65006,     0.64635,     0.64173,     0.63827,     0.63722,     0.63616,\n",
              "            0.63511,     0.63406,       0.633,     0.62262,     0.62081,     0.61998,     0.61915,     0.61832,      0.6175,     0.61667,     0.61584,     0.61582,      0.6139,     0.61197,     0.60997,     0.60707,     0.60452,     0.60452,     0.60259,     0.59125,     0.58836,     0.57589,     0.57536,\n",
              "            0.57483,     0.57431,     0.57378,     0.57326,     0.57273,      0.5722,     0.57168,     0.57115,     0.57062,     0.56112,     0.55829,     0.55636,     0.55443,      0.5525,     0.55057,     0.54864,      0.5408,     0.53848,     0.53672,     0.53519,      0.5294,     0.52506,      0.5239,\n",
              "            0.52274,     0.52159,     0.52043,     0.51809,     0.51423,     0.50849,      0.5028,     0.50164,     0.50048,     0.49933,     0.49817,     0.48986,     0.48479,     0.48314,     0.48148,     0.47953,     0.47663,      0.4729,     0.46528,     0.45523,     0.45234,     0.44408,     0.43264,\n",
              "            0.42882,     0.42753,     0.42624,     0.42496,      0.4179,     0.41404,     0.40641,     0.40255,     0.39869,     0.39353,     0.38786,     0.38496,     0.38207,     0.37917,     0.36555,     0.35976,      0.3493,      0.3464,     0.34014,     0.32673,     0.32441,     0.32209,     0.30961,\n",
              "            0.30729,     0.30454,     0.28786,       0.284,      0.2698,     0.26187,     0.25385,     0.25153,     0.24921,     0.23871,     0.22496,      0.2211,     0.21724,     0.21272,     0.20128,     0.19059,     0.18673,     0.17543,     0.16964,     0.15256,     0.14676,     0.13504,      0.1267,\n",
              "            0.11809,     0.10595,    0.094366,     0.08094,    0.072698,    0.068837,    0.064976,    0.059053,     0.04351,    0.038633,    0.035738,    0.027404,    0.025087,    0.022771,    0.010454,   0.0085236,   0.0065932,           0,           0,           0,           0,           0,           0,\n",
              "                  0,           0,           0,           0,           0,           0,           0,           0,           0,           0,           0,           0,           0,           0,           0,           0,           0,           0,           0,           0,           0,           0,           0,\n",
              "                  0,           0,           0,           0,           0,           0,           0,           0,           0,           0,           0]]), 'Confidence', 'Recall']]\n",
              "fitness: 0.719128460384718\n",
              "keys: ['metrics/precision(B)', 'metrics/recall(B)', 'metrics/mAP50(B)', 'metrics/mAP50-95(B)']\n",
              "maps: array([    0.70088,     0.70088,     0.70088])\n",
              "names: {0: 'grevys_zebra', 1: 'plains_zebra', 2: 'other'}\n",
              "plot: True\n",
              "results_dict: {'metrics/precision(B)': 0.9032950444240767, 'metrics/recall(B)': 0.791591026054303, 'metrics/mAP50(B)': 0.8833890503287346, 'metrics/mAP50-95(B)': 0.7008772837242717, 'fitness': 0.719128460384718}\n",
              "save_dir: PosixPath('runs/detect/test-training')\n",
              "speed: {'preprocess': 0.15014171600341797, 'inference': 6.861050128936768, 'loss': 0.00064849853515625, 'postprocess': 2.4185609817504883}\n",
              "task: 'detect'"
            ]
          },
          "metadata": {},
          "execution_count": 17
        }
      ]
    },
    {
      "cell_type": "code",
      "source": [
        "model=YOLO('/content/runs/detect/test-training/weights/best.pt')"
      ],
      "metadata": {
        "id": "bMWyCwzEjhCd"
      },
      "execution_count": null,
      "outputs": []
    },
    {
      "cell_type": "code",
      "source": [
        "model.names"
      ],
      "metadata": {
        "colab": {
          "base_uri": "https://localhost:8080/"
        },
        "id": "CmfPMlFHjg5K",
        "outputId": "f4026ad3-845d-4335-c46a-ee9bcde9ed31"
      },
      "execution_count": null,
      "outputs": [
        {
          "output_type": "execute_result",
          "data": {
            "text/plain": [
              "{0: 'grevys_zebra', 1: 'plains_zebra', 2: 'other'}"
            ]
          },
          "metadata": {},
          "execution_count": 19
        }
      ]
    },
    {
      "cell_type": "code",
      "source": [
        "result = model('/content/mugie-annotation/April 2023-MC001-Batch-1/images', save=True)"
      ],
      "metadata": {
        "colab": {
          "base_uri": "https://localhost:8080/"
        },
        "id": "DCOsoycBjgz4",
        "outputId": "d2e8cc51-2a91-497a-94bd-1c773f4d8b64"
      },
      "execution_count": null,
      "outputs": [
        {
          "output_type": "stream",
          "name": "stdout",
          "text": [
            "\n",
            "image 1/100 /content/mugie-annotation/April 2023-MC001-Batch-1/images/April 2023-MC001-DCIM0002.JPG: 384x640 1 other, 77.4ms\n",
            "image 2/100 /content/mugie-annotation/April 2023-MC001-Batch-1/images/April 2023-MC001-DCIM0003.JPG: 384x640 1 other, 24.1ms\n",
            "image 3/100 /content/mugie-annotation/April 2023-MC001-Batch-1/images/April 2023-MC001-DCIM0004.JPG: 384x640 2 others, 24.1ms\n",
            "image 4/100 /content/mugie-annotation/April 2023-MC001-Batch-1/images/April 2023-MC001-DCIM0005.JPG: 384x640 2 others, 24.1ms\n",
            "image 5/100 /content/mugie-annotation/April 2023-MC001-Batch-1/images/April 2023-MC001-DCIM0006.JPG: 384x640 2 others, 24.1ms\n",
            "image 6/100 /content/mugie-annotation/April 2023-MC001-Batch-1/images/April 2023-MC001-DCIM0007.JPG: 384x640 3 others, 24.1ms\n",
            "image 7/100 /content/mugie-annotation/April 2023-MC001-Batch-1/images/April 2023-MC001-DCIM0008.JPG: 384x640 2 others, 24.1ms\n",
            "image 8/100 /content/mugie-annotation/April 2023-MC001-Batch-1/images/April 2023-MC001-DCIM0009.JPG: 384x640 1 other, 25.3ms\n",
            "image 9/100 /content/mugie-annotation/April 2023-MC001-Batch-1/images/April 2023-MC001-DCIM0010.JPG: 384x640 1 other, 21.6ms\n",
            "image 10/100 /content/mugie-annotation/April 2023-MC001-Batch-1/images/April 2023-MC001-DCIM0011.JPG: 384x640 1 other, 19.0ms\n",
            "image 11/100 /content/mugie-annotation/April 2023-MC001-Batch-1/images/April 2023-MC001-DCIM0012.JPG: 384x640 1 other, 18.9ms\n",
            "image 12/100 /content/mugie-annotation/April 2023-MC001-Batch-1/images/April 2023-MC001-DCIM0013.JPG: 384x640 1 other, 19.0ms\n",
            "image 13/100 /content/mugie-annotation/April 2023-MC001-Batch-1/images/April 2023-MC001-DCIM0014.JPG: 384x640 1 other, 19.0ms\n",
            "image 14/100 /content/mugie-annotation/April 2023-MC001-Batch-1/images/April 2023-MC001-DCIM0015.JPG: 384x640 1 other, 17.5ms\n",
            "image 15/100 /content/mugie-annotation/April 2023-MC001-Batch-1/images/April 2023-MC001-DCIM0016.JPG: 384x640 1 other, 15.4ms\n",
            "image 16/100 /content/mugie-annotation/April 2023-MC001-Batch-1/images/April 2023-MC001-DCIM0017.JPG: 384x640 1 other, 15.4ms\n",
            "image 17/100 /content/mugie-annotation/April 2023-MC001-Batch-1/images/April 2023-MC001-DCIM0018.JPG: 384x640 2 others, 23.3ms\n",
            "image 18/100 /content/mugie-annotation/April 2023-MC001-Batch-1/images/April 2023-MC001-DCIM0019.JPG: 384x640 1 other, 24.0ms\n",
            "image 19/100 /content/mugie-annotation/April 2023-MC001-Batch-1/images/April 2023-MC001-DCIM0020.JPG: 384x640 1 other, 25.8ms\n",
            "image 20/100 /content/mugie-annotation/April 2023-MC001-Batch-1/images/April 2023-MC001-DCIM0021.JPG: 384x640 1 other, 18.8ms\n",
            "image 21/100 /content/mugie-annotation/April 2023-MC001-Batch-1/images/April 2023-MC001-DCIM0022.JPG: 384x640 2 others, 17.8ms\n",
            "image 22/100 /content/mugie-annotation/April 2023-MC001-Batch-1/images/April 2023-MC001-DCIM0023.JPG: 384x640 1 other, 17.2ms\n",
            "image 23/100 /content/mugie-annotation/April 2023-MC001-Batch-1/images/April 2023-MC001-DCIM0024.JPG: 384x640 1 other, 18.5ms\n",
            "image 24/100 /content/mugie-annotation/April 2023-MC001-Batch-1/images/April 2023-MC001-DCIM0025.JPG: 384x640 1 other, 16.6ms\n",
            "image 25/100 /content/mugie-annotation/April 2023-MC001-Batch-1/images/April 2023-MC001-DCIM0026.JPG: 384x640 1 other, 16.8ms\n",
            "image 26/100 /content/mugie-annotation/April 2023-MC001-Batch-1/images/April 2023-MC001-DCIM0027.JPG: 384x640 3 others, 17.1ms\n",
            "image 27/100 /content/mugie-annotation/April 2023-MC001-Batch-1/images/April 2023-MC001-DCIM0028.JPG: 384x640 2 others, 18.5ms\n",
            "image 28/100 /content/mugie-annotation/April 2023-MC001-Batch-1/images/April 2023-MC001-DCIM0029.JPG: 384x640 3 others, 18.1ms\n",
            "image 29/100 /content/mugie-annotation/April 2023-MC001-Batch-1/images/April 2023-MC001-DCIM0030.JPG: 384x640 3 others, 18.2ms\n",
            "image 30/100 /content/mugie-annotation/April 2023-MC001-Batch-1/images/April 2023-MC001-DCIM0129.JPG: 384x640 1 other, 19.1ms\n",
            "image 31/100 /content/mugie-annotation/April 2023-MC001-Batch-1/images/April 2023-MC001-DCIM0130.JPG: 384x640 1 other, 16.1ms\n",
            "image 32/100 /content/mugie-annotation/April 2023-MC001-Batch-1/images/April 2023-MC001-DCIM0131.JPG: 384x640 1 other, 30.1ms\n",
            "image 33/100 /content/mugie-annotation/April 2023-MC001-Batch-1/images/April 2023-MC001-DCIM0152.JPG: 384x640 2 others, 31.6ms\n",
            "image 34/100 /content/mugie-annotation/April 2023-MC001-Batch-1/images/April 2023-MC001-DCIM0153.JPG: 384x640 1 other, 20.0ms\n",
            "image 35/100 /content/mugie-annotation/April 2023-MC001-Batch-1/images/April 2023-MC001-DCIM0154.JPG: 384x640 2 others, 18.3ms\n",
            "image 36/100 /content/mugie-annotation/April 2023-MC001-Batch-1/images/April 2023-MC001-DCIM0155.JPG: 384x640 4 others, 17.4ms\n",
            "image 37/100 /content/mugie-annotation/April 2023-MC001-Batch-1/images/April 2023-MC001-DCIM0156.JPG: 384x640 7 others, 15.6ms\n",
            "image 38/100 /content/mugie-annotation/April 2023-MC001-Batch-1/images/April 2023-MC001-DCIM0157.JPG: 384x640 7 others, 16.5ms\n",
            "image 39/100 /content/mugie-annotation/April 2023-MC001-Batch-1/images/April 2023-MC001-DCIM0158.JPG: 384x640 2 others, 16.8ms\n",
            "image 40/100 /content/mugie-annotation/April 2023-MC001-Batch-1/images/April 2023-MC001-DCIM0160.JPG: 384x640 2 others, 17.3ms\n",
            "image 41/100 /content/mugie-annotation/April 2023-MC001-Batch-1/images/April 2023-MC001-DCIM0161.JPG: 384x640 1 other, 16.7ms\n",
            "image 42/100 /content/mugie-annotation/April 2023-MC001-Batch-1/images/April 2023-MC001-DCIM0166.JPG: 384x640 1 other, 15.7ms\n",
            "image 43/100 /content/mugie-annotation/April 2023-MC001-Batch-1/images/April 2023-MC001-DCIM0167.JPG: 384x640 2 others, 17.7ms\n",
            "image 44/100 /content/mugie-annotation/April 2023-MC001-Batch-1/images/April 2023-MC001-DCIM0168.JPG: 384x640 2 others, 20.1ms\n",
            "image 45/100 /content/mugie-annotation/April 2023-MC001-Batch-1/images/April 2023-MC001-DCIM0172.JPG: 384x640 2 others, 18.6ms\n",
            "image 46/100 /content/mugie-annotation/April 2023-MC001-Batch-1/images/April 2023-MC001-DCIM0173.JPG: 384x640 2 others, 23.7ms\n",
            "image 47/100 /content/mugie-annotation/April 2023-MC001-Batch-1/images/April 2023-MC001-DCIM0174.JPG: 384x640 2 others, 15.6ms\n",
            "image 48/100 /content/mugie-annotation/April 2023-MC001-Batch-1/images/April 2023-MC001-DCIM0175.JPG: 384x640 2 others, 17.3ms\n",
            "image 49/100 /content/mugie-annotation/April 2023-MC001-Batch-1/images/April 2023-MC001-DCIM0176.JPG: 384x640 2 others, 16.8ms\n",
            "image 50/100 /content/mugie-annotation/April 2023-MC001-Batch-1/images/April 2023-MC001-DCIM0177.JPG: 384x640 1 other, 16.4ms\n",
            "image 51/100 /content/mugie-annotation/April 2023-MC001-Batch-1/images/April 2023-MC001-DCIM0178.JPG: 384x640 1 other, 22.0ms\n",
            "image 52/100 /content/mugie-annotation/April 2023-MC001-Batch-1/images/April 2023-MC001-DCIM0179.JPG: 384x640 1 other, 15.6ms\n",
            "image 53/100 /content/mugie-annotation/April 2023-MC001-Batch-1/images/April 2023-MC001-DCIM0180.JPG: 384x640 1 other, 22.1ms\n",
            "image 54/100 /content/mugie-annotation/April 2023-MC001-Batch-1/images/April 2023-MC001-DCIM0181.JPG: 384x640 2 others, 17.2ms\n",
            "image 55/100 /content/mugie-annotation/April 2023-MC001-Batch-1/images/April 2023-MC001-DCIM0182.JPG: 384x640 2 others, 16.9ms\n",
            "image 56/100 /content/mugie-annotation/April 2023-MC001-Batch-1/images/April 2023-MC001-DCIM0183.JPG: 384x640 3 others, 18.0ms\n",
            "image 57/100 /content/mugie-annotation/April 2023-MC001-Batch-1/images/April 2023-MC001-DCIM0184.JPG: 384x640 1 other, 26.7ms\n",
            "image 58/100 /content/mugie-annotation/April 2023-MC001-Batch-1/images/April 2023-MC001-DCIM0185.JPG: 384x640 1 other, 17.7ms\n",
            "image 59/100 /content/mugie-annotation/April 2023-MC001-Batch-1/images/April 2023-MC001-DCIM0186.JPG: 384x640 1 other, 21.5ms\n",
            "image 60/100 /content/mugie-annotation/April 2023-MC001-Batch-1/images/April 2023-MC001-DCIM0187.JPG: 384x640 1 other, 21.1ms\n",
            "image 61/100 /content/mugie-annotation/April 2023-MC001-Batch-1/images/April 2023-MC001-DCIM0188.JPG: 384x640 2 others, 24.4ms\n",
            "image 62/100 /content/mugie-annotation/April 2023-MC001-Batch-1/images/April 2023-MC001-DCIM0191.JPG: 384x640 2 others, 17.2ms\n",
            "image 63/100 /content/mugie-annotation/April 2023-MC001-Batch-1/images/April 2023-MC001-DCIM0192.JPG: 384x640 2 others, 15.8ms\n",
            "image 64/100 /content/mugie-annotation/April 2023-MC001-Batch-1/images/April 2023-MC001-DCIM0193.JPG: 384x640 1 other, 23.1ms\n",
            "image 65/100 /content/mugie-annotation/April 2023-MC001-Batch-1/images/April 2023-MC001-DCIM0194.JPG: 384x640 1 other, 15.4ms\n",
            "image 66/100 /content/mugie-annotation/April 2023-MC001-Batch-1/images/April 2023-MC001-DCIM0222.JPG: 384x640 1 other, 15.5ms\n",
            "image 67/100 /content/mugie-annotation/April 2023-MC001-Batch-1/images/April 2023-MC001-DCIM0223.JPG: 384x640 1 other, 21.7ms\n",
            "image 68/100 /content/mugie-annotation/April 2023-MC001-Batch-1/images/April 2023-MC001-DCIM0224.JPG: 384x640 1 other, 20.0ms\n",
            "image 69/100 /content/mugie-annotation/April 2023-MC001-Batch-1/images/April 2023-MC001-DCIM0225.JPG: 384x640 6 others, 16.6ms\n",
            "image 70/100 /content/mugie-annotation/April 2023-MC001-Batch-1/images/April 2023-MC001-DCIM0226.JPG: 384x640 5 others, 18.0ms\n",
            "image 71/100 /content/mugie-annotation/April 2023-MC001-Batch-1/images/April 2023-MC001-DCIM0227.JPG: 384x640 8 others, 19.6ms\n",
            "image 72/100 /content/mugie-annotation/April 2023-MC001-Batch-1/images/April 2023-MC001-DCIM0228.JPG: 384x640 4 others, 18.3ms\n",
            "image 73/100 /content/mugie-annotation/April 2023-MC001-Batch-1/images/April 2023-MC001-DCIM0229.JPG: 384x640 1 other, 20.8ms\n",
            "image 74/100 /content/mugie-annotation/April 2023-MC001-Batch-1/images/April 2023-MC001-DCIM0230.JPG: 384x640 3 others, 18.5ms\n",
            "image 75/100 /content/mugie-annotation/April 2023-MC001-Batch-1/images/April 2023-MC001-DCIM0231.JPG: 384x640 4 others, 18.2ms\n",
            "image 76/100 /content/mugie-annotation/April 2023-MC001-Batch-1/images/April 2023-MC001-DCIM0232.JPG: 384x640 1 other, 20.1ms\n",
            "image 77/100 /content/mugie-annotation/April 2023-MC001-Batch-1/images/April 2023-MC001-DCIM0249.JPG: 384x640 20 others, 22.7ms\n",
            "image 78/100 /content/mugie-annotation/April 2023-MC001-Batch-1/images/April 2023-MC001-DCIM0251.JPG: 384x640 2 others, 22.9ms\n",
            "image 79/100 /content/mugie-annotation/April 2023-MC001-Batch-1/images/April 2023-MC001-DCIM0252.JPG: 384x640 6 others, 21.0ms\n",
            "image 80/100 /content/mugie-annotation/April 2023-MC001-Batch-1/images/April 2023-MC001-DCIM0253.JPG: 384x640 6 others, 13.9ms\n",
            "image 81/100 /content/mugie-annotation/April 2023-MC001-Batch-1/images/April 2023-MC001-DCIM0254.JPG: 384x640 5 others, 13.9ms\n",
            "image 82/100 /content/mugie-annotation/April 2023-MC001-Batch-1/images/April 2023-MC001-DCIM0255.JPG: 384x640 4 others, 16.2ms\n",
            "image 83/100 /content/mugie-annotation/April 2023-MC001-Batch-1/images/April 2023-MC001-DCIM0256.JPG: 384x640 4 others, 15.3ms\n",
            "image 84/100 /content/mugie-annotation/April 2023-MC001-Batch-1/images/April 2023-MC001-DCIM0257.JPG: 384x640 3 others, 14.9ms\n",
            "image 85/100 /content/mugie-annotation/April 2023-MC001-Batch-1/images/April 2023-MC001-DCIM0258.JPG: 384x640 2 others, 15.9ms\n",
            "image 86/100 /content/mugie-annotation/April 2023-MC001-Batch-1/images/April 2023-MC001-DCIM0259.JPG: 384x640 1 other, 13.8ms\n",
            "image 87/100 /content/mugie-annotation/April 2023-MC001-Batch-1/images/April 2023-MC001-DCIM0260.JPG: 384x640 1 other, 13.8ms\n",
            "image 88/100 /content/mugie-annotation/April 2023-MC001-Batch-1/images/April 2023-MC001-DCIM0261.JPG: 384x640 2 others, 13.9ms\n",
            "image 89/100 /content/mugie-annotation/April 2023-MC001-Batch-1/images/April 2023-MC001-DCIM0262.JPG: 384x640 2 others, 13.8ms\n",
            "image 90/100 /content/mugie-annotation/April 2023-MC001-Batch-1/images/April 2023-MC001-DCIM0263.JPG: 384x640 2 others, 12.5ms\n",
            "image 91/100 /content/mugie-annotation/April 2023-MC001-Batch-1/images/April 2023-MC001-DCIM0264.JPG: 384x640 (no detections), 11.8ms\n",
            "image 92/100 /content/mugie-annotation/April 2023-MC001-Batch-1/images/April 2023-MC001-DCIM0265.JPG: 384x640 (no detections), 13.6ms\n",
            "image 93/100 /content/mugie-annotation/April 2023-MC001-Batch-1/images/April 2023-MC001-DCIM0268.JPG: 384x640 2 others, 11.7ms\n",
            "image 94/100 /content/mugie-annotation/April 2023-MC001-Batch-1/images/April 2023-MC001-DCIM0269.JPG: 384x640 1 other, 12.4ms\n",
            "image 95/100 /content/mugie-annotation/April 2023-MC001-Batch-1/images/April 2023-MC001-DCIM0270.JPG: 384x640 1 other, 12.1ms\n",
            "image 96/100 /content/mugie-annotation/April 2023-MC001-Batch-1/images/April 2023-MC001-DCIM0271.JPG: 384x640 1 other, 14.4ms\n",
            "image 97/100 /content/mugie-annotation/April 2023-MC001-Batch-1/images/April 2023-MC001-DCIM0272.JPG: 384x640 1 other, 13.5ms\n",
            "image 98/100 /content/mugie-annotation/April 2023-MC001-Batch-1/images/April 2023-MC001-DCIM0273.JPG: 384x640 1 other, 12.3ms\n",
            "image 99/100 /content/mugie-annotation/April 2023-MC001-Batch-1/images/April 2023-MC001-DCIM0274.JPG: 384x640 1 other, 11.8ms\n",
            "image 100/100 /content/mugie-annotation/April 2023-MC001-Batch-1/images/April 2023-MC001-DCIM0275.JPG: 384x640 1 other, 11.2ms\n",
            "Speed: 2.5ms preprocess, 18.9ms inference, 1.7ms postprocess per image at shape (1, 3, 384, 640)\n",
            "Results saved to \u001b[1mruns/detect/predict\u001b[0m\n"
          ]
        }
      ]
    },
    {
      "cell_type": "code",
      "source": [
        "result[0].boxes"
      ],
      "metadata": {
        "colab": {
          "base_uri": "https://localhost:8080/"
        },
        "id": "j1lScjhEjgup",
        "outputId": "5f7daadf-8da4-435b-bb22-f0067dba803b"
      },
      "execution_count": null,
      "outputs": [
        {
          "output_type": "execute_result",
          "data": {
            "text/plain": [
              "ultralytics.engine.results.Boxes object with attributes:\n",
              "\n",
              "cls: tensor([2.], device='cuda:0')\n",
              "conf: tensor([0.9352], device='cuda:0')\n",
              "data: tensor([[232.2707, 234.5989, 366.7390, 329.9462,   0.9352,   2.0000]], device='cuda:0')\n",
              "id: None\n",
              "is_track: False\n",
              "orig_shape: (576, 1024)\n",
              "shape: torch.Size([1, 6])\n",
              "xywh: tensor([[299.5048, 282.2725, 134.4684,  95.3473]], device='cuda:0')\n",
              "xywhn: tensor([[0.2925, 0.4901, 0.1313, 0.1655]], device='cuda:0')\n",
              "xyxy: tensor([[232.2707, 234.5989, 366.7390, 329.9462]], device='cuda:0')\n",
              "xyxyn: tensor([[0.2268, 0.4073, 0.3581, 0.5728]], device='cuda:0')"
            ]
          },
          "metadata": {},
          "execution_count": 23
        }
      ]
    },
    {
      "cell_type": "code",
      "source": [],
      "metadata": {
        "id": "HTZp5Wj1h-oJ"
      },
      "execution_count": null,
      "outputs": []
    }
  ]
}